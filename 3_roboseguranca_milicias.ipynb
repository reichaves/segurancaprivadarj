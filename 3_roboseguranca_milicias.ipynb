{
 "cells": [
  {
   "cell_type": "code",
   "execution_count": null,
   "metadata": {},
   "outputs": [],
   "source": [
    "# -*- coding: utf-8\n",
    "# The Intercept Brasil (https://theintercept.com/brasil/)\n",
    "# Reinaldo Chaves (@paidatocandeira)\n",
    "# Verifica se sócios ou administradores de empresas encontradas podem ter nomes de milicianos investigados\n",
    "#"
   ]
  },
  {
   "cell_type": "code",
   "execution_count": null,
   "metadata": {},
   "outputs": [],
   "source": []
  },
  {
   "cell_type": "code",
   "execution_count": 1,
   "metadata": {},
   "outputs": [],
   "source": [
    "import pandas as pd\n",
    "import unidecode"
   ]
  },
  {
   "cell_type": "code",
   "execution_count": null,
   "metadata": {},
   "outputs": [],
   "source": []
  },
  {
   "cell_type": "markdown",
   "metadata": {},
   "source": [
    "Função para retirar acentuação de nomes"
   ]
  },
  {
   "cell_type": "code",
   "execution_count": 2,
   "metadata": {},
   "outputs": [],
   "source": [
    "def f(str):\n",
    "    return (unidecode.unidecode(str))"
   ]
  },
  {
   "cell_type": "code",
   "execution_count": null,
   "metadata": {},
   "outputs": [],
   "source": []
  },
  {
   "cell_type": "markdown",
   "metadata": {},
   "source": [
    "O arquivo gerado em etapas anteriores foi checado, limpo e preenchido manualmente. Carrega o resultado"
   ]
  },
  {
   "cell_type": "code",
   "execution_count": 3,
   "metadata": {},
   "outputs": [],
   "source": [
    "empres_segur = pd.read_csv(\"empresas_de_seguranca_consolidado_final.csv\",sep=',',encoding = 'utf-8', converters={'cnpj': lambda x: str(x)})"
   ]
  },
  {
   "cell_type": "code",
   "execution_count": 4,
   "metadata": {},
   "outputs": [
    {
     "name": "stdout",
     "output_type": "stream",
     "text": [
      "<class 'pandas.core.frame.DataFrame'>\n",
      "RangeIndex: 1229 entries, 0 to 1228\n",
      "Data columns (total 30 columns):\n",
      "cnpj                                1229 non-null object\n",
      "CNAE_principal                      1176 non-null object\n",
      "nome_empresa                        1229 non-null object\n",
      "nome_empresa_maiuscula_minuscula    1004 non-null object\n",
      "estado                              1004 non-null object\n",
      "indicador                           1147 non-null float64\n",
      "documento                           1147 non-null object\n",
      "qualificacao                        1147 non-null object\n",
      "socio                               1153 non-null object\n",
      "socio_maiuscula_minuscula           1008 non-null object\n",
      "data_abertura                       1229 non-null object\n",
      "logradouro                          1229 non-null object\n",
      "numero_logradouro                   1229 non-null object\n",
      "complemento                         689 non-null object\n",
      "cep                                 1001 non-null object\n",
      "bairro                              1227 non-null object\n",
      "municipio                           1229 non-null object\n",
      "regiao                              531 non-null object\n",
      "telefone                            827 non-null object\n",
      "email                               368 non-null object\n",
      "situacao                            1229 non-null object\n",
      "data_situacao_baixa                 498 non-null object\n",
      "capital_social                      908 non-null object\n",
      "Unnamed: 23                         2 non-null object\n",
      "cargo_relacionado_socio             200 non-null object\n",
      "observacao                          338 non-null object\n",
      "situacao_funcional                  174 non-null object\n",
      "sede_situacao                       148 non-null object\n",
      "armas_autorizadas                   1 non-null object\n",
      "autorizacao_pf                      254 non-null object\n",
      "dtypes: float64(1), object(29)\n",
      "memory usage: 288.1+ KB\n"
     ]
    }
   ],
   "source": [
    "empres_segur.info()"
   ]
  },
  {
   "cell_type": "code",
   "execution_count": null,
   "metadata": {},
   "outputs": [],
   "source": []
  },
  {
   "cell_type": "markdown",
   "metadata": {},
   "source": [
    "Arquivos com nome de indiciados na CPI das Milícias. O relatório com os nomes está aqui: http://www.marcelofreixo.com.br/cpi-das-milicias"
   ]
  },
  {
   "cell_type": "code",
   "execution_count": 5,
   "metadata": {},
   "outputs": [],
   "source": [
    "milicianos = pd.read_csv(\"cpi_milicias_indiciados.csv\",sep=';',encoding = 'utf-8')"
   ]
  },
  {
   "cell_type": "code",
   "execution_count": 6,
   "metadata": {},
   "outputs": [
    {
     "name": "stdout",
     "output_type": "stream",
     "text": [
      "<class 'pandas.core.frame.DataFrame'>\n",
      "RangeIndex: 226 entries, 0 to 225\n",
      "Data columns (total 9 columns):\n",
      "nome             226 non-null object\n",
      "nome_ajustado    226 non-null object\n",
      "cargo            94 non-null object\n",
      "area             226 non-null object\n",
      "vulgo            85 non-null object\n",
      "paradeiro        21 non-null object\n",
      "matricula        4 non-null object\n",
      "cpf              11 non-null object\n",
      "rg               13 non-null object\n",
      "dtypes: object(9)\n",
      "memory usage: 16.0+ KB\n"
     ]
    }
   ],
   "source": [
    "milicianos.info()"
   ]
  },
  {
   "cell_type": "code",
   "execution_count": 7,
   "metadata": {},
   "outputs": [],
   "source": [
    "milicianos[\"nome_ajustado\"] = milicianos[\"nome_ajustado\"].apply(f)"
   ]
  },
  {
   "cell_type": "code",
   "execution_count": 8,
   "metadata": {},
   "outputs": [
    {
     "data": {
      "text/html": [
       "<div>\n",
       "<style scoped>\n",
       "    .dataframe tbody tr th:only-of-type {\n",
       "        vertical-align: middle;\n",
       "    }\n",
       "\n",
       "    .dataframe tbody tr th {\n",
       "        vertical-align: top;\n",
       "    }\n",
       "\n",
       "    .dataframe thead th {\n",
       "        text-align: right;\n",
       "    }\n",
       "</style>\n",
       "<table border=\"1\" class=\"dataframe\">\n",
       "  <thead>\n",
       "    <tr style=\"text-align: right;\">\n",
       "      <th></th>\n",
       "      <th>index</th>\n",
       "      <th>nome</th>\n",
       "      <th>nome_ajustado</th>\n",
       "      <th>cargo</th>\n",
       "      <th>area</th>\n",
       "      <th>vulgo</th>\n",
       "      <th>paradeiro</th>\n",
       "      <th>matricula</th>\n",
       "      <th>cpf</th>\n",
       "      <th>rg</th>\n",
       "    </tr>\n",
       "  </thead>\n",
       "  <tbody>\n",
       "    <tr>\n",
       "      <th>0</th>\n",
       "      <td>0</td>\n",
       "      <td>Alvaro Lins dos Santos</td>\n",
       "      <td>ALVARO LINS DOS SANTOS</td>\n",
       "      <td>Ex-Chefe da Polícia Civil e ex-Deputado Estadu...</td>\n",
       "      <td>Política</td>\n",
       "      <td>NaN</td>\n",
       "      <td>NaN</td>\n",
       "      <td>NaN</td>\n",
       "      <td>NaN</td>\n",
       "      <td>NaN</td>\n",
       "    </tr>\n",
       "    <tr>\n",
       "      <th>1</th>\n",
       "      <td>1</td>\n",
       "      <td>Odinei Fernando da Silva</td>\n",
       "      <td>ODINEI FERNANDO DA SILVA</td>\n",
       "      <td>Inspetor</td>\n",
       "      <td>Polícia Civil</td>\n",
       "      <td>“Águia” ou “Zero Um”</td>\n",
       "      <td>Estaria lotado na 22° DP</td>\n",
       "      <td>NaN</td>\n",
       "      <td>NaN</td>\n",
       "      <td>NaN</td>\n",
       "    </tr>\n",
       "    <tr>\n",
       "      <th>2</th>\n",
       "      <td>2</td>\n",
       "      <td>Fábio Menezes Leão</td>\n",
       "      <td>FABIO MENEZES LEAO</td>\n",
       "      <td>Inspetor</td>\n",
       "      <td>Polícia Civil</td>\n",
       "      <td>NaN</td>\n",
       "      <td>NaN</td>\n",
       "      <td>NaN</td>\n",
       "      <td>NaN</td>\n",
       "      <td>NaN</td>\n",
       "    </tr>\n",
       "    <tr>\n",
       "      <th>3</th>\n",
       "      <td>3</td>\n",
       "      <td>Jairo Mello de Souza</td>\n",
       "      <td>JAIRO MELLO DE SOUZA</td>\n",
       "      <td>Inspetor</td>\n",
       "      <td>Polícia Civil</td>\n",
       "      <td>NaN</td>\n",
       "      <td>NaN</td>\n",
       "      <td>176.401-8</td>\n",
       "      <td>NaN</td>\n",
       "      <td>NaN</td>\n",
       "    </tr>\n",
       "    <tr>\n",
       "      <th>4</th>\n",
       "      <td>4</td>\n",
       "      <td>Wallace de Almeida Pires</td>\n",
       "      <td>WALLACE DE ALMEIDA PIRES</td>\n",
       "      <td>Inspetor</td>\n",
       "      <td>Polícia Civil</td>\n",
       "      <td>“Wallace” ou “Robocop”</td>\n",
       "      <td>NaN</td>\n",
       "      <td>NaN</td>\n",
       "      <td>NaN</td>\n",
       "      <td>NaN</td>\n",
       "    </tr>\n",
       "  </tbody>\n",
       "</table>\n",
       "</div>"
      ],
      "text/plain": [
       "   index                      nome             nome_ajustado  \\\n",
       "0      0    Alvaro Lins dos Santos    ALVARO LINS DOS SANTOS   \n",
       "1      1  Odinei Fernando da Silva  ODINEI FERNANDO DA SILVA   \n",
       "2      2        Fábio Menezes Leão        FABIO MENEZES LEAO   \n",
       "3      3      Jairo Mello de Souza      JAIRO MELLO DE SOUZA   \n",
       "4      4  Wallace de Almeida Pires  WALLACE DE ALMEIDA PIRES   \n",
       "\n",
       "                                               cargo           area  \\\n",
       "0  Ex-Chefe da Polícia Civil e ex-Deputado Estadu...       Política   \n",
       "1                                           Inspetor  Polícia Civil   \n",
       "2                                           Inspetor  Polícia Civil   \n",
       "3                                           Inspetor  Polícia Civil   \n",
       "4                                           Inspetor  Polícia Civil   \n",
       "\n",
       "                    vulgo                 paradeiro  matricula  cpf   rg  \n",
       "0                     NaN                       NaN        NaN  NaN  NaN  \n",
       "1    “Águia” ou “Zero Um”  Estaria lotado na 22° DP        NaN  NaN  NaN  \n",
       "2                     NaN                       NaN        NaN  NaN  NaN  \n",
       "3                     NaN                       NaN  176.401-8  NaN  NaN  \n",
       "4  “Wallace” ou “Robocop”                       NaN        NaN  NaN  NaN  "
      ]
     },
     "execution_count": 8,
     "metadata": {},
     "output_type": "execute_result"
    }
   ],
   "source": [
    "milicianos.reset_index().head()"
   ]
  },
  {
   "cell_type": "code",
   "execution_count": null,
   "metadata": {},
   "outputs": [],
   "source": []
  },
  {
   "cell_type": "markdown",
   "metadata": {},
   "source": [
    "Verifica se os nomes estão nas duas listas"
   ]
  },
  {
   "cell_type": "code",
   "execution_count": 9,
   "metadata": {},
   "outputs": [],
   "source": [
    "encontrados_segura = pd.merge(milicianos, empres_segur, left_on='nome_ajustado', right_on='socio')"
   ]
  },
  {
   "cell_type": "code",
   "execution_count": 10,
   "metadata": {},
   "outputs": [
    {
     "name": "stdout",
     "output_type": "stream",
     "text": [
      "<class 'pandas.core.frame.DataFrame'>\n",
      "Index: 0 entries\n",
      "Data columns (total 39 columns):\n",
      "nome                                0 non-null object\n",
      "nome_ajustado                       0 non-null object\n",
      "cargo                               0 non-null object\n",
      "area                                0 non-null object\n",
      "vulgo                               0 non-null object\n",
      "paradeiro                           0 non-null object\n",
      "matricula                           0 non-null object\n",
      "cpf                                 0 non-null object\n",
      "rg                                  0 non-null object\n",
      "cnpj                                0 non-null object\n",
      "CNAE_principal                      0 non-null object\n",
      "nome_empresa                        0 non-null object\n",
      "nome_empresa_maiuscula_minuscula    0 non-null object\n",
      "estado                              0 non-null object\n",
      "indicador                           0 non-null float64\n",
      "documento                           0 non-null object\n",
      "qualificacao                        0 non-null object\n",
      "socio                               0 non-null object\n",
      "socio_maiuscula_minuscula           0 non-null object\n",
      "data_abertura                       0 non-null object\n",
      "logradouro                          0 non-null object\n",
      "numero_logradouro                   0 non-null object\n",
      "complemento                         0 non-null object\n",
      "cep                                 0 non-null object\n",
      "bairro                              0 non-null object\n",
      "municipio                           0 non-null object\n",
      "regiao                              0 non-null object\n",
      "telefone                            0 non-null object\n",
      "email                               0 non-null object\n",
      "situacao                            0 non-null object\n",
      "data_situacao_baixa                 0 non-null object\n",
      "capital_social                      0 non-null object\n",
      "Unnamed: 23                         0 non-null object\n",
      "cargo_relacionado_socio             0 non-null object\n",
      "observacao                          0 non-null object\n",
      "situacao_funcional                  0 non-null object\n",
      "sede_situacao                       0 non-null object\n",
      "armas_autorizadas                   0 non-null object\n",
      "autorizacao_pf                      0 non-null object\n",
      "dtypes: float64(1), object(38)\n",
      "memory usage: 0.0+ bytes\n"
     ]
    }
   ],
   "source": [
    "encontrados_segura.info()"
   ]
  },
  {
   "cell_type": "code",
   "execution_count": null,
   "metadata": {},
   "outputs": [],
   "source": []
  }
 ],
 "metadata": {
  "kernelspec": {
   "display_name": "Python 3",
   "language": "python",
   "name": "python3"
  },
  "language_info": {
   "codemirror_mode": {
    "name": "ipython",
    "version": 3
   },
   "file_extension": ".py",
   "mimetype": "text/x-python",
   "name": "python",
   "nbconvert_exporter": "python",
   "pygments_lexer": "ipython3",
   "version": "3.6.2"
  }
 },
 "nbformat": 4,
 "nbformat_minor": 2
}
