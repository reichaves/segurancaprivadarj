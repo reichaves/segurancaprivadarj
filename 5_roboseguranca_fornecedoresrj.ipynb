{
 "cells": [
  {
   "cell_type": "code",
   "execution_count": 1,
   "metadata": {},
   "outputs": [],
   "source": [
    "# -*- coding: utf-8\n",
    "# The Intercept Brasil (https://theintercept.com/brasil/)\n",
    "# Reinaldo Chaves (@paidatocandeira)\n",
    "# Verifica se empresas encontradas tiveram ordem bancárias recentes com o governo do RJ\n",
    "#"
   ]
  },
  {
   "cell_type": "code",
   "execution_count": null,
   "metadata": {},
   "outputs": [],
   "source": []
  },
  {
   "cell_type": "code",
   "execution_count": 58,
   "metadata": {},
   "outputs": [],
   "source": [
    "import pandas as pd\n",
    "import unidecode\n",
    "from pathlib import Path"
   ]
  },
  {
   "cell_type": "code",
   "execution_count": null,
   "metadata": {},
   "outputs": [],
   "source": []
  },
  {
   "cell_type": "markdown",
   "metadata": {},
   "source": [
    "Função para retirar acentuação de nomes"
   ]
  },
  {
   "cell_type": "code",
   "execution_count": 59,
   "metadata": {},
   "outputs": [],
   "source": [
    "def f(str):\n",
    "    return (unidecode.unidecode(str))"
   ]
  },
  {
   "cell_type": "code",
   "execution_count": null,
   "metadata": {},
   "outputs": [],
   "source": []
  },
  {
   "cell_type": "markdown",
   "metadata": {},
   "source": [
    "Função para ler a pasta com as Ordens Bancárias"
   ]
  },
  {
   "cell_type": "code",
   "execution_count": 60,
   "metadata": {},
   "outputs": [],
   "source": [
    "def _reader_for(fname):\n",
    "    return pd.read_csv(fname, sep=';', header=0, encoding='latin_1', decimal = \",\", converters={'Favorecido': lambda x: str(x)})"
   ]
  },
  {
   "cell_type": "code",
   "execution_count": null,
   "metadata": {},
   "outputs": [],
   "source": []
  },
  {
   "cell_type": "markdown",
   "metadata": {},
   "source": [
    "Função para checar se todos os CNPJ têm 14 dígitos"
   ]
  },
  {
   "cell_type": "code",
   "execution_count": 61,
   "metadata": {},
   "outputs": [],
   "source": [
    "def compara(linha):\n",
    "    if len(linha['cnpj']) < 14:\n",
    "        conta = 14 - (len(linha['cnpj']))\n",
    "        zero = '0'\n",
    "        zeros = zero * conta\n",
    "        alterado = zeros + linha['cnpj']\n",
    "    else:\n",
    "        alterado = linha['cnpj']\n",
    "    return alterado"
   ]
  },
  {
   "cell_type": "code",
   "execution_count": null,
   "metadata": {},
   "outputs": [],
   "source": []
  },
  {
   "cell_type": "markdown",
   "metadata": {},
   "source": [
    "Dados de Ordens Bancárias obtidos em http://www.transparencia.rj.gov.br/transparencia/faces/OrcamentoTematico/fornecedor"
   ]
  },
  {
   "cell_type": "markdown",
   "metadata": {},
   "source": [
    "Entre janeiro de 2017 e abril de 2018"
   ]
  },
  {
   "cell_type": "code",
   "execution_count": 62,
   "metadata": {},
   "outputs": [],
   "source": [
    "folder = Path(\"fornecedores_rj\")\n",
    "fornecedores_rj = pd.concat([\n",
    "    _reader_for(csv)\n",
    "    for csv in folder.glob(\"*.csv\")\n",
    "])"
   ]
  },
  {
   "cell_type": "code",
   "execution_count": 63,
   "metadata": {},
   "outputs": [],
   "source": [
    "fornecedores_rj.rename(columns={'Valor OB':'Valor_OB'}, inplace=True)"
   ]
  },
  {
   "cell_type": "code",
   "execution_count": 64,
   "metadata": {},
   "outputs": [
    {
     "name": "stdout",
     "output_type": "stream",
     "text": [
      "<class 'pandas.core.frame.DataFrame'>\n",
      "Int64Index: 139036 entries, 0 to 9591\n",
      "Data columns (total 11 columns):\n",
      "Data do Pagamento    139036 non-null object\n",
      "Favorecido           139036 non-null object\n",
      "Nome Favorecido      139036 non-null object\n",
      "UG                   139036 non-null int64\n",
      "Título UG            139036 non-null object\n",
      "Código Órgão         139036 non-null int64\n",
      "Órgão                139036 non-null object\n",
      "OB                   139036 non-null object\n",
      "Histórico            139036 non-null object\n",
      "Valor_OB             139036 non-null object\n",
      "Unnamed: 10          0 non-null float64\n",
      "dtypes: float64(1), int64(2), object(8)\n",
      "memory usage: 12.7+ MB\n"
     ]
    }
   ],
   "source": [
    "fornecedores_rj.info()"
   ]
  },
  {
   "cell_type": "code",
   "execution_count": 65,
   "metadata": {},
   "outputs": [
    {
     "data": {
      "text/html": [
       "<div>\n",
       "<style scoped>\n",
       "    .dataframe tbody tr th:only-of-type {\n",
       "        vertical-align: middle;\n",
       "    }\n",
       "\n",
       "    .dataframe tbody tr th {\n",
       "        vertical-align: top;\n",
       "    }\n",
       "\n",
       "    .dataframe thead th {\n",
       "        text-align: right;\n",
       "    }\n",
       "</style>\n",
       "<table border=\"1\" class=\"dataframe\">\n",
       "  <thead>\n",
       "    <tr style=\"text-align: right;\">\n",
       "      <th></th>\n",
       "      <th>index</th>\n",
       "      <th>Data do Pagamento</th>\n",
       "      <th>Favorecido</th>\n",
       "      <th>Nome Favorecido</th>\n",
       "      <th>UG</th>\n",
       "      <th>Título UG</th>\n",
       "      <th>Código Órgão</th>\n",
       "      <th>Órgão</th>\n",
       "      <th>OB</th>\n",
       "      <th>Histórico</th>\n",
       "      <th>Valor_OB</th>\n",
       "      <th>Unnamed: 10</th>\n",
       "    </tr>\n",
       "  </thead>\n",
       "  <tbody>\n",
       "    <tr>\n",
       "      <th>0</th>\n",
       "      <td>0</td>\n",
       "      <td>01/02/2018</td>\n",
       "      <td>02150336000166</td>\n",
       "      <td>Aguas de Niteroi S/A</td>\n",
       "      <td>36100</td>\n",
       "      <td>FUNDO ESPECIAL DO TRIBUNAL DE JUSTICA</td>\n",
       "      <td>3</td>\n",
       "      <td>FUNDO ESPECIAL DO TRIBUNAL DE JUSTICA</td>\n",
       "      <td>2018OB01389</td>\n",
       "      <td>LIQUIDAÇÃO DO (S)  DOCUMENTO (S)  700019707 CO...</td>\n",
       "      <td>24.756,57</td>\n",
       "      <td>nan</td>\n",
       "    </tr>\n",
       "    <tr>\n",
       "      <th>1</th>\n",
       "      <td>1</td>\n",
       "      <td>01/02/2018</td>\n",
       "      <td>11286829000119</td>\n",
       "      <td>BH FILTROS, BEBEDOUROS E PURIF DE AGUA LTDA-ME</td>\n",
       "      <td>20100</td>\n",
       "      <td>TRIBUNAL DE CONTAS</td>\n",
       "      <td>2</td>\n",
       "      <td>Tribunal de Contas do Estado do Rio de Janeiro</td>\n",
       "      <td>2018OB00090</td>\n",
       "      <td>PAGAMENTO DO (S)  DOCUMENTO (S)  N.F.4154/17 C...</td>\n",
       "      <td>1.438,80</td>\n",
       "      <td>nan</td>\n",
       "    </tr>\n",
       "    <tr>\n",
       "      <th>2</th>\n",
       "      <td>2</td>\n",
       "      <td>01/02/2018</td>\n",
       "      <td>29884632000147</td>\n",
       "      <td>Infotec Consultoria E Planejamento Ltda.</td>\n",
       "      <td>36100</td>\n",
       "      <td>FUNDO ESPECIAL DO TRIBUNAL DE JUSTICA</td>\n",
       "      <td>3</td>\n",
       "      <td>FUNDO ESPECIAL DO TRIBUNAL DE JUSTICA</td>\n",
       "      <td>2018OB01380</td>\n",
       "      <td>LIQUIDAÇÃO DO (S)  DOCUMENTO (S)  5314 CONFORM...</td>\n",
       "      <td>163.856,00</td>\n",
       "      <td>nan</td>\n",
       "    </tr>\n",
       "    <tr>\n",
       "      <th>3</th>\n",
       "      <td>3</td>\n",
       "      <td>01/02/2018</td>\n",
       "      <td>14470588000151</td>\n",
       "      <td>SERVIOESTE RIO DE JANEIRO LTDA</td>\n",
       "      <td>266500</td>\n",
       "      <td>FUNDO DA POLICIA MILITAR DO ERJ</td>\n",
       "      <td>26</td>\n",
       "      <td>FUNDO ESPECIAL DA POLICIA MILITAR DO ERJ</td>\n",
       "      <td>2018OB00335</td>\n",
       "      <td>LIQUIDAÇÃO DO (S)  DOCUMENTO (S)  05 CONFORME ...</td>\n",
       "      <td>29,19</td>\n",
       "      <td>nan</td>\n",
       "    </tr>\n",
       "    <tr>\n",
       "      <th>4</th>\n",
       "      <td>4</td>\n",
       "      <td>01/02/2018</td>\n",
       "      <td>72734791000194</td>\n",
       "      <td>Quimiclean Comercio E Servicos Ltda-epp</td>\n",
       "      <td>20100</td>\n",
       "      <td>TRIBUNAL DE CONTAS</td>\n",
       "      <td>2</td>\n",
       "      <td>Tribunal de Contas do Estado do Rio de Janeiro</td>\n",
       "      <td>2018OB00108</td>\n",
       "      <td>PAGAMENTO DO (S)  DOCUMENTO (S)  N.F.5696/18 C...</td>\n",
       "      <td>830,92</td>\n",
       "      <td>nan</td>\n",
       "    </tr>\n",
       "  </tbody>\n",
       "</table>\n",
       "</div>"
      ],
      "text/plain": [
       "   index Data do Pagamento      Favorecido  \\\n",
       "0      0        01/02/2018  02150336000166   \n",
       "1      1        01/02/2018  11286829000119   \n",
       "2      2        01/02/2018  29884632000147   \n",
       "3      3        01/02/2018  14470588000151   \n",
       "4      4        01/02/2018  72734791000194   \n",
       "\n",
       "                                  Nome Favorecido      UG  \\\n",
       "0                            Aguas de Niteroi S/A   36100   \n",
       "1  BH FILTROS, BEBEDOUROS E PURIF DE AGUA LTDA-ME   20100   \n",
       "2        Infotec Consultoria E Planejamento Ltda.   36100   \n",
       "3                  SERVIOESTE RIO DE JANEIRO LTDA  266500   \n",
       "4         Quimiclean Comercio E Servicos Ltda-epp   20100   \n",
       "\n",
       "                               Título UG  Código Órgão  \\\n",
       "0  FUNDO ESPECIAL DO TRIBUNAL DE JUSTICA             3   \n",
       "1                     TRIBUNAL DE CONTAS             2   \n",
       "2  FUNDO ESPECIAL DO TRIBUNAL DE JUSTICA             3   \n",
       "3        FUNDO DA POLICIA MILITAR DO ERJ            26   \n",
       "4                     TRIBUNAL DE CONTAS             2   \n",
       "\n",
       "                                            Órgão           OB  \\\n",
       "0           FUNDO ESPECIAL DO TRIBUNAL DE JUSTICA  2018OB01389   \n",
       "1  Tribunal de Contas do Estado do Rio de Janeiro  2018OB00090   \n",
       "2           FUNDO ESPECIAL DO TRIBUNAL DE JUSTICA  2018OB01380   \n",
       "3        FUNDO ESPECIAL DA POLICIA MILITAR DO ERJ  2018OB00335   \n",
       "4  Tribunal de Contas do Estado do Rio de Janeiro  2018OB00108   \n",
       "\n",
       "                                           Histórico    Valor_OB  Unnamed: 10  \n",
       "0  LIQUIDAÇÃO DO (S)  DOCUMENTO (S)  700019707 CO...   24.756,57          nan  \n",
       "1  PAGAMENTO DO (S)  DOCUMENTO (S)  N.F.4154/17 C...    1.438,80          nan  \n",
       "2  LIQUIDAÇÃO DO (S)  DOCUMENTO (S)  5314 CONFORM...  163.856,00          nan  \n",
       "3  LIQUIDAÇÃO DO (S)  DOCUMENTO (S)  05 CONFORME ...       29,19          nan  \n",
       "4  PAGAMENTO DO (S)  DOCUMENTO (S)  N.F.5696/18 C...      830,92          nan  "
      ]
     },
     "execution_count": 65,
     "metadata": {},
     "output_type": "execute_result"
    }
   ],
   "source": [
    "fornecedores_rj.reset_index().head()"
   ]
  },
  {
   "cell_type": "code",
   "execution_count": null,
   "metadata": {},
   "outputs": [],
   "source": []
  },
  {
   "cell_type": "markdown",
   "metadata": {},
   "source": [
    "O arquivo gerado em etapas anteriores foi checado, limpo e preenchido manualmente. Carrega o resultado. São empresas em geral de segurança privada"
   ]
  },
  {
   "cell_type": "code",
   "execution_count": 84,
   "metadata": {},
   "outputs": [],
   "source": [
    "consolidado = pd.read_csv(\"empresas_de_seguranca_consolidado_final_nomes.csv\",sep=',',encoding = 'utf-8', converters={'cnpj': lambda x: str(x)})"
   ]
  },
  {
   "cell_type": "markdown",
   "metadata": {},
   "source": [
    "Filtra apenas empresas de seguranca privada que tenham sócios ou administradores vindo de forças de segurança"
   ]
  },
  {
   "cell_type": "code",
   "execution_count": 96,
   "metadata": {},
   "outputs": [],
   "source": [
    "policiais = consolidado[(consolidado['cargo_relacionado_socio'] == 'Administracao Penitenciaria') | \n",
    "                        (consolidado['cargo_relacionado_socio'] == 'Aeronautica') | \n",
    "                        (consolidado['cargo_relacionado_socio'] == 'Agente penitenciario') |  \n",
    "                        (consolidado['cargo_relacionado_socio'] == 'Bombeiros') | \n",
    "                        (consolidado['cargo_relacionado_socio'] == 'Empresario - ligado a policial civil') | \n",
    "                        (consolidado['cargo_relacionado_socio'] == 'Exercito') | \n",
    "                        (consolidado['cargo_relacionado_socio'] == 'Marinha') | \n",
    "                        (consolidado['cargo_relacionado_socio'] == 'Policia Civil') |  \n",
    "                        (consolidado['cargo_relacionado_socio'] == 'Policia Federal') | \n",
    "                        (consolidado['cargo_relacionado_socio'] == 'Policia Militar') | \n",
    "                        (consolidado['cargo_relacionado_socio'] == 'Secretario de Seguranca')]"
   ]
  },
  {
   "cell_type": "code",
   "execution_count": 97,
   "metadata": {},
   "outputs": [
    {
     "name": "stdout",
     "output_type": "stream",
     "text": [
      "<class 'pandas.core.frame.DataFrame'>\n",
      "Int64Index: 187 entries, 59 to 1222\n",
      "Data columns (total 30 columns):\n",
      "cnpj                                187 non-null object\n",
      "CNAE_principal                      177 non-null object\n",
      "nome_empresa                        187 non-null object\n",
      "nome_empresa_maiuscula_minuscula    157 non-null object\n",
      "estado                              157 non-null object\n",
      "indicador                           178 non-null float64\n",
      "documento                           178 non-null object\n",
      "qualificacao                        178 non-null object\n",
      "socio                               181 non-null object\n",
      "socio_maiuscula_minuscula           160 non-null object\n",
      "data_abertura                       187 non-null object\n",
      "logradouro                          187 non-null object\n",
      "numero_logradouro                   187 non-null object\n",
      "complemento                         99 non-null object\n",
      "cep                                 129 non-null object\n",
      "bairro                              187 non-null object\n",
      "municipio                           187 non-null object\n",
      "regiao                              123 non-null object\n",
      "telefone                            108 non-null object\n",
      "email                               58 non-null object\n",
      "situacao                            187 non-null object\n",
      "data_situacao_baixa                 71 non-null object\n",
      "capital_social                      142 non-null object\n",
      "Unnamed: 23                         2 non-null object\n",
      "cargo_relacionado_socio             187 non-null object\n",
      "observacao                          185 non-null object\n",
      "situacao_funcional                  172 non-null object\n",
      "sede_situacao                       137 non-null object\n",
      "armas_autorizadas                   1 non-null object\n",
      "autorizacao_pf                      54 non-null object\n",
      "dtypes: float64(1), object(29)\n",
      "memory usage: 45.3+ KB\n"
     ]
    }
   ],
   "source": [
    "policiais.info()"
   ]
  },
  {
   "cell_type": "code",
   "execution_count": null,
   "metadata": {},
   "outputs": [],
   "source": []
  },
  {
   "cell_type": "markdown",
   "metadata": {},
   "source": [
    "Cruza em busca de fornecedores"
   ]
  },
  {
   "cell_type": "code",
   "execution_count": 98,
   "metadata": {},
   "outputs": [
    {
     "name": "stderr",
     "output_type": "stream",
     "text": [
      "/home/reinaldo/Documentos/Code/intercept/seguranca/lib/python3.6/site-packages/ipykernel_launcher.py:3: SettingWithCopyWarning: \n",
      "A value is trying to be set on a copy of a slice from a DataFrame.\n",
      "Try using .loc[row_indexer,col_indexer] = value instead\n",
      "\n",
      "See the caveats in the documentation: http://pandas.pydata.org/pandas-docs/stable/indexing.html#indexing-view-versus-copy\n",
      "  This is separate from the ipykernel package so we can avoid doing imports until\n"
     ]
    }
   ],
   "source": [
    "nova = policiais.apply(compara, axis=1) #lê dataframe e chama a função\n",
    "\n",
    "policiais['cnpj_inteiro'] = nova "
   ]
  },
  {
   "cell_type": "code",
   "execution_count": 99,
   "metadata": {},
   "outputs": [],
   "source": [
    "pagamentos = pd.merge(policiais.drop_duplicates('cnpj_inteiro'), fornecedores_rj, left_on='cnpj_inteiro', right_on='Favorecido')"
   ]
  },
  {
   "cell_type": "code",
   "execution_count": 100,
   "metadata": {},
   "outputs": [
    {
     "name": "stdout",
     "output_type": "stream",
     "text": [
      "<class 'pandas.core.frame.DataFrame'>\n",
      "Int64Index: 269 entries, 0 to 268\n",
      "Data columns (total 42 columns):\n",
      "cnpj                                269 non-null object\n",
      "CNAE_principal                      269 non-null object\n",
      "nome_empresa                        269 non-null object\n",
      "nome_empresa_maiuscula_minuscula    269 non-null object\n",
      "estado                              269 non-null object\n",
      "indicador                           269 non-null float64\n",
      "documento                           269 non-null object\n",
      "qualificacao                        269 non-null object\n",
      "socio                               269 non-null object\n",
      "socio_maiuscula_minuscula           269 non-null object\n",
      "data_abertura                       269 non-null object\n",
      "logradouro                          269 non-null object\n",
      "numero_logradouro                   269 non-null object\n",
      "complemento                         0 non-null object\n",
      "cep                                 37 non-null object\n",
      "bairro                              269 non-null object\n",
      "municipio                           269 non-null object\n",
      "regiao                              0 non-null object\n",
      "telefone                            37 non-null object\n",
      "email                               37 non-null object\n",
      "situacao                            269 non-null object\n",
      "data_situacao_baixa                 0 non-null object\n",
      "capital_social                      269 non-null object\n",
      "Unnamed: 23                         0 non-null object\n",
      "cargo_relacionado_socio             269 non-null object\n",
      "observacao                          269 non-null object\n",
      "situacao_funcional                  232 non-null object\n",
      "sede_situacao                       232 non-null object\n",
      "armas_autorizadas                   0 non-null object\n",
      "autorizacao_pf                      269 non-null object\n",
      "cnpj_inteiro                        269 non-null object\n",
      "Data do Pagamento                   269 non-null object\n",
      "Favorecido                          269 non-null object\n",
      "Nome Favorecido                     269 non-null object\n",
      "UG                                  269 non-null int64\n",
      "Título UG                           269 non-null object\n",
      "Código Órgão                        269 non-null int64\n",
      "Órgão                               269 non-null object\n",
      "OB                                  269 non-null object\n",
      "Histórico                           269 non-null object\n",
      "Valor_OB                            269 non-null object\n",
      "Unnamed: 10                         0 non-null float64\n",
      "dtypes: float64(2), int64(2), object(38)\n",
      "memory usage: 90.4+ KB\n"
     ]
    }
   ],
   "source": [
    "pagamentos.info()"
   ]
  },
  {
   "cell_type": "code",
   "execution_count": 101,
   "metadata": {},
   "outputs": [],
   "source": [
    "pagamentos.to_csv('pagamentos_fornecedores_seguranca_rj.csv', index=False, decimal=',')"
   ]
  },
  {
   "cell_type": "code",
   "execution_count": null,
   "metadata": {},
   "outputs": [],
   "source": []
  },
  {
   "cell_type": "markdown",
   "metadata": {},
   "source": [
    "Rotina para transformar valor em float"
   ]
  },
  {
   "cell_type": "code",
   "execution_count": 102,
   "metadata": {},
   "outputs": [],
   "source": [
    "def limpeza1(linha):\n",
    "    valor = linha[\"Valor_OB\"]\n",
    "    valor = valor.strip()\n",
    "    valor = valor.replace('.', '')\n",
    "    valor = valor.replace(',', '.')\n",
    "    return str(valor)"
   ]
  },
  {
   "cell_type": "code",
   "execution_count": 103,
   "metadata": {},
   "outputs": [],
   "source": [
    "pagamentos[\"Valor_OB\"] = pagamentos.apply(limpeza1, axis=1)"
   ]
  },
  {
   "cell_type": "code",
   "execution_count": 104,
   "metadata": {},
   "outputs": [],
   "source": [
    "pagamentos['Valor_OB'] = pagamentos.Valor_OB.astype('float64')"
   ]
  },
  {
   "cell_type": "code",
   "execution_count": 105,
   "metadata": {},
   "outputs": [],
   "source": [
    "pd.options.display.float_format = '{:,.2f}'.format"
   ]
  },
  {
   "cell_type": "code",
   "execution_count": null,
   "metadata": {},
   "outputs": [],
   "source": []
  },
  {
   "cell_type": "markdown",
   "metadata": {},
   "source": [
    "Empresas com maiores pagamentos"
   ]
  },
  {
   "cell_type": "code",
   "execution_count": 106,
   "metadata": {},
   "outputs": [
    {
     "data": {
      "text/html": [
       "<div>\n",
       "<style scoped>\n",
       "    .dataframe tbody tr th:only-of-type {\n",
       "        vertical-align: middle;\n",
       "    }\n",
       "\n",
       "    .dataframe tbody tr th {\n",
       "        vertical-align: top;\n",
       "    }\n",
       "\n",
       "    .dataframe thead th {\n",
       "        text-align: right;\n",
       "    }\n",
       "</style>\n",
       "<table border=\"1\" class=\"dataframe\">\n",
       "  <thead>\n",
       "    <tr style=\"text-align: right;\">\n",
       "      <th></th>\n",
       "      <th>Nome Favorecido</th>\n",
       "      <th>Valor_OB</th>\n",
       "    </tr>\n",
       "  </thead>\n",
       "  <tbody>\n",
       "    <tr>\n",
       "      <th>1</th>\n",
       "      <td>Persona Vigilancia E Seguranca Ltda</td>\n",
       "      <td>13,604,790.76</td>\n",
       "    </tr>\n",
       "    <tr>\n",
       "      <th>0</th>\n",
       "      <td>Best Vigilancia E Seguranca Ltda</td>\n",
       "      <td>4,721,617.43</td>\n",
       "    </tr>\n",
       "    <tr>\n",
       "      <th>2</th>\n",
       "      <td>RIOFORTE VIGILÂNCIA E SEGURANÇA PRIVADA LTDA EPP</td>\n",
       "      <td>516,782.62</td>\n",
       "    </tr>\n",
       "  </tbody>\n",
       "</table>\n",
       "</div>"
      ],
      "text/plain": [
       "                                    Nome Favorecido      Valor_OB\n",
       "1               Persona Vigilancia E Seguranca Ltda 13,604,790.76\n",
       "0                  Best Vigilancia E Seguranca Ltda  4,721,617.43\n",
       "2  RIOFORTE VIGILÂNCIA E SEGURANÇA PRIVADA LTDA EPP    516,782.62"
      ]
     },
     "execution_count": 106,
     "metadata": {},
     "output_type": "execute_result"
    }
   ],
   "source": [
    "pagamentos.groupby(\"Nome Favorecido\").Valor_OB.sum().reset_index().sort_values(\"Valor_OB\", ascending=False)"
   ]
  },
  {
   "cell_type": "code",
   "execution_count": null,
   "metadata": {},
   "outputs": [],
   "source": []
  }
 ],
 "metadata": {
  "kernelspec": {
   "display_name": "Python 3",
   "language": "python",
   "name": "python3"
  },
  "language_info": {
   "codemirror_mode": {
    "name": "ipython",
    "version": 3
   },
   "file_extension": ".py",
   "mimetype": "text/x-python",
   "name": "python",
   "nbconvert_exporter": "python",
   "pygments_lexer": "ipython3",
   "version": "3.6.2"
  }
 },
 "nbformat": 4,
 "nbformat_minor": 2
}
