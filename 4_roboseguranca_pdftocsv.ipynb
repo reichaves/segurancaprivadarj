{
 "cells": [
  {
   "cell_type": "code",
   "execution_count": 1,
   "metadata": {},
   "outputs": [],
   "source": [
    "# -*- coding: utf-8\n",
    "# The Intercept Brasil (https://theintercept.com/brasil/)\n",
    "# Reinaldo Chaves (@paidatocandeira)\n",
    "# Verifica se sócios ou administradores de empresas encontradas são servidores estaduais do RJ\n",
    "#"
   ]
  },
  {
   "cell_type": "code",
   "execution_count": null,
   "metadata": {},
   "outputs": [],
   "source": []
  },
  {
   "cell_type": "code",
   "execution_count": 1,
   "metadata": {},
   "outputs": [],
   "source": [
    "import tabula\n",
    "import pandas as pd"
   ]
  },
  {
   "cell_type": "code",
   "execution_count": null,
   "metadata": {},
   "outputs": [],
   "source": []
  },
  {
   "cell_type": "markdown",
   "metadata": {},
   "source": [
    "Com uma lista de nomes de servidores estaduais obtida com o governo do Rio vamos extrair os nomes que estão no PDF"
   ]
  },
  {
   "cell_type": "markdown",
   "metadata": {},
   "source": [
    "Gera CSV do PDF de servidores ativos - é um PDF grande para entrar no github"
   ]
  },
  {
   "cell_type": "markdown",
   "metadata": {},
   "source": [
    "# Ativos"
   ]
  },
  {
   "cell_type": "code",
   "execution_count": null,
   "metadata": {},
   "outputs": [],
   "source": [
    "dfs = []\n",
    "\n",
    "for i in range(1,6041, 300):\n",
    "    print(i, \"i inicial\")\n",
    "\n",
    "    i2 = i + 299\n",
    "\n",
    "    if i2 > 6041:\n",
    "        i2 = 6041\n",
    "\n",
    "    print(i)\n",
    "    print(i2)\n",
    "\n",
    "    try:\n",
    "        df = tabula.read_pdf(\"Ativos_Fevereiro_2018.pdf\", encoding='latin-1', spreadsheet=True, pages=(str(i)+'-'+str(i2)), header=0)\n",
    "        dfs.append(df)\n",
    "        print('Page ', len(df), ' parsed.')\n",
    "    except:\n",
    "        print('Error on page: ', i)\n",
    "\n",
    "output = pd.concat(dfs)\n",
    "output.to_csv('servidores_rj_ativos_fev_18.csv', encoding='utf-8', index=False)"
   ]
  },
  {
   "cell_type": "code",
   "execution_count": null,
   "metadata": {},
   "outputs": [],
   "source": []
  },
  {
   "cell_type": "code",
   "execution_count": 2,
   "metadata": {},
   "outputs": [],
   "source": [
    "servidores_ativos = pd.read_csv(\"servidores_rj_ativos_fev_18.csv\",sep=',',encoding = 'utf-8')"
   ]
  },
  {
   "cell_type": "code",
   "execution_count": 3,
   "metadata": {},
   "outputs": [
    {
     "name": "stdout",
     "output_type": "stream",
     "text": [
      "<class 'pandas.core.frame.DataFrame'>\n",
      "RangeIndex: 211393 entries, 0 to 211392\n",
      "Data columns (total 3 columns):\n",
      "Nome                211393 non-null object\n",
      "Tipo de VÃ­nculo    211393 non-null object\n",
      "Unnamed: 2          0 non-null float64\n",
      "dtypes: float64(1), object(2)\n",
      "memory usage: 4.8+ MB\n"
     ]
    }
   ],
   "source": [
    "servidores_ativos.info()"
   ]
  },
  {
   "cell_type": "code",
   "execution_count": null,
   "metadata": {},
   "outputs": [],
   "source": []
  },
  {
   "cell_type": "markdown",
   "metadata": {},
   "source": [
    "O arquivo gerado em etapas anteriores foi checado, limpo e preenchido manualmente. Carrega o resultado"
   ]
  },
  {
   "cell_type": "code",
   "execution_count": 4,
   "metadata": {},
   "outputs": [],
   "source": [
    "empres_segur = pd.read_csv(\"empresas_de_seguranca_consolidado_final.csv\",sep=',',encoding = 'utf-8', converters={'cnpj': lambda x: str(x)})"
   ]
  },
  {
   "cell_type": "code",
   "execution_count": 5,
   "metadata": {},
   "outputs": [
    {
     "name": "stdout",
     "output_type": "stream",
     "text": [
      "<class 'pandas.core.frame.DataFrame'>\n",
      "RangeIndex: 1229 entries, 0 to 1228\n",
      "Data columns (total 30 columns):\n",
      "cnpj                                1229 non-null object\n",
      "CNAE_principal                      1176 non-null object\n",
      "nome_empresa                        1229 non-null object\n",
      "nome_empresa_maiuscula_minuscula    1004 non-null object\n",
      "estado                              1004 non-null object\n",
      "indicador                           1147 non-null float64\n",
      "documento                           1147 non-null object\n",
      "qualificacao                        1147 non-null object\n",
      "socio                               1153 non-null object\n",
      "socio_maiuscula_minuscula           1008 non-null object\n",
      "data_abertura                       1229 non-null object\n",
      "logradouro                          1229 non-null object\n",
      "numero_logradouro                   1229 non-null object\n",
      "complemento                         689 non-null object\n",
      "cep                                 1001 non-null object\n",
      "bairro                              1227 non-null object\n",
      "municipio                           1229 non-null object\n",
      "regiao                              531 non-null object\n",
      "telefone                            827 non-null object\n",
      "email                               368 non-null object\n",
      "situacao                            1229 non-null object\n",
      "data_situacao_baixa                 498 non-null object\n",
      "capital_social                      908 non-null object\n",
      "Unnamed: 23                         2 non-null object\n",
      "cargo_relacionado_socio             200 non-null object\n",
      "observacao                          338 non-null object\n",
      "situacao_funcional                  174 non-null object\n",
      "sede_situacao                       148 non-null object\n",
      "armas_autorizadas                   1 non-null object\n",
      "autorizacao_pf                      254 non-null object\n",
      "dtypes: float64(1), object(29)\n",
      "memory usage: 288.1+ KB\n"
     ]
    }
   ],
   "source": [
    "empres_segur.info()"
   ]
  },
  {
   "cell_type": "code",
   "execution_count": null,
   "metadata": {},
   "outputs": [],
   "source": []
  },
  {
   "cell_type": "markdown",
   "metadata": {},
   "source": [
    "Cruza para encontrar servidores ativos"
   ]
  },
  {
   "cell_type": "code",
   "execution_count": 6,
   "metadata": {},
   "outputs": [],
   "source": [
    "encontrados_segura = pd.merge(servidores_ativos, empres_segur, left_on='Nome', right_on='socio')"
   ]
  },
  {
   "cell_type": "code",
   "execution_count": 7,
   "metadata": {},
   "outputs": [
    {
     "name": "stdout",
     "output_type": "stream",
     "text": [
      "<class 'pandas.core.frame.DataFrame'>\n",
      "Int64Index: 213 entries, 0 to 212\n",
      "Data columns (total 33 columns):\n",
      "Nome                                213 non-null object\n",
      "Tipo de VÃ­nculo                    213 non-null object\n",
      "Unnamed: 2                          0 non-null float64\n",
      "cnpj                                213 non-null object\n",
      "CNAE_principal                      205 non-null object\n",
      "nome_empresa                        213 non-null object\n",
      "nome_empresa_maiuscula_minuscula    186 non-null object\n",
      "estado                              186 non-null object\n",
      "indicador                           212 non-null float64\n",
      "documento                           212 non-null object\n",
      "qualificacao                        212 non-null object\n",
      "socio                               213 non-null object\n",
      "socio_maiuscula_minuscula           187 non-null object\n",
      "data_abertura                       213 non-null object\n",
      "logradouro                          213 non-null object\n",
      "numero_logradouro                   213 non-null object\n",
      "complemento                         129 non-null object\n",
      "cep                                 157 non-null object\n",
      "bairro                              213 non-null object\n",
      "municipio                           213 non-null object\n",
      "regiao                              74 non-null object\n",
      "telefone                            150 non-null object\n",
      "email                               81 non-null object\n",
      "situacao                            213 non-null object\n",
      "data_situacao_baixa                 102 non-null object\n",
      "capital_social                      174 non-null object\n",
      "Unnamed: 23                         0 non-null object\n",
      "cargo_relacionado_socio             85 non-null object\n",
      "observacao                          100 non-null object\n",
      "situacao_funcional                  85 non-null object\n",
      "sede_situacao                       70 non-null object\n",
      "armas_autorizadas                   0 non-null object\n",
      "autorizacao_pf                      65 non-null object\n",
      "dtypes: float64(2), object(31)\n",
      "memory usage: 56.6+ KB\n"
     ]
    }
   ],
   "source": [
    "encontrados_segura.info()"
   ]
  },
  {
   "cell_type": "code",
   "execution_count": 8,
   "metadata": {},
   "outputs": [
    {
     "data": {
      "text/html": [
       "<div>\n",
       "<style scoped>\n",
       "    .dataframe tbody tr th:only-of-type {\n",
       "        vertical-align: middle;\n",
       "    }\n",
       "\n",
       "    .dataframe tbody tr th {\n",
       "        vertical-align: top;\n",
       "    }\n",
       "\n",
       "    .dataframe thead th {\n",
       "        text-align: right;\n",
       "    }\n",
       "</style>\n",
       "<table border=\"1\" class=\"dataframe\">\n",
       "  <thead>\n",
       "    <tr style=\"text-align: right;\">\n",
       "      <th></th>\n",
       "      <th>index</th>\n",
       "      <th>Nome</th>\n",
       "      <th>Tipo de VÃ­nculo</th>\n",
       "      <th>Unnamed: 2</th>\n",
       "      <th>cnpj</th>\n",
       "      <th>CNAE_principal</th>\n",
       "      <th>nome_empresa</th>\n",
       "      <th>nome_empresa_maiuscula_minuscula</th>\n",
       "      <th>estado</th>\n",
       "      <th>indicador</th>\n",
       "      <th>...</th>\n",
       "      <th>situacao</th>\n",
       "      <th>data_situacao_baixa</th>\n",
       "      <th>capital_social</th>\n",
       "      <th>Unnamed: 23</th>\n",
       "      <th>cargo_relacionado_socio</th>\n",
       "      <th>observacao</th>\n",
       "      <th>situacao_funcional</th>\n",
       "      <th>sede_situacao</th>\n",
       "      <th>armas_autorizadas</th>\n",
       "      <th>autorizacao_pf</th>\n",
       "    </tr>\n",
       "  </thead>\n",
       "  <tbody>\n",
       "    <tr>\n",
       "      <th>0</th>\n",
       "      <td>0</td>\n",
       "      <td>CARLOS ALBERTO DIAS</td>\n",
       "      <td>EFETIVO/CONCURSO PÃBLICO</td>\n",
       "      <td>NaN</td>\n",
       "      <td>57808685000114</td>\n",
       "      <td>80.11-1-01</td>\n",
       "      <td>SECMIN SEGURANCA S C LTDA - ME</td>\n",
       "      <td>Secmin Seguranca S C Ltda - Me</td>\n",
       "      <td>Rio de Janeiro</td>\n",
       "      <td>2.0</td>\n",
       "      <td>...</td>\n",
       "      <td>ATIVA</td>\n",
       "      <td>NaN</td>\n",
       "      <td>NaN</td>\n",
       "      <td>NaN</td>\n",
       "      <td>NaN</td>\n",
       "      <td>NaN</td>\n",
       "      <td>NaN</td>\n",
       "      <td>NaN</td>\n",
       "      <td>NaN</td>\n",
       "      <td>NaN</td>\n",
       "    </tr>\n",
       "    <tr>\n",
       "      <th>1</th>\n",
       "      <td>1</td>\n",
       "      <td>CARLOS ALBERTO DIAS</td>\n",
       "      <td>EFETIVO/CONCURSO PÃBLICO</td>\n",
       "      <td>NaN</td>\n",
       "      <td>57808685000114</td>\n",
       "      <td>80.11-1-01</td>\n",
       "      <td>SECMIN SEGURANCA S C LTDA - ME</td>\n",
       "      <td>Secmin Seguranca S C Ltda - Me</td>\n",
       "      <td>Rio de Janeiro</td>\n",
       "      <td>2.0</td>\n",
       "      <td>...</td>\n",
       "      <td>ATIVA</td>\n",
       "      <td>NaN</td>\n",
       "      <td>NaN</td>\n",
       "      <td>NaN</td>\n",
       "      <td>NaN</td>\n",
       "      <td>NaN</td>\n",
       "      <td>NaN</td>\n",
       "      <td>NaN</td>\n",
       "      <td>NaN</td>\n",
       "      <td>NaN</td>\n",
       "    </tr>\n",
       "    <tr>\n",
       "      <th>2</th>\n",
       "      <td>2</td>\n",
       "      <td>LUIZ CARLOS DA SILVA</td>\n",
       "      <td>EFETIVO/CONCURSO PÃBLICO</td>\n",
       "      <td>NaN</td>\n",
       "      <td>18162429000140</td>\n",
       "      <td>80.11-1-01</td>\n",
       "      <td>KANSAS  SECURITY SEGURANCA E VIGILANCIA LTDA  ...</td>\n",
       "      <td>Kansas  Security Seguranca E Vigilancia Ltda  ...</td>\n",
       "      <td>Rio de Janeiro</td>\n",
       "      <td>2.0</td>\n",
       "      <td>...</td>\n",
       "      <td>ATIVA</td>\n",
       "      <td>NaN</td>\n",
       "      <td>110000</td>\n",
       "      <td>NaN</td>\n",
       "      <td>NaN</td>\n",
       "      <td>NaN</td>\n",
       "      <td>NaN</td>\n",
       "      <td>NaN</td>\n",
       "      <td>NaN</td>\n",
       "      <td>Autorizada</td>\n",
       "    </tr>\n",
       "    <tr>\n",
       "      <th>3</th>\n",
       "      <td>3</td>\n",
       "      <td>LUIZ CARLOS DA SILVA</td>\n",
       "      <td>EFETIVO/CONCURSO PÃBLICO</td>\n",
       "      <td>NaN</td>\n",
       "      <td>18162429000140</td>\n",
       "      <td>80.11-1-01</td>\n",
       "      <td>KANSAS  SECURITY SEGURANCA E VIGILANCIA LTDA  ...</td>\n",
       "      <td>Kansas  Security Seguranca E Vigilancia Ltda  ...</td>\n",
       "      <td>Rio de Janeiro</td>\n",
       "      <td>2.0</td>\n",
       "      <td>...</td>\n",
       "      <td>ATIVA</td>\n",
       "      <td>NaN</td>\n",
       "      <td>110000</td>\n",
       "      <td>NaN</td>\n",
       "      <td>NaN</td>\n",
       "      <td>NaN</td>\n",
       "      <td>NaN</td>\n",
       "      <td>NaN</td>\n",
       "      <td>NaN</td>\n",
       "      <td>Autorizada</td>\n",
       "    </tr>\n",
       "    <tr>\n",
       "      <th>4</th>\n",
       "      <td>4</td>\n",
       "      <td>LUIZ CARLOS DA SILVA</td>\n",
       "      <td>EFETIVO/CONCURSO PÃBLICO</td>\n",
       "      <td>NaN</td>\n",
       "      <td>18162429000140</td>\n",
       "      <td>80.11-1-01</td>\n",
       "      <td>KANSAS  SECURITY SEGURANCA E VIGILANCIA LTDA  ...</td>\n",
       "      <td>Kansas  Security Seguranca E Vigilancia Ltda  ...</td>\n",
       "      <td>Rio de Janeiro</td>\n",
       "      <td>2.0</td>\n",
       "      <td>...</td>\n",
       "      <td>ATIVA</td>\n",
       "      <td>NaN</td>\n",
       "      <td>110000</td>\n",
       "      <td>NaN</td>\n",
       "      <td>NaN</td>\n",
       "      <td>NaN</td>\n",
       "      <td>NaN</td>\n",
       "      <td>NaN</td>\n",
       "      <td>NaN</td>\n",
       "      <td>Autorizada</td>\n",
       "    </tr>\n",
       "  </tbody>\n",
       "</table>\n",
       "<p>5 rows × 34 columns</p>\n",
       "</div>"
      ],
      "text/plain": [
       "   index                  Nome           Tipo de VÃ­nculo  Unnamed: 2  \\\n",
       "0      0   CARLOS ALBERTO DIAS  EFETIVO/CONCURSO PÃBLICO         NaN   \n",
       "1      1   CARLOS ALBERTO DIAS  EFETIVO/CONCURSO PÃBLICO         NaN   \n",
       "2      2  LUIZ CARLOS DA SILVA  EFETIVO/CONCURSO PÃBLICO         NaN   \n",
       "3      3  LUIZ CARLOS DA SILVA  EFETIVO/CONCURSO PÃBLICO         NaN   \n",
       "4      4  LUIZ CARLOS DA SILVA  EFETIVO/CONCURSO PÃBLICO         NaN   \n",
       "\n",
       "             cnpj CNAE_principal  \\\n",
       "0  57808685000114     80.11-1-01   \n",
       "1  57808685000114     80.11-1-01   \n",
       "2  18162429000140    80.11-1-01    \n",
       "3  18162429000140    80.11-1-01    \n",
       "4  18162429000140    80.11-1-01    \n",
       "\n",
       "                                        nome_empresa  \\\n",
       "0                     SECMIN SEGURANCA S C LTDA - ME   \n",
       "1                     SECMIN SEGURANCA S C LTDA - ME   \n",
       "2  KANSAS  SECURITY SEGURANCA E VIGILANCIA LTDA  ...   \n",
       "3  KANSAS  SECURITY SEGURANCA E VIGILANCIA LTDA  ...   \n",
       "4  KANSAS  SECURITY SEGURANCA E VIGILANCIA LTDA  ...   \n",
       "\n",
       "                    nome_empresa_maiuscula_minuscula          estado  \\\n",
       "0                     Secmin Seguranca S C Ltda - Me  Rio de Janeiro   \n",
       "1                     Secmin Seguranca S C Ltda - Me  Rio de Janeiro   \n",
       "2  Kansas  Security Seguranca E Vigilancia Ltda  ...  Rio de Janeiro   \n",
       "3  Kansas  Security Seguranca E Vigilancia Ltda  ...  Rio de Janeiro   \n",
       "4  Kansas  Security Seguranca E Vigilancia Ltda  ...  Rio de Janeiro   \n",
       "\n",
       "   indicador      ...       situacao data_situacao_baixa capital_social  \\\n",
       "0        2.0      ...          ATIVA                 NaN            NaN   \n",
       "1        2.0      ...          ATIVA                 NaN            NaN   \n",
       "2        2.0      ...          ATIVA                 NaN         110000   \n",
       "3        2.0      ...          ATIVA                 NaN         110000   \n",
       "4        2.0      ...          ATIVA                 NaN         110000   \n",
       "\n",
       "  Unnamed: 23 cargo_relacionado_socio observacao situacao_funcional  \\\n",
       "0         NaN                     NaN        NaN                NaN   \n",
       "1         NaN                     NaN        NaN                NaN   \n",
       "2         NaN                     NaN        NaN                NaN   \n",
       "3         NaN                     NaN        NaN                NaN   \n",
       "4         NaN                     NaN        NaN                NaN   \n",
       "\n",
       "  sede_situacao armas_autorizadas autorizacao_pf  \n",
       "0           NaN               NaN            NaN  \n",
       "1           NaN               NaN            NaN  \n",
       "2           NaN               NaN     Autorizada  \n",
       "3           NaN               NaN     Autorizada  \n",
       "4           NaN               NaN     Autorizada  \n",
       "\n",
       "[5 rows x 34 columns]"
      ]
     },
     "execution_count": 8,
     "metadata": {},
     "output_type": "execute_result"
    }
   ],
   "source": [
    "encontrados_segura.reset_index().head()"
   ]
  },
  {
   "cell_type": "code",
   "execution_count": 11,
   "metadata": {},
   "outputs": [],
   "source": [
    "encontrados_segura.to_csv('encontrados_servidores_rj_ativos_fev_18.csv', encoding='utf-8', index=False)"
   ]
  },
  {
   "cell_type": "markdown",
   "metadata": {},
   "source": [
    "Esses nomes depois serão checados manualmente"
   ]
  },
  {
   "cell_type": "code",
   "execution_count": null,
   "metadata": {},
   "outputs": [],
   "source": []
  },
  {
   "cell_type": "markdown",
   "metadata": {},
   "source": [
    "# Inativos"
   ]
  },
  {
   "cell_type": "markdown",
   "metadata": {},
   "source": [
    "Extrai CSV do PDF de servidores aposentados"
   ]
  },
  {
   "cell_type": "code",
   "execution_count": null,
   "metadata": {},
   "outputs": [],
   "source": [
    "dfs = []\n",
    "\n",
    "for i in range(1,4659, 300):\n",
    "    print(i, \"i inicial\")\n",
    "\n",
    "    i2 = i + 299\n",
    "\n",
    "    if i2 > 4659:\n",
    "        i2 = 4659\n",
    "\n",
    "    print(i)\n",
    "    print(i2)\n",
    "\n",
    "    try:\n",
    "        df = tabula.read_pdf(\"Aposentados_Fevereiro_2018.pdf\", encoding='latin-1', spreadsheet=True, pages=(str(i)+'-'+str(i2)), header=0)\n",
    "        dfs.append(df)\n",
    "        print('Page ', len(df), ' parsed.')\n",
    "    except:\n",
    "        print('Error on page: ', i)\n",
    "\n",
    "output = pd.concat(dfs)\n",
    "output.to_csv('servidores_rj_aposentados_fev_18.csv', encoding='utf-8', index=False)"
   ]
  },
  {
   "cell_type": "code",
   "execution_count": null,
   "metadata": {},
   "outputs": [],
   "source": []
  },
  {
   "cell_type": "code",
   "execution_count": 9,
   "metadata": {},
   "outputs": [],
   "source": [
    "servidores_aposentados = pd.read_csv(\"servidores_rj_aposentados_fev_18.csv\",sep=',',encoding = 'utf-8')"
   ]
  },
  {
   "cell_type": "code",
   "execution_count": 10,
   "metadata": {},
   "outputs": [
    {
     "name": "stdout",
     "output_type": "stream",
     "text": [
      "<class 'pandas.core.frame.DataFrame'>\n",
      "RangeIndex: 163044 entries, 0 to 163043\n",
      "Data columns (total 3 columns):\n",
      "Nome                163044 non-null object\n",
      "Tipo de VÃ­nculo    163044 non-null object\n",
      "Unnamed: 2          0 non-null float64\n",
      "dtypes: float64(1), object(2)\n",
      "memory usage: 3.7+ MB\n"
     ]
    }
   ],
   "source": [
    "servidores_aposentados.info()"
   ]
  },
  {
   "cell_type": "code",
   "execution_count": null,
   "metadata": {},
   "outputs": [],
   "source": []
  },
  {
   "cell_type": "markdown",
   "metadata": {},
   "source": [
    "Cruza para encontrar servidores ativos"
   ]
  },
  {
   "cell_type": "code",
   "execution_count": 11,
   "metadata": {},
   "outputs": [],
   "source": [
    "encontrados_segura2 = pd.merge(servidores_aposentados, empres_segur, left_on='Nome', right_on='socio')"
   ]
  },
  {
   "cell_type": "code",
   "execution_count": 12,
   "metadata": {},
   "outputs": [
    {
     "name": "stdout",
     "output_type": "stream",
     "text": [
      "<class 'pandas.core.frame.DataFrame'>\n",
      "Int64Index: 163 entries, 0 to 162\n",
      "Data columns (total 33 columns):\n",
      "Nome                                163 non-null object\n",
      "Tipo de VÃ­nculo                    163 non-null object\n",
      "Unnamed: 2                          0 non-null float64\n",
      "cnpj                                163 non-null object\n",
      "CNAE_principal                      157 non-null object\n",
      "nome_empresa                        163 non-null object\n",
      "nome_empresa_maiuscula_minuscula    139 non-null object\n",
      "estado                              139 non-null object\n",
      "indicador                           162 non-null float64\n",
      "documento                           162 non-null object\n",
      "qualificacao                        162 non-null object\n",
      "socio                               163 non-null object\n",
      "socio_maiuscula_minuscula           139 non-null object\n",
      "data_abertura                       163 non-null object\n",
      "logradouro                          163 non-null object\n",
      "numero_logradouro                   163 non-null object\n",
      "complemento                         78 non-null object\n",
      "cep                                 114 non-null object\n",
      "bairro                              163 non-null object\n",
      "municipio                           163 non-null object\n",
      "regiao                              72 non-null object\n",
      "telefone                            88 non-null object\n",
      "email                               38 non-null object\n",
      "situacao                            163 non-null object\n",
      "data_situacao_baixa                 54 non-null object\n",
      "capital_social                      114 non-null object\n",
      "Unnamed: 23                         0 non-null object\n",
      "cargo_relacionado_socio             76 non-null object\n",
      "observacao                          83 non-null object\n",
      "situacao_funcional                  75 non-null object\n",
      "sede_situacao                       56 non-null object\n",
      "armas_autorizadas                   1 non-null object\n",
      "autorizacao_pf                      52 non-null object\n",
      "dtypes: float64(2), object(31)\n",
      "memory usage: 43.3+ KB\n"
     ]
    }
   ],
   "source": [
    "encontrados_segura2.info()"
   ]
  },
  {
   "cell_type": "code",
   "execution_count": 7,
   "metadata": {},
   "outputs": [],
   "source": [
    "encontrados_segura2.to_csv('encontrados_servidores_rj_aposentados_fev_18.csv', encoding='utf-8', index=False)"
   ]
  },
  {
   "cell_type": "markdown",
   "metadata": {},
   "source": [
    "Esses nomes depois serão checados manualmente"
   ]
  },
  {
   "cell_type": "code",
   "execution_count": null,
   "metadata": {},
   "outputs": [],
   "source": []
  }
 ],
 "metadata": {
  "kernelspec": {
   "display_name": "Python 3",
   "language": "python",
   "name": "python3"
  },
  "language_info": {
   "codemirror_mode": {
    "name": "ipython",
    "version": 3
   },
   "file_extension": ".py",
   "mimetype": "text/x-python",
   "name": "python",
   "nbconvert_exporter": "python",
   "pygments_lexer": "ipython3",
   "version": "3.6.2"
  }
 },
 "nbformat": 4,
 "nbformat_minor": 2
}
