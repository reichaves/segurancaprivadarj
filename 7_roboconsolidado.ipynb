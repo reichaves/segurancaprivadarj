{
 "cells": [
  {
   "cell_type": "code",
   "execution_count": 28,
   "metadata": {},
   "outputs": [],
   "source": [
    "# -*- coding: utf-8\n",
    "# The Intercept Brasil (https://theintercept.com/brasil/)\n",
    "# Reinaldo Chaves (@paidatocandeira)\n",
    "# Gera algumas estatísticas a partir do arquivo final gerado de empresas de segurança privada\n",
    "#"
   ]
  },
  {
   "cell_type": "code",
   "execution_count": null,
   "metadata": {},
   "outputs": [],
   "source": []
  },
  {
   "cell_type": "code",
   "execution_count": 29,
   "metadata": {},
   "outputs": [],
   "source": [
    "import pandas as pd\n",
    "import unidecode"
   ]
  },
  {
   "cell_type": "code",
   "execution_count": null,
   "metadata": {},
   "outputs": [],
   "source": []
  },
  {
   "cell_type": "code",
   "execution_count": 30,
   "metadata": {},
   "outputs": [],
   "source": [
    "# Função para retirar acentuação \n",
    "def f(str):\n",
    "    return (unidecode.unidecode(str))"
   ]
  },
  {
   "cell_type": "code",
   "execution_count": null,
   "metadata": {},
   "outputs": [],
   "source": []
  },
  {
   "cell_type": "markdown",
   "metadata": {},
   "source": [
    "O arquivo gerado em etapas anteriores foi checado, limpo e preenchido manualmente. Carrega o resultado"
   ]
  },
  {
   "cell_type": "code",
   "execution_count": 31,
   "metadata": {},
   "outputs": [],
   "source": [
    "consolidado = pd.read_csv(\"empresas_de_seguranca_consolidado_final.csv\",sep=',',encoding = 'utf-8', converters={'cnpj': lambda x: str(x)})"
   ]
  },
  {
   "cell_type": "code",
   "execution_count": 32,
   "metadata": {},
   "outputs": [
    {
     "name": "stdout",
     "output_type": "stream",
     "text": [
      "<class 'pandas.core.frame.DataFrame'>\n",
      "RangeIndex: 1229 entries, 0 to 1228\n",
      "Data columns (total 30 columns):\n",
      "cnpj                                1229 non-null object\n",
      "CNAE_principal                      1176 non-null object\n",
      "nome_empresa                        1229 non-null object\n",
      "nome_empresa_maiuscula_minuscula    1004 non-null object\n",
      "estado                              1004 non-null object\n",
      "indicador                           1147 non-null float64\n",
      "documento                           1147 non-null object\n",
      "qualificacao                        1147 non-null object\n",
      "socio                               1153 non-null object\n",
      "socio_maiuscula_minuscula           1008 non-null object\n",
      "data_abertura                       1229 non-null object\n",
      "logradouro                          1229 non-null object\n",
      "numero_logradouro                   1229 non-null object\n",
      "complemento                         689 non-null object\n",
      "cep                                 1001 non-null object\n",
      "bairro                              1227 non-null object\n",
      "municipio                           1229 non-null object\n",
      "regiao                              531 non-null object\n",
      "telefone                            827 non-null object\n",
      "email                               368 non-null object\n",
      "situacao                            1229 non-null object\n",
      "data_situacao_baixa                 498 non-null object\n",
      "capital_social                      908 non-null object\n",
      "Unnamed: 23                         2 non-null object\n",
      "cargo_relacionado_socio             200 non-null object\n",
      "observacao                          338 non-null object\n",
      "situacao_funcional                  174 non-null object\n",
      "sede_situacao                       148 non-null object\n",
      "armas_autorizadas                   1 non-null object\n",
      "autorizacao_pf                      254 non-null object\n",
      "dtypes: float64(1), object(29)\n",
      "memory usage: 288.1+ KB\n"
     ]
    }
   ],
   "source": [
    "consolidado.info()"
   ]
  },
  {
   "cell_type": "code",
   "execution_count": null,
   "metadata": {},
   "outputs": [],
   "source": []
  },
  {
   "cell_type": "markdown",
   "metadata": {},
   "source": [
    "Quantidade de CNPJs"
   ]
  },
  {
   "cell_type": "code",
   "execution_count": 33,
   "metadata": {},
   "outputs": [
    {
     "data": {
      "text/plain": [
       "638"
      ]
     },
     "execution_count": 33,
     "metadata": {},
     "output_type": "execute_result"
    }
   ],
   "source": [
    "a = len(consolidado['cnpj'].value_counts())\n",
    "a"
   ]
  },
  {
   "cell_type": "code",
   "execution_count": null,
   "metadata": {},
   "outputs": [],
   "source": []
  },
  {
   "cell_type": "markdown",
   "metadata": {},
   "source": [
    "Limpa cidades"
   ]
  },
  {
   "cell_type": "code",
   "execution_count": 34,
   "metadata": {},
   "outputs": [],
   "source": [
    "def limpeza2(linha):\n",
    "    cidade = linha[\"municipio\"]\n",
    "    if cidade == 'DUQUE DE CAXIAS' or cidade == 'Duque de Caxias':\n",
    "        return \"DUQUE DE CAXIAS\"\n",
    "    \n",
    "    elif cidade == \"NITEROI\" or cidade == \"NITERÓI\" or cidade == 'Niterói':\n",
    "        return \"NITEROI\"\n",
    "    \n",
    "    elif cidade == \"NOVA IGUACU\" or cidade == \"NOVA IGUAÇU\" or cidade == 'Nova Iguaçu':\n",
    "        return \"NOVA IGUACU\"\n",
    "    \n",
    "    elif cidade == \"RIO DE JANEIRO\" or cidade == 'Rio de Janeiro':\n",
    "        return \"RIO DE JANEIRO\"\n",
    "      \n",
    "    elif cidade == \"SAO GONCALO\" or cidade == \"São Gonçalo\":\n",
    "        return \"SAO GONCALO\"\n",
    "    \n",
    "    elif cidade == \"SAO JOAO DE MERITI\" or cidade == 'São João de Meriti':\n",
    "        return \"SAO JOAO DE MERITI\"\n",
    "    \n",
    "    else:\n",
    "        return cidade"
   ]
  },
  {
   "cell_type": "code",
   "execution_count": null,
   "metadata": {},
   "outputs": [],
   "source": []
  },
  {
   "cell_type": "code",
   "execution_count": 35,
   "metadata": {},
   "outputs": [
    {
     "data": {
      "text/html": [
       "<div>\n",
       "<style scoped>\n",
       "    .dataframe tbody tr th:only-of-type {\n",
       "        vertical-align: middle;\n",
       "    }\n",
       "\n",
       "    .dataframe tbody tr th {\n",
       "        vertical-align: top;\n",
       "    }\n",
       "\n",
       "    .dataframe thead th {\n",
       "        text-align: right;\n",
       "    }\n",
       "</style>\n",
       "<table border=\"1\" class=\"dataframe\">\n",
       "  <thead>\n",
       "    <tr style=\"text-align: right;\">\n",
       "      <th></th>\n",
       "      <th>municipio</th>\n",
       "      <th>cnpj</th>\n",
       "    </tr>\n",
       "  </thead>\n",
       "  <tbody>\n",
       "    <tr>\n",
       "      <th>0</th>\n",
       "      <td>DUQUE DE CAXIAS</td>\n",
       "      <td>95</td>\n",
       "    </tr>\n",
       "    <tr>\n",
       "      <th>1</th>\n",
       "      <td>NILOPOLIS</td>\n",
       "      <td>2</td>\n",
       "    </tr>\n",
       "    <tr>\n",
       "      <th>2</th>\n",
       "      <td>NITEROI</td>\n",
       "      <td>48</td>\n",
       "    </tr>\n",
       "    <tr>\n",
       "      <th>3</th>\n",
       "      <td>NOVA IGUACU</td>\n",
       "      <td>44</td>\n",
       "    </tr>\n",
       "    <tr>\n",
       "      <th>4</th>\n",
       "      <td>Nilópolis</td>\n",
       "      <td>2</td>\n",
       "    </tr>\n",
       "    <tr>\n",
       "      <th>5</th>\n",
       "      <td>RIO DE JANEIRO</td>\n",
       "      <td>949</td>\n",
       "    </tr>\n",
       "    <tr>\n",
       "      <th>6</th>\n",
       "      <td>SAO GONCALO</td>\n",
       "      <td>53</td>\n",
       "    </tr>\n",
       "    <tr>\n",
       "      <th>7</th>\n",
       "      <td>SAO JOAO DE MERITI</td>\n",
       "      <td>36</td>\n",
       "    </tr>\n",
       "  </tbody>\n",
       "</table>\n",
       "</div>"
      ],
      "text/plain": [
       "            municipio  cnpj\n",
       "0     DUQUE DE CAXIAS    95\n",
       "1           NILOPOLIS     2\n",
       "2             NITEROI    48\n",
       "3         NOVA IGUACU    44\n",
       "4           Nilópolis     2\n",
       "5      RIO DE JANEIRO   949\n",
       "6         SAO GONCALO    53\n",
       "7  SAO JOAO DE MERITI    36"
      ]
     },
     "execution_count": 35,
     "metadata": {},
     "output_type": "execute_result"
    }
   ],
   "source": [
    "consolidado[\"municipio\"] = consolidado['municipio'].apply(lambda x: x.strip())\n",
    "consolidado[\"municipio\"] = consolidado.apply(limpeza2, axis=1)\n",
    "consolidado.groupby(\"municipio\").cnpj.count().reset_index()"
   ]
  },
  {
   "cell_type": "code",
   "execution_count": 36,
   "metadata": {},
   "outputs": [
    {
     "data": {
      "text/plain": [
       "638"
      ]
     },
     "execution_count": 36,
     "metadata": {},
     "output_type": "execute_result"
    }
   ],
   "source": [
    "a = len(consolidado['cnpj'].value_counts())\n",
    "a"
   ]
  },
  {
   "cell_type": "code",
   "execution_count": null,
   "metadata": {},
   "outputs": [],
   "source": []
  },
  {
   "cell_type": "markdown",
   "metadata": {},
   "source": [
    "Seleciona cidades"
   ]
  },
  {
   "cell_type": "code",
   "execution_count": 38,
   "metadata": {},
   "outputs": [],
   "source": [
    "consolidado = consolidado[(consolidado['municipio'] == 'DUQUE DE CAXIAS') | (consolidado['municipio'] == 'NITEROI') | (consolidado['municipio'] == 'NOVA IGUACU') |  (consolidado['municipio'] == 'RIO DE JANEIRO') | (consolidado['municipio'] == 'SAO GONCALO') | (consolidado['municipio'] == 'SAO JOAO DE MERITI')]"
   ]
  },
  {
   "cell_type": "code",
   "execution_count": 39,
   "metadata": {},
   "outputs": [
    {
     "data": {
      "text/html": [
       "<div>\n",
       "<style scoped>\n",
       "    .dataframe tbody tr th:only-of-type {\n",
       "        vertical-align: middle;\n",
       "    }\n",
       "\n",
       "    .dataframe tbody tr th {\n",
       "        vertical-align: top;\n",
       "    }\n",
       "\n",
       "    .dataframe thead th {\n",
       "        text-align: right;\n",
       "    }\n",
       "</style>\n",
       "<table border=\"1\" class=\"dataframe\">\n",
       "  <thead>\n",
       "    <tr style=\"text-align: right;\">\n",
       "      <th></th>\n",
       "      <th>municipio</th>\n",
       "      <th>cnpj</th>\n",
       "    </tr>\n",
       "  </thead>\n",
       "  <tbody>\n",
       "    <tr>\n",
       "      <th>0</th>\n",
       "      <td>DUQUE DE CAXIAS</td>\n",
       "      <td>95</td>\n",
       "    </tr>\n",
       "    <tr>\n",
       "      <th>1</th>\n",
       "      <td>NITEROI</td>\n",
       "      <td>48</td>\n",
       "    </tr>\n",
       "    <tr>\n",
       "      <th>2</th>\n",
       "      <td>NOVA IGUACU</td>\n",
       "      <td>44</td>\n",
       "    </tr>\n",
       "    <tr>\n",
       "      <th>3</th>\n",
       "      <td>RIO DE JANEIRO</td>\n",
       "      <td>949</td>\n",
       "    </tr>\n",
       "    <tr>\n",
       "      <th>4</th>\n",
       "      <td>SAO GONCALO</td>\n",
       "      <td>53</td>\n",
       "    </tr>\n",
       "    <tr>\n",
       "      <th>5</th>\n",
       "      <td>SAO JOAO DE MERITI</td>\n",
       "      <td>36</td>\n",
       "    </tr>\n",
       "  </tbody>\n",
       "</table>\n",
       "</div>"
      ],
      "text/plain": [
       "            municipio  cnpj\n",
       "0     DUQUE DE CAXIAS    95\n",
       "1             NITEROI    48\n",
       "2         NOVA IGUACU    44\n",
       "3      RIO DE JANEIRO   949\n",
       "4         SAO GONCALO    53\n",
       "5  SAO JOAO DE MERITI    36"
      ]
     },
     "execution_count": 39,
     "metadata": {},
     "output_type": "execute_result"
    }
   ],
   "source": [
    "consolidado.groupby(\"municipio\").cnpj.count().reset_index()"
   ]
  },
  {
   "cell_type": "code",
   "execution_count": 40,
   "metadata": {},
   "outputs": [
    {
     "data": {
      "text/plain": [
       "636"
      ]
     },
     "execution_count": 40,
     "metadata": {},
     "output_type": "execute_result"
    }
   ],
   "source": [
    "a = len(consolidado['cnpj'].value_counts())\n",
    "a"
   ]
  },
  {
   "cell_type": "code",
   "execution_count": null,
   "metadata": {},
   "outputs": [],
   "source": []
  },
  {
   "cell_type": "code",
   "execution_count": null,
   "metadata": {},
   "outputs": [],
   "source": []
  },
  {
   "cell_type": "markdown",
   "metadata": {},
   "source": [
    "Limpa os cargos relacionados dos sócios com funções de segurança"
   ]
  },
  {
   "cell_type": "code",
   "execution_count": 41,
   "metadata": {},
   "outputs": [
    {
     "data": {
      "text/html": [
       "<div>\n",
       "<style scoped>\n",
       "    .dataframe tbody tr th:only-of-type {\n",
       "        vertical-align: middle;\n",
       "    }\n",
       "\n",
       "    .dataframe tbody tr th {\n",
       "        vertical-align: top;\n",
       "    }\n",
       "\n",
       "    .dataframe thead th {\n",
       "        text-align: right;\n",
       "    }\n",
       "</style>\n",
       "<table border=\"1\" class=\"dataframe\">\n",
       "  <thead>\n",
       "    <tr style=\"text-align: right;\">\n",
       "      <th></th>\n",
       "      <th>cargo_relacionado_socio</th>\n",
       "      <th>cnpj</th>\n",
       "      <th>CNAE_principal</th>\n",
       "      <th>nome_empresa</th>\n",
       "      <th>nome_empresa_maiuscula_minuscula</th>\n",
       "      <th>estado</th>\n",
       "      <th>indicador</th>\n",
       "      <th>documento</th>\n",
       "      <th>qualificacao</th>\n",
       "      <th>socio</th>\n",
       "      <th>...</th>\n",
       "      <th>email</th>\n",
       "      <th>situacao</th>\n",
       "      <th>data_situacao_baixa</th>\n",
       "      <th>capital_social</th>\n",
       "      <th>Unnamed: 23</th>\n",
       "      <th>observacao</th>\n",
       "      <th>situacao_funcional</th>\n",
       "      <th>sede_situacao</th>\n",
       "      <th>armas_autorizadas</th>\n",
       "      <th>autorizacao_pf</th>\n",
       "    </tr>\n",
       "  </thead>\n",
       "  <tbody>\n",
       "    <tr>\n",
       "      <th>0</th>\n",
       "      <td>Administração Penitenciária</td>\n",
       "      <td>10</td>\n",
       "      <td>9</td>\n",
       "      <td>10</td>\n",
       "      <td>9</td>\n",
       "      <td>9</td>\n",
       "      <td>9</td>\n",
       "      <td>9</td>\n",
       "      <td>9</td>\n",
       "      <td>9</td>\n",
       "      <td>...</td>\n",
       "      <td>3</td>\n",
       "      <td>10</td>\n",
       "      <td>4</td>\n",
       "      <td>7</td>\n",
       "      <td>2</td>\n",
       "      <td>10</td>\n",
       "      <td>9</td>\n",
       "      <td>4</td>\n",
       "      <td>0</td>\n",
       "      <td>3</td>\n",
       "    </tr>\n",
       "    <tr>\n",
       "      <th>1</th>\n",
       "      <td>Advogado criminal</td>\n",
       "      <td>1</td>\n",
       "      <td>0</td>\n",
       "      <td>1</td>\n",
       "      <td>1</td>\n",
       "      <td>1</td>\n",
       "      <td>1</td>\n",
       "      <td>1</td>\n",
       "      <td>1</td>\n",
       "      <td>1</td>\n",
       "      <td>...</td>\n",
       "      <td>0</td>\n",
       "      <td>1</td>\n",
       "      <td>0</td>\n",
       "      <td>1</td>\n",
       "      <td>0</td>\n",
       "      <td>1</td>\n",
       "      <td>0</td>\n",
       "      <td>0</td>\n",
       "      <td>0</td>\n",
       "      <td>0</td>\n",
       "    </tr>\n",
       "    <tr>\n",
       "      <th>2</th>\n",
       "      <td>Aeronáutica</td>\n",
       "      <td>1</td>\n",
       "      <td>1</td>\n",
       "      <td>1</td>\n",
       "      <td>0</td>\n",
       "      <td>0</td>\n",
       "      <td>1</td>\n",
       "      <td>1</td>\n",
       "      <td>1</td>\n",
       "      <td>1</td>\n",
       "      <td>...</td>\n",
       "      <td>0</td>\n",
       "      <td>1</td>\n",
       "      <td>0</td>\n",
       "      <td>0</td>\n",
       "      <td>0</td>\n",
       "      <td>1</td>\n",
       "      <td>0</td>\n",
       "      <td>0</td>\n",
       "      <td>0</td>\n",
       "      <td>0</td>\n",
       "    </tr>\n",
       "    <tr>\n",
       "      <th>3</th>\n",
       "      <td>Agente penitenciário</td>\n",
       "      <td>1</td>\n",
       "      <td>1</td>\n",
       "      <td>1</td>\n",
       "      <td>0</td>\n",
       "      <td>0</td>\n",
       "      <td>0</td>\n",
       "      <td>0</td>\n",
       "      <td>0</td>\n",
       "      <td>0</td>\n",
       "      <td>...</td>\n",
       "      <td>1</td>\n",
       "      <td>1</td>\n",
       "      <td>0</td>\n",
       "      <td>1</td>\n",
       "      <td>0</td>\n",
       "      <td>1</td>\n",
       "      <td>1</td>\n",
       "      <td>0</td>\n",
       "      <td>0</td>\n",
       "      <td>0</td>\n",
       "    </tr>\n",
       "    <tr>\n",
       "      <th>4</th>\n",
       "      <td>Bombeiros</td>\n",
       "      <td>7</td>\n",
       "      <td>7</td>\n",
       "      <td>7</td>\n",
       "      <td>3</td>\n",
       "      <td>3</td>\n",
       "      <td>6</td>\n",
       "      <td>6</td>\n",
       "      <td>6</td>\n",
       "      <td>6</td>\n",
       "      <td>...</td>\n",
       "      <td>2</td>\n",
       "      <td>7</td>\n",
       "      <td>2</td>\n",
       "      <td>5</td>\n",
       "      <td>0</td>\n",
       "      <td>7</td>\n",
       "      <td>7</td>\n",
       "      <td>6</td>\n",
       "      <td>0</td>\n",
       "      <td>0</td>\n",
       "    </tr>\n",
       "    <tr>\n",
       "      <th>5</th>\n",
       "      <td>Checar</td>\n",
       "      <td>1</td>\n",
       "      <td>1</td>\n",
       "      <td>1</td>\n",
       "      <td>1</td>\n",
       "      <td>1</td>\n",
       "      <td>1</td>\n",
       "      <td>1</td>\n",
       "      <td>1</td>\n",
       "      <td>1</td>\n",
       "      <td>...</td>\n",
       "      <td>0</td>\n",
       "      <td>1</td>\n",
       "      <td>0</td>\n",
       "      <td>1</td>\n",
       "      <td>0</td>\n",
       "      <td>1</td>\n",
       "      <td>0</td>\n",
       "      <td>0</td>\n",
       "      <td>0</td>\n",
       "      <td>0</td>\n",
       "    </tr>\n",
       "    <tr>\n",
       "      <th>6</th>\n",
       "      <td>Degase</td>\n",
       "      <td>2</td>\n",
       "      <td>2</td>\n",
       "      <td>2</td>\n",
       "      <td>2</td>\n",
       "      <td>2</td>\n",
       "      <td>2</td>\n",
       "      <td>2</td>\n",
       "      <td>2</td>\n",
       "      <td>2</td>\n",
       "      <td>...</td>\n",
       "      <td>2</td>\n",
       "      <td>2</td>\n",
       "      <td>2</td>\n",
       "      <td>2</td>\n",
       "      <td>0</td>\n",
       "      <td>2</td>\n",
       "      <td>2</td>\n",
       "      <td>2</td>\n",
       "      <td>0</td>\n",
       "      <td>0</td>\n",
       "    </tr>\n",
       "    <tr>\n",
       "      <th>7</th>\n",
       "      <td>Empresário</td>\n",
       "      <td>5</td>\n",
       "      <td>5</td>\n",
       "      <td>5</td>\n",
       "      <td>5</td>\n",
       "      <td>5</td>\n",
       "      <td>5</td>\n",
       "      <td>5</td>\n",
       "      <td>5</td>\n",
       "      <td>5</td>\n",
       "      <td>...</td>\n",
       "      <td>2</td>\n",
       "      <td>5</td>\n",
       "      <td>0</td>\n",
       "      <td>4</td>\n",
       "      <td>0</td>\n",
       "      <td>5</td>\n",
       "      <td>0</td>\n",
       "      <td>0</td>\n",
       "      <td>0</td>\n",
       "      <td>4</td>\n",
       "    </tr>\n",
       "    <tr>\n",
       "      <th>8</th>\n",
       "      <td>Empresário - ligado a policial civil</td>\n",
       "      <td>1</td>\n",
       "      <td>1</td>\n",
       "      <td>1</td>\n",
       "      <td>1</td>\n",
       "      <td>1</td>\n",
       "      <td>1</td>\n",
       "      <td>1</td>\n",
       "      <td>1</td>\n",
       "      <td>1</td>\n",
       "      <td>...</td>\n",
       "      <td>0</td>\n",
       "      <td>1</td>\n",
       "      <td>0</td>\n",
       "      <td>0</td>\n",
       "      <td>0</td>\n",
       "      <td>1</td>\n",
       "      <td>0</td>\n",
       "      <td>1</td>\n",
       "      <td>0</td>\n",
       "      <td>1</td>\n",
       "    </tr>\n",
       "    <tr>\n",
       "      <th>9</th>\n",
       "      <td>Exército</td>\n",
       "      <td>8</td>\n",
       "      <td>6</td>\n",
       "      <td>8</td>\n",
       "      <td>8</td>\n",
       "      <td>8</td>\n",
       "      <td>8</td>\n",
       "      <td>8</td>\n",
       "      <td>8</td>\n",
       "      <td>8</td>\n",
       "      <td>...</td>\n",
       "      <td>3</td>\n",
       "      <td>8</td>\n",
       "      <td>4</td>\n",
       "      <td>8</td>\n",
       "      <td>0</td>\n",
       "      <td>7</td>\n",
       "      <td>3</td>\n",
       "      <td>3</td>\n",
       "      <td>0</td>\n",
       "      <td>1</td>\n",
       "    </tr>\n",
       "    <tr>\n",
       "      <th>10</th>\n",
       "      <td>LIGADA A POLÍTICO</td>\n",
       "      <td>1</td>\n",
       "      <td>1</td>\n",
       "      <td>1</td>\n",
       "      <td>1</td>\n",
       "      <td>1</td>\n",
       "      <td>1</td>\n",
       "      <td>1</td>\n",
       "      <td>1</td>\n",
       "      <td>1</td>\n",
       "      <td>...</td>\n",
       "      <td>1</td>\n",
       "      <td>1</td>\n",
       "      <td>1</td>\n",
       "      <td>1</td>\n",
       "      <td>0</td>\n",
       "      <td>1</td>\n",
       "      <td>0</td>\n",
       "      <td>1</td>\n",
       "      <td>0</td>\n",
       "      <td>1</td>\n",
       "    </tr>\n",
       "    <tr>\n",
       "      <th>11</th>\n",
       "      <td>LIGAÇÃO COM POLÍTICO</td>\n",
       "      <td>1</td>\n",
       "      <td>1</td>\n",
       "      <td>1</td>\n",
       "      <td>0</td>\n",
       "      <td>0</td>\n",
       "      <td>0</td>\n",
       "      <td>0</td>\n",
       "      <td>0</td>\n",
       "      <td>1</td>\n",
       "      <td>...</td>\n",
       "      <td>0</td>\n",
       "      <td>1</td>\n",
       "      <td>0</td>\n",
       "      <td>0</td>\n",
       "      <td>0</td>\n",
       "      <td>1</td>\n",
       "      <td>0</td>\n",
       "      <td>0</td>\n",
       "      <td>0</td>\n",
       "      <td>0</td>\n",
       "    </tr>\n",
       "    <tr>\n",
       "      <th>12</th>\n",
       "      <td>MONITOR DE ESPORTE</td>\n",
       "      <td>1</td>\n",
       "      <td>1</td>\n",
       "      <td>1</td>\n",
       "      <td>1</td>\n",
       "      <td>1</td>\n",
       "      <td>1</td>\n",
       "      <td>1</td>\n",
       "      <td>1</td>\n",
       "      <td>1</td>\n",
       "      <td>...</td>\n",
       "      <td>1</td>\n",
       "      <td>1</td>\n",
       "      <td>1</td>\n",
       "      <td>1</td>\n",
       "      <td>0</td>\n",
       "      <td>1</td>\n",
       "      <td>0</td>\n",
       "      <td>0</td>\n",
       "      <td>0</td>\n",
       "      <td>0</td>\n",
       "    </tr>\n",
       "    <tr>\n",
       "      <th>13</th>\n",
       "      <td>Marinha</td>\n",
       "      <td>2</td>\n",
       "      <td>1</td>\n",
       "      <td>2</td>\n",
       "      <td>2</td>\n",
       "      <td>2</td>\n",
       "      <td>2</td>\n",
       "      <td>2</td>\n",
       "      <td>2</td>\n",
       "      <td>2</td>\n",
       "      <td>...</td>\n",
       "      <td>0</td>\n",
       "      <td>2</td>\n",
       "      <td>1</td>\n",
       "      <td>2</td>\n",
       "      <td>0</td>\n",
       "      <td>2</td>\n",
       "      <td>1</td>\n",
       "      <td>2</td>\n",
       "      <td>0</td>\n",
       "      <td>0</td>\n",
       "    </tr>\n",
       "    <tr>\n",
       "      <th>14</th>\n",
       "      <td>Policial Militar</td>\n",
       "      <td>3</td>\n",
       "      <td>3</td>\n",
       "      <td>3</td>\n",
       "      <td>2</td>\n",
       "      <td>2</td>\n",
       "      <td>2</td>\n",
       "      <td>2</td>\n",
       "      <td>2</td>\n",
       "      <td>2</td>\n",
       "      <td>...</td>\n",
       "      <td>2</td>\n",
       "      <td>3</td>\n",
       "      <td>1</td>\n",
       "      <td>3</td>\n",
       "      <td>0</td>\n",
       "      <td>3</td>\n",
       "      <td>3</td>\n",
       "      <td>3</td>\n",
       "      <td>0</td>\n",
       "      <td>0</td>\n",
       "    </tr>\n",
       "    <tr>\n",
       "      <th>15</th>\n",
       "      <td>Polícia Civil</td>\n",
       "      <td>56</td>\n",
       "      <td>55</td>\n",
       "      <td>56</td>\n",
       "      <td>51</td>\n",
       "      <td>51</td>\n",
       "      <td>56</td>\n",
       "      <td>56</td>\n",
       "      <td>56</td>\n",
       "      <td>56</td>\n",
       "      <td>...</td>\n",
       "      <td>21</td>\n",
       "      <td>56</td>\n",
       "      <td>18</td>\n",
       "      <td>37</td>\n",
       "      <td>0</td>\n",
       "      <td>55</td>\n",
       "      <td>55</td>\n",
       "      <td>40</td>\n",
       "      <td>0</td>\n",
       "      <td>19</td>\n",
       "    </tr>\n",
       "    <tr>\n",
       "      <th>16</th>\n",
       "      <td>Polícia Civil</td>\n",
       "      <td>1</td>\n",
       "      <td>1</td>\n",
       "      <td>1</td>\n",
       "      <td>1</td>\n",
       "      <td>1</td>\n",
       "      <td>1</td>\n",
       "      <td>1</td>\n",
       "      <td>1</td>\n",
       "      <td>1</td>\n",
       "      <td>...</td>\n",
       "      <td>0</td>\n",
       "      <td>1</td>\n",
       "      <td>0</td>\n",
       "      <td>0</td>\n",
       "      <td>0</td>\n",
       "      <td>1</td>\n",
       "      <td>1</td>\n",
       "      <td>0</td>\n",
       "      <td>0</td>\n",
       "      <td>1</td>\n",
       "    </tr>\n",
       "    <tr>\n",
       "      <th>17</th>\n",
       "      <td>Polícia Federal</td>\n",
       "      <td>4</td>\n",
       "      <td>4</td>\n",
       "      <td>4</td>\n",
       "      <td>4</td>\n",
       "      <td>4</td>\n",
       "      <td>4</td>\n",
       "      <td>4</td>\n",
       "      <td>4</td>\n",
       "      <td>4</td>\n",
       "      <td>...</td>\n",
       "      <td>4</td>\n",
       "      <td>4</td>\n",
       "      <td>3</td>\n",
       "      <td>4</td>\n",
       "      <td>0</td>\n",
       "      <td>4</td>\n",
       "      <td>0</td>\n",
       "      <td>3</td>\n",
       "      <td>0</td>\n",
       "      <td>4</td>\n",
       "    </tr>\n",
       "    <tr>\n",
       "      <th>18</th>\n",
       "      <td>Polícia Militar</td>\n",
       "      <td>89</td>\n",
       "      <td>85</td>\n",
       "      <td>89</td>\n",
       "      <td>72</td>\n",
       "      <td>72</td>\n",
       "      <td>84</td>\n",
       "      <td>84</td>\n",
       "      <td>84</td>\n",
       "      <td>87</td>\n",
       "      <td>...</td>\n",
       "      <td>21</td>\n",
       "      <td>89</td>\n",
       "      <td>36</td>\n",
       "      <td>71</td>\n",
       "      <td>0</td>\n",
       "      <td>89</td>\n",
       "      <td>89</td>\n",
       "      <td>71</td>\n",
       "      <td>1</td>\n",
       "      <td>25</td>\n",
       "    </tr>\n",
       "    <tr>\n",
       "      <th>19</th>\n",
       "      <td>Polícia Militar.</td>\n",
       "      <td>1</td>\n",
       "      <td>0</td>\n",
       "      <td>1</td>\n",
       "      <td>1</td>\n",
       "      <td>1</td>\n",
       "      <td>1</td>\n",
       "      <td>1</td>\n",
       "      <td>1</td>\n",
       "      <td>1</td>\n",
       "      <td>...</td>\n",
       "      <td>0</td>\n",
       "      <td>1</td>\n",
       "      <td>0</td>\n",
       "      <td>1</td>\n",
       "      <td>0</td>\n",
       "      <td>1</td>\n",
       "      <td>1</td>\n",
       "      <td>1</td>\n",
       "      <td>0</td>\n",
       "      <td>0</td>\n",
       "    </tr>\n",
       "    <tr>\n",
       "      <th>20</th>\n",
       "      <td>Polícia Miltar</td>\n",
       "      <td>1</td>\n",
       "      <td>1</td>\n",
       "      <td>1</td>\n",
       "      <td>1</td>\n",
       "      <td>1</td>\n",
       "      <td>1</td>\n",
       "      <td>1</td>\n",
       "      <td>1</td>\n",
       "      <td>1</td>\n",
       "      <td>...</td>\n",
       "      <td>0</td>\n",
       "      <td>1</td>\n",
       "      <td>1</td>\n",
       "      <td>1</td>\n",
       "      <td>0</td>\n",
       "      <td>1</td>\n",
       "      <td>1</td>\n",
       "      <td>1</td>\n",
       "      <td>0</td>\n",
       "      <td>0</td>\n",
       "    </tr>\n",
       "    <tr>\n",
       "      <th>21</th>\n",
       "      <td>Polícia militar</td>\n",
       "      <td>1</td>\n",
       "      <td>1</td>\n",
       "      <td>1</td>\n",
       "      <td>1</td>\n",
       "      <td>1</td>\n",
       "      <td>1</td>\n",
       "      <td>1</td>\n",
       "      <td>1</td>\n",
       "      <td>1</td>\n",
       "      <td>...</td>\n",
       "      <td>0</td>\n",
       "      <td>1</td>\n",
       "      <td>0</td>\n",
       "      <td>1</td>\n",
       "      <td>0</td>\n",
       "      <td>1</td>\n",
       "      <td>1</td>\n",
       "      <td>1</td>\n",
       "      <td>0</td>\n",
       "      <td>0</td>\n",
       "    </tr>\n",
       "    <tr>\n",
       "      <th>22</th>\n",
       "      <td>Secretário de Segurança</td>\n",
       "      <td>1</td>\n",
       "      <td>1</td>\n",
       "      <td>1</td>\n",
       "      <td>1</td>\n",
       "      <td>1</td>\n",
       "      <td>1</td>\n",
       "      <td>1</td>\n",
       "      <td>1</td>\n",
       "      <td>1</td>\n",
       "      <td>...</td>\n",
       "      <td>1</td>\n",
       "      <td>1</td>\n",
       "      <td>1</td>\n",
       "      <td>1</td>\n",
       "      <td>0</td>\n",
       "      <td>1</td>\n",
       "      <td>0</td>\n",
       "      <td>1</td>\n",
       "      <td>0</td>\n",
       "      <td>0</td>\n",
       "    </tr>\n",
       "  </tbody>\n",
       "</table>\n",
       "<p>23 rows × 30 columns</p>\n",
       "</div>"
      ],
      "text/plain": [
       "                 cargo_relacionado_socio  cnpj  CNAE_principal  nome_empresa  \\\n",
       "0            Administração Penitenciária    10               9            10   \n",
       "1                      Advogado criminal     1               0             1   \n",
       "2                            Aeronáutica     1               1             1   \n",
       "3                   Agente penitenciário     1               1             1   \n",
       "4                              Bombeiros     7               7             7   \n",
       "5                                 Checar     1               1             1   \n",
       "6                                 Degase     2               2             2   \n",
       "7                             Empresário     5               5             5   \n",
       "8   Empresário - ligado a policial civil     1               1             1   \n",
       "9                               Exército     8               6             8   \n",
       "10                     LIGADA A POLÍTICO     1               1             1   \n",
       "11                  LIGAÇÃO COM POLÍTICO     1               1             1   \n",
       "12                    MONITOR DE ESPORTE     1               1             1   \n",
       "13                               Marinha     2               1             2   \n",
       "14                      Policial Militar     3               3             3   \n",
       "15                         Polícia Civil    56              55            56   \n",
       "16                        Polícia Civil      1               1             1   \n",
       "17                       Polícia Federal     4               4             4   \n",
       "18                       Polícia Militar    89              85            89   \n",
       "19                      Polícia Militar.     1               0             1   \n",
       "20                        Polícia Miltar     1               1             1   \n",
       "21                       Polícia militar     1               1             1   \n",
       "22               Secretário de Segurança     1               1             1   \n",
       "\n",
       "    nome_empresa_maiuscula_minuscula  estado  indicador  documento  \\\n",
       "0                                  9       9          9          9   \n",
       "1                                  1       1          1          1   \n",
       "2                                  0       0          1          1   \n",
       "3                                  0       0          0          0   \n",
       "4                                  3       3          6          6   \n",
       "5                                  1       1          1          1   \n",
       "6                                  2       2          2          2   \n",
       "7                                  5       5          5          5   \n",
       "8                                  1       1          1          1   \n",
       "9                                  8       8          8          8   \n",
       "10                                 1       1          1          1   \n",
       "11                                 0       0          0          0   \n",
       "12                                 1       1          1          1   \n",
       "13                                 2       2          2          2   \n",
       "14                                 2       2          2          2   \n",
       "15                                51      51         56         56   \n",
       "16                                 1       1          1          1   \n",
       "17                                 4       4          4          4   \n",
       "18                                72      72         84         84   \n",
       "19                                 1       1          1          1   \n",
       "20                                 1       1          1          1   \n",
       "21                                 1       1          1          1   \n",
       "22                                 1       1          1          1   \n",
       "\n",
       "    qualificacao  socio       ...        email  situacao  data_situacao_baixa  \\\n",
       "0              9      9       ...            3        10                    4   \n",
       "1              1      1       ...            0         1                    0   \n",
       "2              1      1       ...            0         1                    0   \n",
       "3              0      0       ...            1         1                    0   \n",
       "4              6      6       ...            2         7                    2   \n",
       "5              1      1       ...            0         1                    0   \n",
       "6              2      2       ...            2         2                    2   \n",
       "7              5      5       ...            2         5                    0   \n",
       "8              1      1       ...            0         1                    0   \n",
       "9              8      8       ...            3         8                    4   \n",
       "10             1      1       ...            1         1                    1   \n",
       "11             0      1       ...            0         1                    0   \n",
       "12             1      1       ...            1         1                    1   \n",
       "13             2      2       ...            0         2                    1   \n",
       "14             2      2       ...            2         3                    1   \n",
       "15            56     56       ...           21        56                   18   \n",
       "16             1      1       ...            0         1                    0   \n",
       "17             4      4       ...            4         4                    3   \n",
       "18            84     87       ...           21        89                   36   \n",
       "19             1      1       ...            0         1                    0   \n",
       "20             1      1       ...            0         1                    1   \n",
       "21             1      1       ...            0         1                    0   \n",
       "22             1      1       ...            1         1                    1   \n",
       "\n",
       "    capital_social  Unnamed: 23  observacao  situacao_funcional  \\\n",
       "0                7            2          10                   9   \n",
       "1                1            0           1                   0   \n",
       "2                0            0           1                   0   \n",
       "3                1            0           1                   1   \n",
       "4                5            0           7                   7   \n",
       "5                1            0           1                   0   \n",
       "6                2            0           2                   2   \n",
       "7                4            0           5                   0   \n",
       "8                0            0           1                   0   \n",
       "9                8            0           7                   3   \n",
       "10               1            0           1                   0   \n",
       "11               0            0           1                   0   \n",
       "12               1            0           1                   0   \n",
       "13               2            0           2                   1   \n",
       "14               3            0           3                   3   \n",
       "15              37            0          55                  55   \n",
       "16               0            0           1                   1   \n",
       "17               4            0           4                   0   \n",
       "18              71            0          89                  89   \n",
       "19               1            0           1                   1   \n",
       "20               1            0           1                   1   \n",
       "21               1            0           1                   1   \n",
       "22               1            0           1                   0   \n",
       "\n",
       "    sede_situacao  armas_autorizadas  autorizacao_pf  \n",
       "0               4                  0               3  \n",
       "1               0                  0               0  \n",
       "2               0                  0               0  \n",
       "3               0                  0               0  \n",
       "4               6                  0               0  \n",
       "5               0                  0               0  \n",
       "6               2                  0               0  \n",
       "7               0                  0               4  \n",
       "8               1                  0               1  \n",
       "9               3                  0               1  \n",
       "10              1                  0               1  \n",
       "11              0                  0               0  \n",
       "12              0                  0               0  \n",
       "13              2                  0               0  \n",
       "14              3                  0               0  \n",
       "15             40                  0              19  \n",
       "16              0                  0               1  \n",
       "17              3                  0               4  \n",
       "18             71                  1              25  \n",
       "19              1                  0               0  \n",
       "20              1                  0               0  \n",
       "21              1                  0               0  \n",
       "22              1                  0               0  \n",
       "\n",
       "[23 rows x 30 columns]"
      ]
     },
     "execution_count": 41,
     "metadata": {},
     "output_type": "execute_result"
    }
   ],
   "source": [
    "consolidado.groupby(\"cargo_relacionado_socio\").count().reset_index()"
   ]
  },
  {
   "cell_type": "code",
   "execution_count": null,
   "metadata": {},
   "outputs": [],
   "source": []
  },
  {
   "cell_type": "code",
   "execution_count": 42,
   "metadata": {},
   "outputs": [],
   "source": [
    "def limpeza(linha):\n",
    "    cargo = linha[\"cargo_relacionado_socio\"]\n",
    "    if cargo == 'Administração Penitenciária':\n",
    "        return \"Administracao Penitenciaria\"\n",
    "    \n",
    "    elif cargo == \"Aeronáutica\":\n",
    "        return \"Aeronautica\"\n",
    "    \n",
    "    elif cargo == \"Agente penitenciário\":\n",
    "        return \"Agente penitenciario\"\n",
    "    \n",
    "    elif cargo == \"Empresário - ligado a policial civil\":\n",
    "        return \"Empresario - ligado a policial civil\"\n",
    "    \n",
    "    elif cargo == \"Exército\":\n",
    "        return \"Exercito\"\n",
    "    \n",
    "    elif cargo == \"Policial Militar\":\n",
    "        return \"Policia Militar\"\n",
    "    \n",
    "    elif cargo == \"Polícia Civil\":\n",
    "        return \"Policia Civil\"\n",
    "    \n",
    "    elif cargo == \"Polícia Civil \":\n",
    "        return \"Policia Civil\" \n",
    "    \n",
    "    elif cargo == \"Polícia Federal\":\n",
    "        return \"Policia Federal\"\n",
    "    \n",
    "    elif cargo == \"Polícia Militar\":\n",
    "        return \"Policia Militar\"\n",
    "    \n",
    "    elif cargo == \"Polícia Militar.\":\n",
    "        return \"Policia Militar\"\n",
    "    \n",
    "    elif cargo == \"Polícia Miltar\" or cargo == \"Polícia militar\":\n",
    "        return \"Policia Militar\"\n",
    "    \n",
    "    elif cargo == \"Secretário de Segurança\":\n",
    "        return \"Secretario de Seguranca\"\n",
    "    else:\n",
    "        return cargo"
   ]
  },
  {
   "cell_type": "code",
   "execution_count": 43,
   "metadata": {},
   "outputs": [],
   "source": [
    "consolidado[\"cargo_relacionado_socio\"] = consolidado.apply(limpeza, axis=1)"
   ]
  },
  {
   "cell_type": "code",
   "execution_count": 44,
   "metadata": {},
   "outputs": [
    {
     "data": {
      "text/html": [
       "<div>\n",
       "<style scoped>\n",
       "    .dataframe tbody tr th:only-of-type {\n",
       "        vertical-align: middle;\n",
       "    }\n",
       "\n",
       "    .dataframe tbody tr th {\n",
       "        vertical-align: top;\n",
       "    }\n",
       "\n",
       "    .dataframe thead th {\n",
       "        text-align: right;\n",
       "    }\n",
       "</style>\n",
       "<table border=\"1\" class=\"dataframe\">\n",
       "  <thead>\n",
       "    <tr style=\"text-align: right;\">\n",
       "      <th></th>\n",
       "      <th>cargo_relacionado_socio</th>\n",
       "      <th>cnpj</th>\n",
       "    </tr>\n",
       "  </thead>\n",
       "  <tbody>\n",
       "    <tr>\n",
       "      <th>0</th>\n",
       "      <td>Administracao Penitenciaria</td>\n",
       "      <td>10</td>\n",
       "    </tr>\n",
       "    <tr>\n",
       "      <th>1</th>\n",
       "      <td>Advogado criminal</td>\n",
       "      <td>1</td>\n",
       "    </tr>\n",
       "    <tr>\n",
       "      <th>2</th>\n",
       "      <td>Aeronautica</td>\n",
       "      <td>1</td>\n",
       "    </tr>\n",
       "    <tr>\n",
       "      <th>3</th>\n",
       "      <td>Agente penitenciario</td>\n",
       "      <td>1</td>\n",
       "    </tr>\n",
       "    <tr>\n",
       "      <th>4</th>\n",
       "      <td>Bombeiros</td>\n",
       "      <td>7</td>\n",
       "    </tr>\n",
       "    <tr>\n",
       "      <th>5</th>\n",
       "      <td>Checar</td>\n",
       "      <td>1</td>\n",
       "    </tr>\n",
       "    <tr>\n",
       "      <th>6</th>\n",
       "      <td>Degase</td>\n",
       "      <td>2</td>\n",
       "    </tr>\n",
       "    <tr>\n",
       "      <th>7</th>\n",
       "      <td>Empresario - ligado a policial civil</td>\n",
       "      <td>1</td>\n",
       "    </tr>\n",
       "    <tr>\n",
       "      <th>8</th>\n",
       "      <td>Empresário</td>\n",
       "      <td>5</td>\n",
       "    </tr>\n",
       "    <tr>\n",
       "      <th>9</th>\n",
       "      <td>Exercito</td>\n",
       "      <td>8</td>\n",
       "    </tr>\n",
       "    <tr>\n",
       "      <th>10</th>\n",
       "      <td>LIGADA A POLÍTICO</td>\n",
       "      <td>1</td>\n",
       "    </tr>\n",
       "    <tr>\n",
       "      <th>11</th>\n",
       "      <td>LIGAÇÃO COM POLÍTICO</td>\n",
       "      <td>1</td>\n",
       "    </tr>\n",
       "    <tr>\n",
       "      <th>12</th>\n",
       "      <td>MONITOR DE ESPORTE</td>\n",
       "      <td>1</td>\n",
       "    </tr>\n",
       "    <tr>\n",
       "      <th>13</th>\n",
       "      <td>Marinha</td>\n",
       "      <td>2</td>\n",
       "    </tr>\n",
       "    <tr>\n",
       "      <th>14</th>\n",
       "      <td>Policia Civil</td>\n",
       "      <td>57</td>\n",
       "    </tr>\n",
       "    <tr>\n",
       "      <th>15</th>\n",
       "      <td>Policia Federal</td>\n",
       "      <td>4</td>\n",
       "    </tr>\n",
       "    <tr>\n",
       "      <th>16</th>\n",
       "      <td>Policia Militar</td>\n",
       "      <td>95</td>\n",
       "    </tr>\n",
       "    <tr>\n",
       "      <th>17</th>\n",
       "      <td>Secretario de Seguranca</td>\n",
       "      <td>1</td>\n",
       "    </tr>\n",
       "  </tbody>\n",
       "</table>\n",
       "</div>"
      ],
      "text/plain": [
       "                 cargo_relacionado_socio  cnpj\n",
       "0            Administracao Penitenciaria    10\n",
       "1                      Advogado criminal     1\n",
       "2                            Aeronautica     1\n",
       "3                   Agente penitenciario     1\n",
       "4                              Bombeiros     7\n",
       "5                                 Checar     1\n",
       "6                                 Degase     2\n",
       "7   Empresario - ligado a policial civil     1\n",
       "8                             Empresário     5\n",
       "9                               Exercito     8\n",
       "10                     LIGADA A POLÍTICO     1\n",
       "11                  LIGAÇÃO COM POLÍTICO     1\n",
       "12                    MONITOR DE ESPORTE     1\n",
       "13                               Marinha     2\n",
       "14                         Policia Civil    57\n",
       "15                       Policia Federal     4\n",
       "16                       Policia Militar    95\n",
       "17               Secretario de Seguranca     1"
      ]
     },
     "execution_count": 44,
     "metadata": {},
     "output_type": "execute_result"
    }
   ],
   "source": [
    "consolidado.groupby(\"cargo_relacionado_socio\").cnpj.count().reset_index()"
   ]
  },
  {
   "cell_type": "code",
   "execution_count": 45,
   "metadata": {},
   "outputs": [],
   "source": [
    "consolidado.to_csv('empresas_de_seguranca_consolidado_final_nomes.csv', index=False)"
   ]
  },
  {
   "cell_type": "code",
   "execution_count": null,
   "metadata": {},
   "outputs": [],
   "source": []
  },
  {
   "cell_type": "markdown",
   "metadata": {},
   "source": [
    "Seleciona policiais e afins de segurança"
   ]
  },
  {
   "cell_type": "code",
   "execution_count": 46,
   "metadata": {},
   "outputs": [],
   "source": [
    "policiais = consolidado[(consolidado['cargo_relacionado_socio'] == 'Administracao Penitenciaria') | \n",
    "                        (consolidado['cargo_relacionado_socio'] == 'Aeronautica') | \n",
    "                        (consolidado['cargo_relacionado_socio'] == 'Agente penitenciario') |  \n",
    "                        (consolidado['cargo_relacionado_socio'] == 'Bombeiros') | \n",
    "                        (consolidado['cargo_relacionado_socio'] == 'Empresario - ligado a policial civil') | \n",
    "                        (consolidado['cargo_relacionado_socio'] == 'Exercito') | \n",
    "                        (consolidado['cargo_relacionado_socio'] == 'Marinha') | \n",
    "                        (consolidado['cargo_relacionado_socio'] == 'Policia Civil') |  \n",
    "                        (consolidado['cargo_relacionado_socio'] == 'Policia Federal') | \n",
    "                        (consolidado['cargo_relacionado_socio'] == 'Policia Militar') | \n",
    "                        (consolidado['cargo_relacionado_socio'] == 'Secretario de Seguranca')]"
   ]
  },
  {
   "cell_type": "code",
   "execution_count": 47,
   "metadata": {},
   "outputs": [
    {
     "data": {
      "text/html": [
       "<div>\n",
       "<style scoped>\n",
       "    .dataframe tbody tr th:only-of-type {\n",
       "        vertical-align: middle;\n",
       "    }\n",
       "\n",
       "    .dataframe tbody tr th {\n",
       "        vertical-align: top;\n",
       "    }\n",
       "\n",
       "    .dataframe thead th {\n",
       "        text-align: right;\n",
       "    }\n",
       "</style>\n",
       "<table border=\"1\" class=\"dataframe\">\n",
       "  <thead>\n",
       "    <tr style=\"text-align: right;\">\n",
       "      <th></th>\n",
       "      <th>cargo_relacionado_socio</th>\n",
       "      <th>cnpj</th>\n",
       "    </tr>\n",
       "  </thead>\n",
       "  <tbody>\n",
       "    <tr>\n",
       "      <th>0</th>\n",
       "      <td>Administracao Penitenciaria</td>\n",
       "      <td>10</td>\n",
       "    </tr>\n",
       "    <tr>\n",
       "      <th>1</th>\n",
       "      <td>Aeronautica</td>\n",
       "      <td>1</td>\n",
       "    </tr>\n",
       "    <tr>\n",
       "      <th>2</th>\n",
       "      <td>Agente penitenciario</td>\n",
       "      <td>1</td>\n",
       "    </tr>\n",
       "    <tr>\n",
       "      <th>3</th>\n",
       "      <td>Bombeiros</td>\n",
       "      <td>7</td>\n",
       "    </tr>\n",
       "    <tr>\n",
       "      <th>4</th>\n",
       "      <td>Empresario - ligado a policial civil</td>\n",
       "      <td>1</td>\n",
       "    </tr>\n",
       "    <tr>\n",
       "      <th>5</th>\n",
       "      <td>Exercito</td>\n",
       "      <td>8</td>\n",
       "    </tr>\n",
       "    <tr>\n",
       "      <th>6</th>\n",
       "      <td>Marinha</td>\n",
       "      <td>2</td>\n",
       "    </tr>\n",
       "    <tr>\n",
       "      <th>7</th>\n",
       "      <td>Policia Civil</td>\n",
       "      <td>57</td>\n",
       "    </tr>\n",
       "    <tr>\n",
       "      <th>8</th>\n",
       "      <td>Policia Federal</td>\n",
       "      <td>4</td>\n",
       "    </tr>\n",
       "    <tr>\n",
       "      <th>9</th>\n",
       "      <td>Policia Militar</td>\n",
       "      <td>95</td>\n",
       "    </tr>\n",
       "    <tr>\n",
       "      <th>10</th>\n",
       "      <td>Secretario de Seguranca</td>\n",
       "      <td>1</td>\n",
       "    </tr>\n",
       "  </tbody>\n",
       "</table>\n",
       "</div>"
      ],
      "text/plain": [
       "                 cargo_relacionado_socio  cnpj\n",
       "0            Administracao Penitenciaria    10\n",
       "1                            Aeronautica     1\n",
       "2                   Agente penitenciario     1\n",
       "3                              Bombeiros     7\n",
       "4   Empresario - ligado a policial civil     1\n",
       "5                               Exercito     8\n",
       "6                                Marinha     2\n",
       "7                          Policia Civil    57\n",
       "8                        Policia Federal     4\n",
       "9                        Policia Militar    95\n",
       "10               Secretario de Seguranca     1"
      ]
     },
     "execution_count": 47,
     "metadata": {},
     "output_type": "execute_result"
    }
   ],
   "source": [
    "policiais.groupby(\"cargo_relacionado_socio\").cnpj.count().reset_index()"
   ]
  },
  {
   "cell_type": "code",
   "execution_count": 48,
   "metadata": {},
   "outputs": [
    {
     "name": "stdout",
     "output_type": "stream",
     "text": [
      "<class 'pandas.core.frame.DataFrame'>\n",
      "Int64Index: 187 entries, 59 to 1226\n",
      "Data columns (total 30 columns):\n",
      "cnpj                                187 non-null object\n",
      "CNAE_principal                      177 non-null object\n",
      "nome_empresa                        187 non-null object\n",
      "nome_empresa_maiuscula_minuscula    157 non-null object\n",
      "estado                              157 non-null object\n",
      "indicador                           178 non-null float64\n",
      "documento                           178 non-null object\n",
      "qualificacao                        178 non-null object\n",
      "socio                               181 non-null object\n",
      "socio_maiuscula_minuscula           160 non-null object\n",
      "data_abertura                       187 non-null object\n",
      "logradouro                          187 non-null object\n",
      "numero_logradouro                   187 non-null object\n",
      "complemento                         99 non-null object\n",
      "cep                                 129 non-null object\n",
      "bairro                              187 non-null object\n",
      "municipio                           187 non-null object\n",
      "regiao                              123 non-null object\n",
      "telefone                            108 non-null object\n",
      "email                               58 non-null object\n",
      "situacao                            187 non-null object\n",
      "data_situacao_baixa                 71 non-null object\n",
      "capital_social                      142 non-null object\n",
      "Unnamed: 23                         2 non-null object\n",
      "cargo_relacionado_socio             187 non-null object\n",
      "observacao                          185 non-null object\n",
      "situacao_funcional                  172 non-null object\n",
      "sede_situacao                       137 non-null object\n",
      "armas_autorizadas                   1 non-null object\n",
      "autorizacao_pf                      54 non-null object\n",
      "dtypes: float64(1), object(29)\n",
      "memory usage: 45.3+ KB\n"
     ]
    }
   ],
   "source": [
    "policiais.info()"
   ]
  },
  {
   "cell_type": "code",
   "execution_count": 90,
   "metadata": {},
   "outputs": [],
   "source": [
    "policiais.to_csv('policiais_consolidado.csv', index=False)"
   ]
  },
  {
   "cell_type": "code",
   "execution_count": null,
   "metadata": {},
   "outputs": [],
   "source": []
  },
  {
   "cell_type": "markdown",
   "metadata": {},
   "source": [
    "Empresas nas cidades"
   ]
  },
  {
   "cell_type": "code",
   "execution_count": 49,
   "metadata": {},
   "outputs": [
    {
     "data": {
      "text/plain": [
       "51"
      ]
     },
     "execution_count": 49,
     "metadata": {},
     "output_type": "execute_result"
    }
   ],
   "source": [
    "df = consolidado[(consolidado['municipio'] == 'DUQUE DE CAXIAS')]\n",
    "a = len(df['cnpj'].value_counts())\n",
    "a"
   ]
  },
  {
   "cell_type": "code",
   "execution_count": 50,
   "metadata": {},
   "outputs": [
    {
     "data": {
      "text/plain": [
       "28"
      ]
     },
     "execution_count": 50,
     "metadata": {},
     "output_type": "execute_result"
    }
   ],
   "source": [
    "df = consolidado[(consolidado['municipio'] == 'NITEROI')]\n",
    "a = len(df['cnpj'].value_counts())\n",
    "a"
   ]
  },
  {
   "cell_type": "code",
   "execution_count": 51,
   "metadata": {},
   "outputs": [
    {
     "data": {
      "text/plain": [
       "487"
      ]
     },
     "execution_count": 51,
     "metadata": {},
     "output_type": "execute_result"
    }
   ],
   "source": [
    "df = consolidado[(consolidado['municipio'] == 'RIO DE JANEIRO')]\n",
    "a = len(df['cnpj'].value_counts())\n",
    "a"
   ]
  },
  {
   "cell_type": "code",
   "execution_count": 52,
   "metadata": {},
   "outputs": [
    {
     "data": {
      "text/plain": [
       "24"
      ]
     },
     "execution_count": 52,
     "metadata": {},
     "output_type": "execute_result"
    }
   ],
   "source": [
    "df = consolidado[(consolidado['municipio'] == 'NOVA IGUACU')]\n",
    "a = len(df['cnpj'].value_counts())\n",
    "a"
   ]
  },
  {
   "cell_type": "code",
   "execution_count": 53,
   "metadata": {},
   "outputs": [
    {
     "data": {
      "text/plain": [
       "26"
      ]
     },
     "execution_count": 53,
     "metadata": {},
     "output_type": "execute_result"
    }
   ],
   "source": [
    "df = consolidado[(consolidado['municipio'] == 'SAO GONCALO')]\n",
    "a = len(df['cnpj'].value_counts())\n",
    "a"
   ]
  },
  {
   "cell_type": "code",
   "execution_count": 97,
   "metadata": {},
   "outputs": [
    {
     "data": {
      "text/plain": [
       "20"
      ]
     },
     "execution_count": 97,
     "metadata": {},
     "output_type": "execute_result"
    }
   ],
   "source": [
    "df = consolidado[(consolidado['municipio'] == 'SAO JOAO DE MERITI')]\n",
    "a = len(df['cnpj'].value_counts())\n",
    "a"
   ]
  },
  {
   "cell_type": "code",
   "execution_count": null,
   "metadata": {},
   "outputs": [],
   "source": []
  },
  {
   "cell_type": "markdown",
   "metadata": {},
   "source": [
    "Empresas de policiais ou ex-policiais"
   ]
  },
  {
   "cell_type": "code",
   "execution_count": 54,
   "metadata": {},
   "outputs": [
    {
     "data": {
      "text/plain": [
       "162"
      ]
     },
     "execution_count": 54,
     "metadata": {},
     "output_type": "execute_result"
    }
   ],
   "source": [
    "a = len(policiais['cnpj'].value_counts())\n",
    "a"
   ]
  },
  {
   "cell_type": "code",
   "execution_count": 55,
   "metadata": {},
   "outputs": [
    {
     "data": {
      "text/plain": [
       "179"
      ]
     },
     "execution_count": 55,
     "metadata": {},
     "output_type": "execute_result"
    }
   ],
   "source": [
    "a = len(policiais['socio'].value_counts())\n",
    "a"
   ]
  },
  {
   "cell_type": "markdown",
   "metadata": {},
   "source": [
    "Empresas em geral"
   ]
  },
  {
   "cell_type": "code",
   "execution_count": 57,
   "metadata": {},
   "outputs": [
    {
     "data": {
      "text/plain": [
       "636"
      ]
     },
     "execution_count": 57,
     "metadata": {},
     "output_type": "execute_result"
    }
   ],
   "source": [
    "a = len(consolidado['cnpj'].value_counts())\n",
    "a"
   ]
  },
  {
   "cell_type": "markdown",
   "metadata": {},
   "source": [
    "Empresas em geral com autorização da PF"
   ]
  },
  {
   "cell_type": "code",
   "execution_count": 58,
   "metadata": {},
   "outputs": [
    {
     "data": {
      "text/plain": [
       "123"
      ]
     },
     "execution_count": 58,
     "metadata": {},
     "output_type": "execute_result"
    }
   ],
   "source": [
    "df = consolidado[(consolidado['autorizacao_pf'] == 'Autorizada')]\n",
    "a = len(df['cnpj'].value_counts())\n",
    "a"
   ]
  },
  {
   "cell_type": "code",
   "execution_count": null,
   "metadata": {},
   "outputs": [],
   "source": []
  },
  {
   "cell_type": "markdown",
   "metadata": {},
   "source": [
    "Empresas de policiais e no Rio"
   ]
  },
  {
   "cell_type": "code",
   "execution_count": 59,
   "metadata": {},
   "outputs": [
    {
     "data": {
      "text/plain": [
       "129"
      ]
     },
     "execution_count": 59,
     "metadata": {},
     "output_type": "execute_result"
    }
   ],
   "source": [
    "df = policiais[(policiais['municipio'] == 'RIO DE JANEIRO')]\n",
    "a = len(df['cnpj'].value_counts())\n",
    "a"
   ]
  },
  {
   "cell_type": "code",
   "execution_count": null,
   "metadata": {},
   "outputs": [],
   "source": []
  },
  {
   "cell_type": "markdown",
   "metadata": {},
   "source": [
    "Região Oeste - área com mais milícias"
   ]
  },
  {
   "cell_type": "code",
   "execution_count": 64,
   "metadata": {},
   "outputs": [
    {
     "data": {
      "text/html": [
       "<div>\n",
       "<style scoped>\n",
       "    .dataframe tbody tr th:only-of-type {\n",
       "        vertical-align: middle;\n",
       "    }\n",
       "\n",
       "    .dataframe tbody tr th {\n",
       "        vertical-align: top;\n",
       "    }\n",
       "\n",
       "    .dataframe thead th {\n",
       "        text-align: right;\n",
       "    }\n",
       "</style>\n",
       "<table border=\"1\" class=\"dataframe\">\n",
       "  <thead>\n",
       "    <tr style=\"text-align: right;\">\n",
       "      <th></th>\n",
       "      <th>regiao</th>\n",
       "      <th>cnpj</th>\n",
       "    </tr>\n",
       "  </thead>\n",
       "  <tbody>\n",
       "    <tr>\n",
       "      <th>0</th>\n",
       "      <td>centro</td>\n",
       "      <td>75</td>\n",
       "    </tr>\n",
       "    <tr>\n",
       "      <th>1</th>\n",
       "      <td>ilha do governador</td>\n",
       "      <td>7</td>\n",
       "    </tr>\n",
       "    <tr>\n",
       "      <th>2</th>\n",
       "      <td>norte</td>\n",
       "      <td>214</td>\n",
       "    </tr>\n",
       "    <tr>\n",
       "      <th>3</th>\n",
       "      <td>oeste</td>\n",
       "      <td>212</td>\n",
       "    </tr>\n",
       "    <tr>\n",
       "      <th>4</th>\n",
       "      <td>sul</td>\n",
       "      <td>23</td>\n",
       "    </tr>\n",
       "  </tbody>\n",
       "</table>\n",
       "</div>"
      ],
      "text/plain": [
       "               regiao  cnpj\n",
       "0              centro    75\n",
       "1  ilha do governador     7\n",
       "2               norte   214\n",
       "3               oeste   212\n",
       "4                 sul    23"
      ]
     },
     "execution_count": 64,
     "metadata": {},
     "output_type": "execute_result"
    }
   ],
   "source": [
    "consolidado.groupby(\"regiao\").cnpj.count().reset_index() # linhas"
   ]
  },
  {
   "cell_type": "code",
   "execution_count": 61,
   "metadata": {},
   "outputs": [],
   "source": [
    "oeste = consolidado[(consolidado['regiao'] == 'oeste')]"
   ]
  },
  {
   "cell_type": "code",
   "execution_count": 62,
   "metadata": {},
   "outputs": [
    {
     "data": {
      "text/plain": [
       "188"
      ]
     },
     "execution_count": 62,
     "metadata": {},
     "output_type": "execute_result"
    }
   ],
   "source": [
    "a = len(oeste['cnpj'].value_counts())\n",
    "a"
   ]
  },
  {
   "cell_type": "markdown",
   "metadata": {},
   "source": [
    "De policiais"
   ]
  },
  {
   "cell_type": "code",
   "execution_count": 63,
   "metadata": {},
   "outputs": [
    {
     "data": {
      "text/plain": [
       "46"
      ]
     },
     "execution_count": 63,
     "metadata": {},
     "output_type": "execute_result"
    }
   ],
   "source": [
    "oestep = policiais[(policiais['regiao'] == 'oeste')]\n",
    "a = len(oestep['cnpj'].value_counts())\n",
    "a"
   ]
  },
  {
   "cell_type": "code",
   "execution_count": null,
   "metadata": {},
   "outputs": [],
   "source": []
  },
  {
   "cell_type": "markdown",
   "metadata": {},
   "source": [
    "Verifica policias com servidores aposentados e ativos"
   ]
  },
  {
   "cell_type": "code",
   "execution_count": 65,
   "metadata": {},
   "outputs": [],
   "source": [
    "servidores_aposentados = pd.read_csv(\"servidores_rj_aposentados_fev_18.csv\",sep=',',encoding = 'utf-8')"
   ]
  },
  {
   "cell_type": "code",
   "execution_count": 66,
   "metadata": {},
   "outputs": [],
   "source": [
    "servidores_aposentados[\"Nome\"] = servidores_aposentados[\"Nome\"].str.strip()"
   ]
  },
  {
   "cell_type": "code",
   "execution_count": null,
   "metadata": {},
   "outputs": [],
   "source": []
  },
  {
   "cell_type": "code",
   "execution_count": 67,
   "metadata": {},
   "outputs": [],
   "source": [
    "policiais_s = policiais[pd.notnull(policiais['socio'])]"
   ]
  },
  {
   "cell_type": "code",
   "execution_count": 68,
   "metadata": {},
   "outputs": [
    {
     "name": "stderr",
     "output_type": "stream",
     "text": [
      "/home/reinaldo/Documentos/Code/intercept/seguranca/lib/python3.6/site-packages/ipykernel_launcher.py:1: SettingWithCopyWarning: \n",
      "A value is trying to be set on a copy of a slice from a DataFrame.\n",
      "Try using .loc[row_indexer,col_indexer] = value instead\n",
      "\n",
      "See the caveats in the documentation: http://pandas.pydata.org/pandas-docs/stable/indexing.html#indexing-view-versus-copy\n",
      "  \"\"\"Entry point for launching an IPython kernel.\n"
     ]
    }
   ],
   "source": [
    "policiais_s[\"socio\"] = policiais_s[\"socio\"].apply(f)"
   ]
  },
  {
   "cell_type": "code",
   "execution_count": 69,
   "metadata": {},
   "outputs": [],
   "source": [
    "encontrados_segura = pd.merge(servidores_aposentados, policiais_s, left_on='Nome', right_on='socio')"
   ]
  },
  {
   "cell_type": "code",
   "execution_count": 70,
   "metadata": {},
   "outputs": [
    {
     "data": {
      "text/plain": [
       "71"
      ]
     },
     "execution_count": 70,
     "metadata": {},
     "output_type": "execute_result"
    }
   ],
   "source": [
    "a = len(encontrados_segura['Nome'].value_counts())\n",
    "a"
   ]
  },
  {
   "cell_type": "code",
   "execution_count": 71,
   "metadata": {},
   "outputs": [
    {
     "name": "stdout",
     "output_type": "stream",
     "text": [
      "<class 'pandas.core.frame.DataFrame'>\n",
      "Int64Index: 75 entries, 0 to 74\n",
      "Data columns (total 33 columns):\n",
      "Nome                                75 non-null object\n",
      "Tipo de VÃ­nculo                    75 non-null object\n",
      "Unnamed: 2                          0 non-null float64\n",
      "cnpj                                75 non-null object\n",
      "CNAE_principal                      72 non-null object\n",
      "nome_empresa                        75 non-null object\n",
      "nome_empresa_maiuscula_minuscula    63 non-null object\n",
      "estado                              63 non-null object\n",
      "indicador                           74 non-null float64\n",
      "documento                           74 non-null object\n",
      "qualificacao                        74 non-null object\n",
      "socio                               75 non-null object\n",
      "socio_maiuscula_minuscula           63 non-null object\n",
      "data_abertura                       75 non-null object\n",
      "logradouro                          75 non-null object\n",
      "numero_logradouro                   75 non-null object\n",
      "complemento                         38 non-null object\n",
      "cep                                 54 non-null object\n",
      "bairro                              75 non-null object\n",
      "municipio                           75 non-null object\n",
      "regiao                              48 non-null object\n",
      "telefone                            40 non-null object\n",
      "email                               17 non-null object\n",
      "situacao                            75 non-null object\n",
      "data_situacao_baixa                 28 non-null object\n",
      "capital_social                      53 non-null object\n",
      "Unnamed: 23                         0 non-null object\n",
      "cargo_relacionado_socio             75 non-null object\n",
      "observacao                          75 non-null object\n",
      "situacao_funcional                  75 non-null object\n",
      "sede_situacao                       56 non-null object\n",
      "armas_autorizadas                   1 non-null object\n",
      "autorizacao_pf                      22 non-null object\n",
      "dtypes: float64(2), object(31)\n",
      "memory usage: 19.9+ KB\n"
     ]
    }
   ],
   "source": [
    "encontrados_segura.info()"
   ]
  },
  {
   "cell_type": "code",
   "execution_count": null,
   "metadata": {},
   "outputs": [],
   "source": []
  },
  {
   "cell_type": "code",
   "execution_count": 72,
   "metadata": {},
   "outputs": [],
   "source": [
    "servidores_ativos = pd.read_csv(\"servidores_rj_ativos_fev_18.csv\",sep=',',encoding = 'utf-8')"
   ]
  },
  {
   "cell_type": "code",
   "execution_count": 73,
   "metadata": {},
   "outputs": [],
   "source": [
    "servidores_ativos[\"Nome\"] = servidores_ativos[\"Nome\"].str.strip()"
   ]
  },
  {
   "cell_type": "code",
   "execution_count": 74,
   "metadata": {},
   "outputs": [],
   "source": [
    "encontrados_segura2 = pd.merge(servidores_ativos, policiais_s, left_on='Nome', right_on='socio')"
   ]
  },
  {
   "cell_type": "code",
   "execution_count": 75,
   "metadata": {},
   "outputs": [
    {
     "data": {
      "text/plain": [
       "76"
      ]
     },
     "execution_count": 75,
     "metadata": {},
     "output_type": "execute_result"
    }
   ],
   "source": [
    "a = len(encontrados_segura2['Nome'].value_counts())\n",
    "a"
   ]
  },
  {
   "cell_type": "code",
   "execution_count": null,
   "metadata": {},
   "outputs": [],
   "source": []
  },
  {
   "cell_type": "markdown",
   "metadata": {},
   "source": [
    "Total de policiais, bombeiros e agentes penitenciários"
   ]
  },
  {
   "cell_type": "code",
   "execution_count": 76,
   "metadata": {},
   "outputs": [],
   "source": [
    "policiais2 = consolidado[(consolidado['cargo_relacionado_socio'] == 'Administracao Penitenciaria') | (consolidado['cargo_relacionado_socio'] == 'Agente penitenciario') |  (consolidado['cargo_relacionado_socio'] == 'Bombeiros') | (consolidado['cargo_relacionado_socio'] == 'Policia Civil') | (consolidado['cargo_relacionado_socio'] == 'Policia Federal') | (consolidado['cargo_relacionado_socio'] == 'Policia Militar') ]"
   ]
  },
  {
   "cell_type": "code",
   "execution_count": 77,
   "metadata": {},
   "outputs": [
    {
     "data": {
      "text/plain": [
       "166"
      ]
     },
     "execution_count": 77,
     "metadata": {},
     "output_type": "execute_result"
    }
   ],
   "source": [
    "a = len(policiais2['socio'].value_counts())\n",
    "a"
   ]
  },
  {
   "cell_type": "code",
   "execution_count": null,
   "metadata": {},
   "outputs": [],
   "source": []
  },
  {
   "cell_type": "markdown",
   "metadata": {},
   "source": [
    "Total de agentes em geral"
   ]
  },
  {
   "cell_type": "code",
   "execution_count": 79,
   "metadata": {},
   "outputs": [
    {
     "data": {
      "text/plain": [
       "179"
      ]
     },
     "execution_count": 79,
     "metadata": {},
     "output_type": "execute_result"
    }
   ],
   "source": [
    "a = len(policiais['socio'].value_counts())\n",
    "a"
   ]
  },
  {
   "cell_type": "code",
   "execution_count": null,
   "metadata": {},
   "outputs": [],
   "source": []
  },
  {
   "cell_type": "markdown",
   "metadata": {},
   "source": [
    "Empresas de segurança com sócios agentes de segurança que não têm autorização da PF"
   ]
  },
  {
   "cell_type": "code",
   "execution_count": 80,
   "metadata": {},
   "outputs": [
    {
     "data": {
      "text/plain": [
       "122"
      ]
     },
     "execution_count": 80,
     "metadata": {},
     "output_type": "execute_result"
    }
   ],
   "source": [
    "df = policiais[(policiais['autorizacao_pf'] != 'Autorizada')]\n",
    "a = len(df['cnpj'].value_counts())\n",
    "a"
   ]
  },
  {
   "cell_type": "markdown",
   "metadata": {},
   "source": [
    "Com autorização"
   ]
  },
  {
   "cell_type": "code",
   "execution_count": 81,
   "metadata": {},
   "outputs": [
    {
     "data": {
      "text/plain": [
       "40"
      ]
     },
     "execution_count": 81,
     "metadata": {},
     "output_type": "execute_result"
    }
   ],
   "source": [
    "df = policiais[(policiais['autorizacao_pf'] == 'Autorizada')]\n",
    "a = len(df['cnpj'].value_counts())\n",
    "a"
   ]
  },
  {
   "cell_type": "code",
   "execution_count": null,
   "metadata": {},
   "outputs": [],
   "source": []
  },
  {
   "cell_type": "markdown",
   "metadata": {},
   "source": [
    "Empresas de segurança com sócios agentes de segurança localizados na Zona Oeste, e sem autorização da PF"
   ]
  },
  {
   "cell_type": "code",
   "execution_count": 82,
   "metadata": {},
   "outputs": [
    {
     "data": {
      "text/plain": [
       "46"
      ]
     },
     "execution_count": 82,
     "metadata": {},
     "output_type": "execute_result"
    }
   ],
   "source": [
    "oestep = policiais[(policiais['regiao'] == 'oeste')]\n",
    "a = len(oestep['cnpj'].value_counts())\n",
    "a"
   ]
  },
  {
   "cell_type": "code",
   "execution_count": 83,
   "metadata": {},
   "outputs": [
    {
     "data": {
      "text/plain": [
       "44"
      ]
     },
     "execution_count": 83,
     "metadata": {},
     "output_type": "execute_result"
    }
   ],
   "source": [
    "oestep_1 = oestep[(oestep['autorizacao_pf']  != 'Autorizada')]\n",
    "a = len(oestep_1['cnpj'].value_counts())\n",
    "a"
   ]
  },
  {
   "cell_type": "code",
   "execution_count": null,
   "metadata": {},
   "outputs": [],
   "source": []
  },
  {
   "cell_type": "markdown",
   "metadata": {},
   "source": [
    "Empresas de segurança em geral com autorização da PF"
   ]
  },
  {
   "cell_type": "code",
   "execution_count": 84,
   "metadata": {},
   "outputs": [
    {
     "data": {
      "text/plain": [
       "636"
      ]
     },
     "execution_count": 84,
     "metadata": {},
     "output_type": "execute_result"
    }
   ],
   "source": [
    "a = len(consolidado['cnpj'].value_counts())\n",
    "a"
   ]
  },
  {
   "cell_type": "code",
   "execution_count": 85,
   "metadata": {},
   "outputs": [
    {
     "data": {
      "text/plain": [
       "123"
      ]
     },
     "execution_count": 85,
     "metadata": {},
     "output_type": "execute_result"
    }
   ],
   "source": [
    "a = consolidado[(consolidado['autorizacao_pf'] == 'Autorizada')]\n",
    "a = len(a['cnpj'].value_counts())\n",
    "a"
   ]
  },
  {
   "cell_type": "code",
   "execution_count": null,
   "metadata": {},
   "outputs": [],
   "source": []
  }
 ],
 "metadata": {
  "kernelspec": {
   "display_name": "Python 3",
   "language": "python",
   "name": "python3"
  },
  "language_info": {
   "codemirror_mode": {
    "name": "ipython",
    "version": 3
   },
   "file_extension": ".py",
   "mimetype": "text/x-python",
   "name": "python",
   "nbconvert_exporter": "python",
   "pygments_lexer": "ipython3",
   "version": "3.6.2"
  }
 },
 "nbformat": 4,
 "nbformat_minor": 2
}
