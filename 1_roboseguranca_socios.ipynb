{
 "cells": [
  {
   "cell_type": "code",
   "execution_count": 1,
   "metadata": {},
   "outputs": [],
   "source": [
    "# -*- coding: utf-8\n",
    "# The Intercept Brasil (https://theintercept.com/brasil/)\n",
    "# Reinaldo Chaves (@paidatocandeira)\n",
    "# Acessa a base de empresas e sócios da Receita e filtra apenas as relacionadas com segurança\n",
    "#"
   ]
  },
  {
   "cell_type": "code",
   "execution_count": null,
   "metadata": {},
   "outputs": [],
   "source": []
  },
  {
   "cell_type": "code",
   "execution_count": 1,
   "metadata": {},
   "outputs": [],
   "source": [
    "import pandas as pd\n",
    "import unidecode"
   ]
  },
  {
   "cell_type": "code",
   "execution_count": null,
   "metadata": {},
   "outputs": [],
   "source": []
  },
  {
   "cell_type": "markdown",
   "metadata": {},
   "source": [
    "Função para retirar acentuação "
   ]
  },
  {
   "cell_type": "code",
   "execution_count": 2,
   "metadata": {},
   "outputs": [],
   "source": [
    "def f(str):\n",
    "    return (unidecode.unidecode(str))"
   ]
  },
  {
   "cell_type": "code",
   "execution_count": null,
   "metadata": {},
   "outputs": [],
   "source": []
  },
  {
   "cell_type": "markdown",
   "metadata": {},
   "source": [
    "# Carrega empresas e socios"
   ]
  },
  {
   "cell_type": "markdown",
   "metadata": {},
   "source": [
    "Da base criada com informações da Receita Federal. Extração da base aqui (https://github.com/reichaves/curso_knight_python_2017/blob/master/roboempresa.ipynb)"
   ]
  },
  {
   "cell_type": "code",
   "execution_count": 5,
   "metadata": {},
   "outputs": [],
   "source": [
    "socios_brasil = pd.read_csv(\"socios_br_4_1.csv\",sep=',',encoding = 'utf-8', converters={'cnpj': lambda x: str(x)})"
   ]
  },
  {
   "cell_type": "code",
   "execution_count": 6,
   "metadata": {},
   "outputs": [],
   "source": [
    "empresas_brasil = pd.read_csv(\"empresas_br_4_1.csv\",sep=',',encoding = 'utf-8', converters={'cnpj': lambda x: str(x)})"
   ]
  },
  {
   "cell_type": "code",
   "execution_count": null,
   "metadata": {},
   "outputs": [],
   "source": []
  },
  {
   "cell_type": "markdown",
   "metadata": {},
   "source": [
    "# Carrega empresas com segurança e outros itens no nome"
   ]
  },
  {
   "cell_type": "code",
   "execution_count": 6,
   "metadata": {},
   "outputs": [],
   "source": [
    "mask = empresas_brasil['nome_empresa'].str.contains(\"SEGURANCA\", na=False)"
   ]
  },
  {
   "cell_type": "code",
   "execution_count": 7,
   "metadata": {},
   "outputs": [],
   "source": [
    "segura = empresas_brasil[mask]"
   ]
  },
  {
   "cell_type": "code",
   "execution_count": 8,
   "metadata": {},
   "outputs": [
    {
     "name": "stdout",
     "output_type": "stream",
     "text": [
      "<class 'pandas.core.frame.DataFrame'>\n",
      "Int64Index: 33024 entries, 1548 to 8952135\n",
      "Data columns (total 4 columns):\n",
      "Unnamed: 0      33024 non-null int64\n",
      "cnpj            33024 non-null object\n",
      "nome_empresa    33024 non-null object\n",
      "estado          33024 non-null object\n",
      "dtypes: int64(1), object(3)\n",
      "memory usage: 1.3+ MB\n"
     ]
    }
   ],
   "source": [
    "segura.info()"
   ]
  },
  {
   "cell_type": "code",
   "execution_count": 9,
   "metadata": {},
   "outputs": [],
   "source": [
    "mask = empresas_brasil['nome_empresa'].str.contains(\"VIGILANCIA\", na=False)"
   ]
  },
  {
   "cell_type": "code",
   "execution_count": 10,
   "metadata": {},
   "outputs": [],
   "source": [
    "vigi = empresas_brasil[mask]"
   ]
  },
  {
   "cell_type": "code",
   "execution_count": 11,
   "metadata": {},
   "outputs": [
    {
     "name": "stdout",
     "output_type": "stream",
     "text": [
      "<class 'pandas.core.frame.DataFrame'>\n",
      "Int64Index: 4850 entries, 1790 to 8951645\n",
      "Data columns (total 4 columns):\n",
      "Unnamed: 0      4850 non-null int64\n",
      "cnpj            4850 non-null object\n",
      "nome_empresa    4850 non-null object\n",
      "estado          4850 non-null object\n",
      "dtypes: int64(1), object(3)\n",
      "memory usage: 189.5+ KB\n"
     ]
    }
   ],
   "source": [
    "vigi.info()"
   ]
  },
  {
   "cell_type": "code",
   "execution_count": 12,
   "metadata": {},
   "outputs": [],
   "source": [
    "mask = empresas_brasil['nome_empresa'].str.contains(\"TRANSPORTE DE VALORES\", na=False)"
   ]
  },
  {
   "cell_type": "code",
   "execution_count": 13,
   "metadata": {},
   "outputs": [],
   "source": [
    "transp = empresas_brasil[mask]"
   ]
  },
  {
   "cell_type": "code",
   "execution_count": 14,
   "metadata": {},
   "outputs": [
    {
     "name": "stdout",
     "output_type": "stream",
     "text": [
      "<class 'pandas.core.frame.DataFrame'>\n",
      "Int64Index: 95 entries, 84114 to 8591149\n",
      "Data columns (total 4 columns):\n",
      "Unnamed: 0      95 non-null int64\n",
      "cnpj            95 non-null object\n",
      "nome_empresa    95 non-null object\n",
      "estado          95 non-null object\n",
      "dtypes: int64(1), object(3)\n",
      "memory usage: 3.7+ KB\n"
     ]
    }
   ],
   "source": [
    "transp.info()"
   ]
  },
  {
   "cell_type": "code",
   "execution_count": null,
   "metadata": {},
   "outputs": [],
   "source": []
  },
  {
   "cell_type": "markdown",
   "metadata": {},
   "source": [
    "Reune dataframes"
   ]
  },
  {
   "cell_type": "code",
   "execution_count": 16,
   "metadata": {},
   "outputs": [],
   "source": [
    "empresas_seguranca1 = pd.merge(segura, vigi, left_on='cnpj', right_on='cnpj', how='outer')"
   ]
  },
  {
   "cell_type": "code",
   "execution_count": 17,
   "metadata": {},
   "outputs": [],
   "source": [
    "empresas_seguranca = pd.merge(empresas_seguranca1, transp, left_on='cnpj', right_on='cnpj', how='outer')"
   ]
  },
  {
   "cell_type": "code",
   "execution_count": 18,
   "metadata": {},
   "outputs": [
    {
     "name": "stdout",
     "output_type": "stream",
     "text": [
      "<class 'pandas.core.frame.DataFrame'>\n",
      "Int64Index: 35581 entries, 0 to 35580\n",
      "Data columns (total 10 columns):\n",
      "Unnamed: 0_x      33024 non-null float64\n",
      "cnpj              35581 non-null object\n",
      "nome_empresa_x    33024 non-null object\n",
      "estado_x          33024 non-null object\n",
      "Unnamed: 0_y      4850 non-null float64\n",
      "nome_empresa_y    4850 non-null object\n",
      "estado_y          4850 non-null object\n",
      "Unnamed: 0        95 non-null float64\n",
      "nome_empresa      95 non-null object\n",
      "estado            95 non-null object\n",
      "dtypes: float64(3), object(7)\n",
      "memory usage: 3.0+ MB\n"
     ]
    }
   ],
   "source": [
    "empresas_seguranca.info()"
   ]
  },
  {
   "cell_type": "code",
   "execution_count": 19,
   "metadata": {},
   "outputs": [
    {
     "data": {
      "text/html": [
       "<div>\n",
       "<style scoped>\n",
       "    .dataframe tbody tr th:only-of-type {\n",
       "        vertical-align: middle;\n",
       "    }\n",
       "\n",
       "    .dataframe tbody tr th {\n",
       "        vertical-align: top;\n",
       "    }\n",
       "\n",
       "    .dataframe thead th {\n",
       "        text-align: right;\n",
       "    }\n",
       "</style>\n",
       "<table border=\"1\" class=\"dataframe\">\n",
       "  <thead>\n",
       "    <tr style=\"text-align: right;\">\n",
       "      <th></th>\n",
       "      <th>index</th>\n",
       "      <th>Unnamed: 0_x</th>\n",
       "      <th>cnpj</th>\n",
       "      <th>nome_empresa_x</th>\n",
       "      <th>estado_x</th>\n",
       "      <th>Unnamed: 0_y</th>\n",
       "      <th>nome_empresa_y</th>\n",
       "      <th>estado_y</th>\n",
       "      <th>Unnamed: 0</th>\n",
       "      <th>nome_empresa</th>\n",
       "      <th>estado</th>\n",
       "    </tr>\n",
       "  </thead>\n",
       "  <tbody>\n",
       "    <tr>\n",
       "      <th>0</th>\n",
       "      <td>0</td>\n",
       "      <td>1548.0</td>\n",
       "      <td>00529528000152</td>\n",
       "      <td>SEGURA MEDICINA E SEGURANCA DO TRABALHO LTDA - ME</td>\n",
       "      <td>Acre</td>\n",
       "      <td>NaN</td>\n",
       "      <td>NaN</td>\n",
       "      <td>NaN</td>\n",
       "      <td>NaN</td>\n",
       "      <td>NaN</td>\n",
       "      <td>NaN</td>\n",
       "    </tr>\n",
       "    <tr>\n",
       "      <th>1</th>\n",
       "      <td>1</td>\n",
       "      <td>1671.0</td>\n",
       "      <td>02197190000104</td>\n",
       "      <td>SUATS SEGURANCA - EIRELI</td>\n",
       "      <td>Acre</td>\n",
       "      <td>NaN</td>\n",
       "      <td>NaN</td>\n",
       "      <td>NaN</td>\n",
       "      <td>NaN</td>\n",
       "      <td>NaN</td>\n",
       "      <td>NaN</td>\n",
       "    </tr>\n",
       "    <tr>\n",
       "      <th>2</th>\n",
       "      <td>2</td>\n",
       "      <td>1720.0</td>\n",
       "      <td>05562482000197</td>\n",
       "      <td>ASSOCIACAO DOS ENGENHEIROS DA INDUSTRIA E DE S...</td>\n",
       "      <td>Acre</td>\n",
       "      <td>NaN</td>\n",
       "      <td>NaN</td>\n",
       "      <td>NaN</td>\n",
       "      <td>NaN</td>\n",
       "      <td>NaN</td>\n",
       "      <td>NaN</td>\n",
       "    </tr>\n",
       "    <tr>\n",
       "      <th>3</th>\n",
       "      <td>3</td>\n",
       "      <td>1732.0</td>\n",
       "      <td>05564936000169</td>\n",
       "      <td>AMAZONIA SEGURANCA LTDA - ME</td>\n",
       "      <td>Acre</td>\n",
       "      <td>NaN</td>\n",
       "      <td>NaN</td>\n",
       "      <td>NaN</td>\n",
       "      <td>NaN</td>\n",
       "      <td>NaN</td>\n",
       "      <td>NaN</td>\n",
       "    </tr>\n",
       "    <tr>\n",
       "      <th>4</th>\n",
       "      <td>4</td>\n",
       "      <td>1752.0</td>\n",
       "      <td>03912598000183</td>\n",
       "      <td>QUALIVIDA ASSESSORIA E CONSULTORIA EM SEGURANC...</td>\n",
       "      <td>Acre</td>\n",
       "      <td>NaN</td>\n",
       "      <td>NaN</td>\n",
       "      <td>NaN</td>\n",
       "      <td>NaN</td>\n",
       "      <td>NaN</td>\n",
       "      <td>NaN</td>\n",
       "    </tr>\n",
       "  </tbody>\n",
       "</table>\n",
       "</div>"
      ],
      "text/plain": [
       "   index  Unnamed: 0_x            cnpj  \\\n",
       "0      0        1548.0  00529528000152   \n",
       "1      1        1671.0  02197190000104   \n",
       "2      2        1720.0  05562482000197   \n",
       "3      3        1732.0  05564936000169   \n",
       "4      4        1752.0  03912598000183   \n",
       "\n",
       "                                      nome_empresa_x estado_x  Unnamed: 0_y  \\\n",
       "0  SEGURA MEDICINA E SEGURANCA DO TRABALHO LTDA - ME     Acre           NaN   \n",
       "1                           SUATS SEGURANCA - EIRELI     Acre           NaN   \n",
       "2  ASSOCIACAO DOS ENGENHEIROS DA INDUSTRIA E DE S...     Acre           NaN   \n",
       "3                       AMAZONIA SEGURANCA LTDA - ME     Acre           NaN   \n",
       "4  QUALIVIDA ASSESSORIA E CONSULTORIA EM SEGURANC...     Acre           NaN   \n",
       "\n",
       "  nome_empresa_y estado_y  Unnamed: 0 nome_empresa estado  \n",
       "0            NaN      NaN         NaN          NaN    NaN  \n",
       "1            NaN      NaN         NaN          NaN    NaN  \n",
       "2            NaN      NaN         NaN          NaN    NaN  \n",
       "3            NaN      NaN         NaN          NaN    NaN  \n",
       "4            NaN      NaN         NaN          NaN    NaN  "
      ]
     },
     "execution_count": 19,
     "metadata": {},
     "output_type": "execute_result"
    }
   ],
   "source": [
    "empresas_seguranca.reset_index().head()"
   ]
  },
  {
   "cell_type": "code",
   "execution_count": 20,
   "metadata": {},
   "outputs": [],
   "source": [
    "empresas_seguranca.to_csv('empresas_seguranca_ajustar.csv', index=False)"
   ]
  },
  {
   "cell_type": "code",
   "execution_count": null,
   "metadata": {},
   "outputs": [],
   "source": []
  },
  {
   "cell_type": "markdown",
   "metadata": {},
   "source": [
    "Limpeza no arquivo retira colunas que não serão usadas neste levantamento"
   ]
  },
  {
   "cell_type": "code",
   "execution_count": 3,
   "metadata": {},
   "outputs": [],
   "source": [
    "empresas_seguranca_final = pd.read_csv(\"empresas_seguranca_ajustado.csv\",sep=';',encoding = 'utf-8', converters={'cnpj': lambda x: str(x)})"
   ]
  },
  {
   "cell_type": "code",
   "execution_count": 4,
   "metadata": {},
   "outputs": [
    {
     "name": "stdout",
     "output_type": "stream",
     "text": [
      "<class 'pandas.core.frame.DataFrame'>\n",
      "RangeIndex: 35581 entries, 0 to 35580\n",
      "Data columns (total 3 columns):\n",
      "cnpj            35581 non-null object\n",
      "nome_empresa    35581 non-null object\n",
      "estado          35581 non-null object\n",
      "dtypes: object(3)\n",
      "memory usage: 834.0+ KB\n"
     ]
    }
   ],
   "source": [
    "empresas_seguranca_final.info()"
   ]
  },
  {
   "cell_type": "markdown",
   "metadata": {},
   "source": [
    "Faz série de exclusões de termos que não têm relação com segurança pública"
   ]
  },
  {
   "cell_type": "code",
   "execution_count": 8,
   "metadata": {},
   "outputs": [],
   "source": [
    "extracao1 = empresas_seguranca_final[empresas_seguranca_final['nome_empresa'].str.contains(\"SEGURANCA DO TRABALHO\") == False]\n",
    "extracao2 = extracao1[extracao1['nome_empresa'].str.contains(\"SEGURANCA VEICULAR\") == False]\n",
    "extracao3 = extracao2[extracao2['nome_empresa'].str.contains(\"SEGURANCA OCUPACIONAL\") == False]\n",
    "extracao4 = extracao3[extracao3['nome_empresa'].str.contains(\"COOPERATIVA\") == False]\n",
    "extracao5 = extracao4[extracao4['nome_empresa'].str.contains(\"SEGURANCA E INSTRUMENTACAO\") == False]\n",
    "extracao6 = extracao5[extracao5['nome_empresa'].str.contains(\"PRODUTOS DE SEGURANCA\") == False]\n",
    "extracao7 = extracao6[extracao6['nome_empresa'].str.contains(\"EQUIPAMENTOS DE SEGURANCA\") == False]\n",
    "extracao8 = extracao7[extracao7['nome_empresa'].str.contains(\"MATERIAIS DE SEGURANCA\") == False]\n",
    "extracao9 = extracao8[extracao8['nome_empresa'].str.contains(\"SEGURANCA E MANUTENCAO\") == False]\n",
    "extracao10 = extracao9[extracao9['nome_empresa'].str.contains(\"SEGURANCA E MEDICINA\") == False]\n",
    "extracao11 = extracao10[extracao10['nome_empresa'].str.contains(\"SAUDE OCUPACIONAL\") == False]\n",
    "extracao12 = extracao11[extracao11['nome_empresa'].str.contains(\"MEDICINA DO TRABALHO\") == False]\n",
    "extracao13 = extracao12[extracao12['nome_empresa'].str.contains(\"SAUDE\") == False]\n",
    "extracao14 = extracao13[extracao13['nome_empresa'].str.contains(\"MEDICINA\") == False]\n",
    "extracao15 = extracao14[extracao14['nome_empresa'].str.contains(\"SEGURANCA AUTOMOTIVA\") == False] \n",
    "extracao16 = extracao15[extracao15['nome_empresa'].str.contains(\"MEIO AMBIENTE\") == False] \n",
    "extracao17 = extracao16[extracao16['nome_empresa'].str.contains(\"VIDROS\") == False] \n",
    "extracao18 = extracao17[extracao17['nome_empresa'].str.contains(\"INCENDIO\") == False] \n",
    "extracao19 = extracao18[extracao18['nome_empresa'].str.contains(\"MATERIAL DE SEGURANCA\") == False] \n",
    "extracao20 = extracao19[extracao19['nome_empresa'].str.contains(\"SEGURANCA DA INFORMACAO\") == False] \n",
    "extracao21 = extracao20[extracao20['nome_empresa'].str.contains(\"RESERVATORIOS\") == False] \n",
    "extracao22 = extracao21[extracao21['nome_empresa'].str.contains(\"AUTOMACAO\") == False] \n",
    "extracao23 = extracao22[extracao22['nome_empresa'].str.contains(\"CALCADOS DE SEGURANCA\") == False] \n",
    "extracao24 = extracao23[extracao23['nome_empresa'].str.contains(\"VEICULAR\") == False] \n",
    "extracao25 = extracao24[extracao24['nome_empresa'].str.contains(\"EDITORA\") == False] \n",
    "extracao26 = extracao25[extracao25['nome_empresa'].str.contains(\"INFORMATICA\") == False] \n",
    "extracao27 = extracao26[extracao26['nome_empresa'].str.contains(\"GESTAO AMBIENTAL\") == False] \n",
    "extracao28 = extracao27[extracao27['nome_empresa'].str.contains(\"SINALIZACAO\") == False] \n",
    "extracao29 = extracao28[extracao28['nome_empresa'].str.contains(\"RADIOPROTECAO\") == False] \n",
    "extracao30 = extracao29[extracao29['nome_empresa'].str.contains(\"BIO SEGURANCA\") == False] \n",
    "extracao31 = extracao30[extracao30['nome_empresa'].str.contains(\"BIOSEGURANCA\") == False]\n",
    "extracao32 = extracao31[extracao31['nome_empresa'].str.contains(\"PERICIAS\") == False]\n",
    "extracao33 = extracao32[extracao32['nome_empresa'].str.contains(\"ELETRON\") == False]\n",
    "extracao34 = extracao33[extracao33['nome_empresa'].str.contains(\"SISTEMA\") == False]"
   ]
  },
  {
   "cell_type": "markdown",
   "metadata": {},
   "source": [
    "Salva como CSV o filtro feito"
   ]
  },
  {
   "cell_type": "code",
   "execution_count": 17,
   "metadata": {},
   "outputs": [],
   "source": [
    "extracao34.to_csv('empresas_seguranca.csv', index=False)"
   ]
  },
  {
   "cell_type": "code",
   "execution_count": null,
   "metadata": {},
   "outputs": [],
   "source": []
  },
  {
   "cell_type": "markdown",
   "metadata": {},
   "source": [
    "Adiciona os sócios dessas empresas"
   ]
  },
  {
   "cell_type": "code",
   "execution_count": 7,
   "metadata": {},
   "outputs": [],
   "source": [
    "empres_segur = pd.read_csv(\"empresas_seguranca.csv\",sep=',',encoding = 'utf-8', converters={'cnpj': lambda x: str(x)})"
   ]
  },
  {
   "cell_type": "code",
   "execution_count": 8,
   "metadata": {},
   "outputs": [],
   "source": [
    "segura_e_socios = pd.merge(empres_segur, socios_brasil, left_on='cnpj', right_on='cnpj')"
   ]
  },
  {
   "cell_type": "code",
   "execution_count": 9,
   "metadata": {},
   "outputs": [
    {
     "name": "stdout",
     "output_type": "stream",
     "text": [
      "<class 'pandas.core.frame.DataFrame'>\n",
      "Int64Index: 33097 entries, 0 to 33096\n",
      "Data columns (total 9 columns):\n",
      "cnpj            33097 non-null object\n",
      "nome_empresa    33097 non-null object\n",
      "estado_x        33097 non-null object\n",
      "Unnamed: 0      33097 non-null int64\n",
      "indicador       33097 non-null int64\n",
      "documento       33097 non-null object\n",
      "qualificacao    33097 non-null int64\n",
      "socio           33097 non-null object\n",
      "estado_y        33097 non-null object\n",
      "dtypes: int64(3), object(6)\n",
      "memory usage: 2.5+ MB\n"
     ]
    }
   ],
   "source": [
    "segura_e_socios.info()"
   ]
  },
  {
   "cell_type": "code",
   "execution_count": 10,
   "metadata": {},
   "outputs": [],
   "source": [
    "segura_e_socios.to_csv('empresas_seguranca_br.csv', index=False)"
   ]
  },
  {
   "cell_type": "code",
   "execution_count": null,
   "metadata": {},
   "outputs": [],
   "source": []
  },
  {
   "cell_type": "markdown",
   "metadata": {},
   "source": [
    "Seleciona apenas do RJ"
   ]
  },
  {
   "cell_type": "code",
   "execution_count": 12,
   "metadata": {},
   "outputs": [],
   "source": [
    "segura_e_socios_rj = segura_e_socios[(segura_e_socios['estado_x'] == 'Rio de Janeiro')]"
   ]
  },
  {
   "cell_type": "code",
   "execution_count": 13,
   "metadata": {},
   "outputs": [],
   "source": [
    "segura_e_socios_rj.to_csv('resultados/empresas_seguranca_rj.csv', index=False)"
   ]
  },
  {
   "cell_type": "code",
   "execution_count": null,
   "metadata": {},
   "outputs": [],
   "source": []
  }
 ],
 "metadata": {
  "kernelspec": {
   "display_name": "Python 3",
   "language": "python",
   "name": "python3"
  },
  "language_info": {
   "codemirror_mode": {
    "name": "ipython",
    "version": 3
   },
   "file_extension": ".py",
   "mimetype": "text/x-python",
   "name": "python",
   "nbconvert_exporter": "python",
   "pygments_lexer": "ipython3",
   "version": "3.6.2"
  }
 },
 "nbformat": 4,
 "nbformat_minor": 2
}
