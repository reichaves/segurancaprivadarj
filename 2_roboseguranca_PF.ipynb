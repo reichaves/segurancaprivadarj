{
 "cells": [
  {
   "cell_type": "code",
   "execution_count": 1,
   "metadata": {},
   "outputs": [],
   "source": [
    "# -*- coding: utf-8\n",
    "# The Intercept Brasil (https://theintercept.com/brasil/)\n",
    "# Reinaldo Chaves (@paidatocandeira)\n",
    "# Soma as empresas de segurança da Receita com as indicadas pela Polícia Federal\n",
    "#"
   ]
  },
  {
   "cell_type": "code",
   "execution_count": null,
   "metadata": {},
   "outputs": [],
   "source": []
  },
  {
   "cell_type": "code",
   "execution_count": 2,
   "metadata": {},
   "outputs": [],
   "source": [
    "import pandas as pd\n",
    "import unidecode"
   ]
  },
  {
   "cell_type": "code",
   "execution_count": null,
   "metadata": {},
   "outputs": [],
   "source": []
  },
  {
   "cell_type": "markdown",
   "metadata": {},
   "source": [
    "Função para retirar acentuação "
   ]
  },
  {
   "cell_type": "code",
   "execution_count": 3,
   "metadata": {},
   "outputs": [],
   "source": [
    "def f(str):\n",
    "    return (unidecode.unidecode(str))"
   ]
  },
  {
   "cell_type": "code",
   "execution_count": null,
   "metadata": {},
   "outputs": [],
   "source": []
  },
  {
   "cell_type": "markdown",
   "metadata": {},
   "source": [
    "O arquivo gerado em '1_roboseguranca_socios.ipynb' foi checado, limpo e preenchido manualmente. Carrega o resultado"
   ]
  },
  {
   "cell_type": "markdown",
   "metadata": {},
   "source": [
    "Foi decido trabalhar apenas com empresas de RIO DE JANEIRO, NOVA IGUAÇU, SÃO GONÇALO, NITERÓI, DUQUE DE CAXIAS e SÃO JOÃO DE MERITI"
   ]
  },
  {
   "cell_type": "code",
   "execution_count": 6,
   "metadata": {},
   "outputs": [],
   "source": [
    "consolidado = pd.read_excel('empresas_de_seguranca_consolidado_etapa1.xlsx', converters={'cnpj': lambda x: str(x), 'numero_logradouro': lambda x: str(x), 'complemento': lambda x: str(x)} )"
   ]
  },
  {
   "cell_type": "code",
   "execution_count": 7,
   "metadata": {},
   "outputs": [
    {
     "name": "stdout",
     "output_type": "stream",
     "text": [
      "<class 'pandas.core.frame.DataFrame'>\n",
      "RangeIndex: 1224 entries, 0 to 1223\n",
      "Data columns (total 25 columns):\n",
      "cnpj                                1224 non-null object\n",
      "CNAE_principal                      1134 non-null object\n",
      "nome_empresa                        1224 non-null object\n",
      "nome_empresa_maiuscula_minuscula    999 non-null object\n",
      "estado                              999 non-null object\n",
      "indicador                           1145 non-null float64\n",
      "documento                           1145 non-null object\n",
      "qualificacao                        1145 non-null object\n",
      "socio                               1148 non-null object\n",
      "socio_maiuscula_minuscula           1002 non-null object\n",
      "data_abertura                       1216 non-null object\n",
      "logradouro                          1153 non-null object\n",
      "numero_logradouro                   1153 non-null object\n",
      "complemento                         644 non-null object\n",
      "cep                                 938 non-null object\n",
      "bairro                              1204 non-null object\n",
      "municipio                           1224 non-null object\n",
      "regiao                              231 non-null object\n",
      "telefone                            764 non-null object\n",
      "email                               344 non-null object\n",
      "situacao                            1224 non-null object\n",
      "data_situacao_baixa                 434 non-null object\n",
      "capital_social                      856 non-null object\n",
      "cargo_relacionado_socio             190 non-null object\n",
      "observacao                          326 non-null object\n",
      "dtypes: float64(1), object(24)\n",
      "memory usage: 239.1+ KB\n"
     ]
    }
   ],
   "source": [
    "consolidado.info()"
   ]
  },
  {
   "cell_type": "code",
   "execution_count": null,
   "metadata": {},
   "outputs": [],
   "source": []
  },
  {
   "cell_type": "markdown",
   "metadata": {},
   "source": [
    "Função para preencher zeros à esquerda"
   ]
  },
  {
   "cell_type": "code",
   "execution_count": 8,
   "metadata": {},
   "outputs": [],
   "source": [
    "def compara2(linha):\n",
    "    if len(linha['cnpj']) < 14:\n",
    "        conta = 14 - (len(linha['cnpj']))\n",
    "        zero = '0'\n",
    "        zeros = zero * conta\n",
    "        alterado = zeros + linha['cnpj']\n",
    "    else:\n",
    "        alterado = linha['cnpj']\n",
    "    return alterado"
   ]
  },
  {
   "cell_type": "code",
   "execution_count": 9,
   "metadata": {},
   "outputs": [],
   "source": [
    "nova = consolidado.apply(compara2, axis=1) #lê dataframe e chama a função\n",
    "\n",
    "consolidado['cnpj_inteiro'] = nova "
   ]
  },
  {
   "cell_type": "code",
   "execution_count": null,
   "metadata": {},
   "outputs": [],
   "source": []
  },
  {
   "cell_type": "markdown",
   "metadata": {},
   "source": [
    "Filtra apenas empresas de seguranca privada que tenham sócios ou administradores vindo de forças de segurança"
   ]
  },
  {
   "cell_type": "code",
   "execution_count": 10,
   "metadata": {},
   "outputs": [],
   "source": [
    "policiais = consolidado[(consolidado['cargo_relacionado_socio'] == 'Policia Civil') | \n",
    "                        (consolidado['cargo_relacionado_socio'] == 'Policia Militar') | \n",
    "                        (consolidado['cargo_relacionado_socio'] == 'Marinha') | \n",
    "                        (consolidado['cargo_relacionado_socio'] == 'Bombeiros') | \n",
    "                        (consolidado['cargo_relacionado_socio'] == 'Secretario de Seguranca') | \n",
    "                        (consolidado['cargo_relacionado_socio'] == 'Exercito') | \n",
    "                        (consolidado['cargo_relacionado_socio'] == 'Administracao Penitenciaria') | \n",
    "                        (consolidado['cargo_relacionado_socio'] == 'Aeronautica')]"
   ]
  },
  {
   "cell_type": "code",
   "execution_count": 11,
   "metadata": {},
   "outputs": [
    {
     "name": "stdout",
     "output_type": "stream",
     "text": [
      "<class 'pandas.core.frame.DataFrame'>\n",
      "Int64Index: 140 entries, 8 to 1222\n",
      "Data columns (total 26 columns):\n",
      "cnpj                                140 non-null object\n",
      "CNAE_principal                      124 non-null object\n",
      "nome_empresa                        140 non-null object\n",
      "nome_empresa_maiuscula_minuscula    117 non-null object\n",
      "estado                              117 non-null object\n",
      "indicador                           133 non-null float64\n",
      "documento                           133 non-null object\n",
      "qualificacao                        133 non-null object\n",
      "socio                               135 non-null object\n",
      "socio_maiuscula_minuscula           120 non-null object\n",
      "data_abertura                       139 non-null object\n",
      "logradouro                          131 non-null object\n",
      "numero_logradouro                   131 non-null object\n",
      "complemento                         75 non-null object\n",
      "cep                                 94 non-null object\n",
      "bairro                              140 non-null object\n",
      "municipio                           140 non-null object\n",
      "regiao                              26 non-null object\n",
      "telefone                            80 non-null object\n",
      "email                               39 non-null object\n",
      "situacao                            140 non-null object\n",
      "data_situacao_baixa                 53 non-null object\n",
      "capital_social                      105 non-null object\n",
      "cargo_relacionado_socio             140 non-null object\n",
      "observacao                          140 non-null object\n",
      "cnpj_inteiro                        140 non-null object\n",
      "dtypes: float64(1), object(25)\n",
      "memory usage: 29.5+ KB\n"
     ]
    }
   ],
   "source": [
    "policiais.info()"
   ]
  },
  {
   "cell_type": "code",
   "execution_count": 40,
   "metadata": {},
   "outputs": [],
   "source": [
    "policiais.to_csv('empresas_policiais_e_cia.csv', index=False)"
   ]
  },
  {
   "cell_type": "code",
   "execution_count": null,
   "metadata": {},
   "outputs": [],
   "source": []
  },
  {
   "cell_type": "markdown",
   "metadata": {},
   "source": [
    "# PF"
   ]
  },
  {
   "cell_type": "markdown",
   "metadata": {},
   "source": [
    "No Brasil as empresas de segurança privada precisam de registro na Polícia Federal para funcionarem. Conseguimos essa lista de empresas com a PF"
   ]
  },
  {
   "cell_type": "code",
   "execution_count": 13,
   "metadata": {},
   "outputs": [],
   "source": [
    "lista_pf = pd.read_csv('empresas_seg_br_mar18_pf.csv', sep=',',encoding = 'utf-8', converters={'CNPJ': lambda x: str(x)} )"
   ]
  },
  {
   "cell_type": "code",
   "execution_count": 14,
   "metadata": {},
   "outputs": [],
   "source": [
    "def compara(linha):\n",
    "    if len(linha['CNPJ']) < 14:\n",
    "        conta = 14 - (len(linha['CNPJ']))\n",
    "        zero = '0'\n",
    "        zeros = zero * conta\n",
    "        alterado = zeros + linha['CNPJ'] \n",
    "    else:\n",
    "        alterado = linha['CNPJ'] \n",
    "    return alterado\n",
    "\n",
    "nova = lista_pf.apply(compara, axis=1) #lê dataframe e chama a função\n",
    "lista_pf['cnpj_inteiro'] = nova # adiciona coluna com os resultados ao dataframe"
   ]
  },
  {
   "cell_type": "markdown",
   "metadata": {},
   "source": [
    "Seleciona apenas as do RJ"
   ]
  },
  {
   "cell_type": "code",
   "execution_count": 15,
   "metadata": {},
   "outputs": [],
   "source": [
    "lista_pf_rj = lista_pf[(lista_pf['Agrupamento'] == 'RJ')]"
   ]
  },
  {
   "cell_type": "code",
   "execution_count": 16,
   "metadata": {},
   "outputs": [
    {
     "data": {
      "text/plain": [
       "336"
      ]
     },
     "execution_count": 16,
     "metadata": {},
     "output_type": "execute_result"
    }
   ],
   "source": [
    "conta_cnpj = len(lista_pf_rj['CNPJ'].value_counts())\n",
    "conta_cnpj"
   ]
  },
  {
   "cell_type": "markdown",
   "metadata": {},
   "source": [
    "Filtra por cidades"
   ]
  },
  {
   "cell_type": "code",
   "execution_count": 17,
   "metadata": {},
   "outputs": [],
   "source": [
    "lista_pf_rj = lista_pf_rj[(lista_pf_rj['Município'] == 'RIO DE JANEIRO') |\n",
    "                          (lista_pf_rj['Município'] == 'NOVA IGUAÇU') | \n",
    "                          (lista_pf_rj['Município'] == 'SÃO GONÇALO') | \n",
    "                          (lista_pf_rj['Município'] == 'NITERÓI') | \n",
    "                          (lista_pf_rj['Município'] == 'DUQUE DE CAXIAS') | \n",
    "                          (lista_pf_rj['Município'] == 'SÃO JOÃO DE MERITI')]"
   ]
  },
  {
   "cell_type": "code",
   "execution_count": 18,
   "metadata": {},
   "outputs": [
    {
     "name": "stdout",
     "output_type": "stream",
     "text": [
      "<class 'pandas.core.frame.DataFrame'>\n",
      "Int64Index: 259 entries, 2920 to 3269\n",
      "Data columns (total 13 columns):\n",
      "Agrupamento            259 non-null object\n",
      "Grupo                  259 non-null object\n",
      "Tipo                   259 non-null object\n",
      "CNPJ                   259 non-null object\n",
      "Razão Social           259 non-null object\n",
      "E-Mail                 256 non-null object\n",
      "Município              259 non-null object\n",
      "UF                     259 non-null object\n",
      "Nível                  259 non-null object\n",
      "Tipo de Empresa        183 non-null object\n",
      "Tipos de Atividades    259 non-null object\n",
      "Situação               259 non-null object\n",
      "cnpj_inteiro           259 non-null object\n",
      "dtypes: object(13)\n",
      "memory usage: 28.3+ KB\n"
     ]
    }
   ],
   "source": [
    "lista_pf_rj.info()"
   ]
  },
  {
   "cell_type": "code",
   "execution_count": null,
   "metadata": {},
   "outputs": [],
   "source": []
  },
  {
   "cell_type": "markdown",
   "metadata": {},
   "source": [
    "Cruza a lista policiais, que veio da Receita, com a a lista da PF. Isso vai permitir acrescentar as empresas que possam ter ficado de fora na pesquisa na base da Receita"
   ]
  },
  {
   "cell_type": "code",
   "execution_count": 22,
   "metadata": {},
   "outputs": [],
   "source": [
    "encontrados = pd.merge(policiais, lista_pf_rj, left_on='cnpj_inteiro', right_on='cnpj_inteiro')"
   ]
  },
  {
   "cell_type": "code",
   "execution_count": 23,
   "metadata": {},
   "outputs": [
    {
     "name": "stdout",
     "output_type": "stream",
     "text": [
      "<class 'pandas.core.frame.DataFrame'>\n",
      "Int64Index: 31 entries, 0 to 30\n",
      "Data columns (total 38 columns):\n",
      "cnpj                                31 non-null object\n",
      "CNAE_principal                      31 non-null object\n",
      "nome_empresa                        31 non-null object\n",
      "nome_empresa_maiuscula_minuscula    30 non-null object\n",
      "estado                              30 non-null object\n",
      "indicador                           30 non-null float64\n",
      "documento                           30 non-null object\n",
      "qualificacao                        30 non-null object\n",
      "socio                               30 non-null object\n",
      "socio_maiuscula_minuscula           31 non-null object\n",
      "data_abertura                       31 non-null object\n",
      "logradouro                          29 non-null object\n",
      "numero_logradouro                   29 non-null object\n",
      "complemento                         6 non-null object\n",
      "cep                                 20 non-null object\n",
      "bairro                              31 non-null object\n",
      "municipio                           31 non-null object\n",
      "regiao                              4 non-null object\n",
      "telefone                            16 non-null object\n",
      "email                               9 non-null object\n",
      "situacao                            31 non-null object\n",
      "data_situacao_baixa                 11 non-null object\n",
      "capital_social                      25 non-null object\n",
      "cargo_relacionado_socio             31 non-null object\n",
      "observacao                          31 non-null object\n",
      "cnpj_inteiro                        31 non-null object\n",
      "Agrupamento                         31 non-null object\n",
      "Grupo                               31 non-null object\n",
      "Tipo                                31 non-null object\n",
      "CNPJ                                31 non-null object\n",
      "Razão Social                        31 non-null object\n",
      "E-Mail                              31 non-null object\n",
      "Município                           31 non-null object\n",
      "UF                                  31 non-null object\n",
      "Nível                               31 non-null object\n",
      "Tipo de Empresa                     31 non-null object\n",
      "Tipos de Atividades                 31 non-null object\n",
      "Situação                            31 non-null object\n",
      "dtypes: float64(1), object(37)\n",
      "memory usage: 9.4+ KB\n"
     ]
    }
   ],
   "source": [
    "encontrados.info()"
   ]
  },
  {
   "cell_type": "code",
   "execution_count": 21,
   "metadata": {},
   "outputs": [],
   "source": [
    "encontrados.to_csv('encontrados_lista_pf_consolidado.csv', index=False)"
   ]
  },
  {
   "cell_type": "code",
   "execution_count": null,
   "metadata": {},
   "outputs": [],
   "source": []
  },
  {
   "cell_type": "code",
   "execution_count": 28,
   "metadata": {},
   "outputs": [
    {
     "name": "stdout",
     "output_type": "stream",
     "text": [
      "<class 'pandas.core.frame.DataFrame'>\n",
      "Int64Index: 236 entries, 140 to 375\n",
      "Data columns (total 38 columns):\n",
      "cnpj                                0 non-null object\n",
      "CNAE_principal                      0 non-null object\n",
      "nome_empresa                        0 non-null object\n",
      "nome_empresa_maiuscula_minuscula    0 non-null object\n",
      "estado                              0 non-null object\n",
      "indicador                           0 non-null float64\n",
      "documento                           0 non-null object\n",
      "qualificacao                        0 non-null object\n",
      "socio                               0 non-null object\n",
      "socio_maiuscula_minuscula           0 non-null object\n",
      "data_abertura                       0 non-null object\n",
      "logradouro                          0 non-null object\n",
      "numero_logradouro                   0 non-null object\n",
      "complemento                         0 non-null object\n",
      "cep                                 0 non-null object\n",
      "bairro                              0 non-null object\n",
      "municipio                           0 non-null object\n",
      "regiao                              0 non-null object\n",
      "telefone                            0 non-null object\n",
      "email                               0 non-null object\n",
      "situacao                            0 non-null object\n",
      "data_situacao_baixa                 0 non-null object\n",
      "capital_social                      0 non-null object\n",
      "cargo_relacionado_socio             0 non-null object\n",
      "observacao                          0 non-null object\n",
      "cnpj_inteiro                        236 non-null object\n",
      "Agrupamento                         236 non-null object\n",
      "Grupo                               236 non-null object\n",
      "Tipo                                236 non-null object\n",
      "CNPJ                                236 non-null object\n",
      "Razão Social                        236 non-null object\n",
      "E-Mail                              233 non-null object\n",
      "Município                           236 non-null object\n",
      "UF                                  236 non-null object\n",
      "Nível                               236 non-null object\n",
      "Tipo de Empresa                     160 non-null object\n",
      "Tipos de Atividades                 236 non-null object\n",
      "Situação                            236 non-null object\n",
      "dtypes: float64(1), object(37)\n",
      "memory usage: 71.9+ KB\n"
     ]
    },
    {
     "data": {
      "text/plain": [
       "140     5014372000190\n",
       "141    15454089000133\n",
       "142     2841990000116\n",
       "143    16599942000178\n",
       "144     7028291000256\n",
       "Name: CNPJ, dtype: object"
      ]
     },
     "execution_count": 28,
     "metadata": {},
     "output_type": "execute_result"
    }
   ],
   "source": [
    "nomes_naoencontrados = pd.merge(policiais, \n",
    "                        lista_pf_rj, \n",
    "                        left_on='cnpj_inteiro', \n",
    "                        right_on='cnpj_inteiro',\n",
    "                        how='outer',\n",
    "                        indicator=True)\n",
    "\n",
    "rdf = nomes_naoencontrados.query(\"_merge == 'right_only'\").drop('_merge',axis=1)\n",
    "\n",
    "rdf.info()\n",
    "rdf.CNPJ.head()"
   ]
  },
  {
   "cell_type": "code",
   "execution_count": 27,
   "metadata": {},
   "outputs": [],
   "source": [
    "rdf.to_csv('naoencontrados_lista_pf_consolidado.csv', index=False)"
   ]
  },
  {
   "cell_type": "markdown",
   "metadata": {},
   "source": [
    "Esses CNPJs não encontrados serão checados manualmente da mesma forma no site da Receita e serão depois inseridos na lista consolidado"
   ]
  },
  {
   "cell_type": "code",
   "execution_count": null,
   "metadata": {},
   "outputs": [],
   "source": []
  }
 ],
 "metadata": {
  "kernelspec": {
   "display_name": "Python 3",
   "language": "python",
   "name": "python3"
  },
  "language_info": {
   "codemirror_mode": {
    "name": "ipython",
    "version": 3
   },
   "file_extension": ".py",
   "mimetype": "text/x-python",
   "name": "python",
   "nbconvert_exporter": "python",
   "pygments_lexer": "ipython3",
   "version": "3.6.2"
  }
 },
 "nbformat": 4,
 "nbformat_minor": 2
}
