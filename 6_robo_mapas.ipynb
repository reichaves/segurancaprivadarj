{
 "cells": [
  {
   "cell_type": "code",
   "execution_count": 1,
   "metadata": {},
   "outputs": [],
   "source": [
    "# -*- coding: utf-8\n",
    "# The Intercept Brasil (https://theintercept.com/brasil/)\n",
    "# Reinaldo Chaves (@paidatocandeira)\n",
    "# A partir dos endereços de empresas gera latitude e longitude para armazenar e baixa imagens do Google Street View\n",
    "#"
   ]
  },
  {
   "cell_type": "code",
   "execution_count": null,
   "metadata": {},
   "outputs": [],
   "source": []
  },
  {
   "cell_type": "code",
   "execution_count": 1,
   "metadata": {},
   "outputs": [],
   "source": [
    "import pandas as pd\n",
    "import googlemaps\n",
    "from datetime import datetime\n",
    "import google_streetview.api\n",
    "import os"
   ]
  },
  {
   "cell_type": "code",
   "execution_count": null,
   "metadata": {},
   "outputs": [],
   "source": []
  },
  {
   "cell_type": "markdown",
   "metadata": {},
   "source": [
    "Função para checar tamanho de CNPJ"
   ]
  },
  {
   "cell_type": "code",
   "execution_count": 11,
   "metadata": {},
   "outputs": [],
   "source": [
    "def compara(linha):\n",
    "    if len(linha['cnpj']) < 14:\n",
    "        conta = 14 - (len(linha['cnpj']))\n",
    "        zero = '0'\n",
    "        zeros = zero * conta\n",
    "        alterado = zeros + linha['cnpj']\n",
    "    else:\n",
    "        alterado = linha['cnpj']\n",
    "    return alterado"
   ]
  },
  {
   "cell_type": "code",
   "execution_count": null,
   "metadata": {},
   "outputs": [],
   "source": []
  },
  {
   "cell_type": "markdown",
   "metadata": {},
   "source": [
    "Locais para chaves do Google:\n",
    "https://developers.google.com/maps/documentation/javascript/get-api-key \n",
    "\n",
    "https://developers.google.com/maps/documentation/streetview/get-api-key"
   ]
  },
  {
   "cell_type": "code",
   "execution_count": null,
   "metadata": {},
   "outputs": [],
   "source": []
  },
  {
   "cell_type": "markdown",
   "metadata": {},
   "source": [
    "## Testes"
   ]
  },
  {
   "cell_type": "code",
   "execution_count": 2,
   "metadata": {},
   "outputs": [],
   "source": [
    "gmaps = googlemaps.Client(key='')"
   ]
  },
  {
   "cell_type": "code",
   "execution_count": null,
   "metadata": {},
   "outputs": [],
   "source": []
  },
  {
   "cell_type": "markdown",
   "metadata": {},
   "source": [
    "Geocodificando um endereço"
   ]
  },
  {
   "cell_type": "code",
   "execution_count": 14,
   "metadata": {},
   "outputs": [],
   "source": [
    "geocode_result = gmaps.geocode('Rua Afonso Cavalcanti, 455 - Cidade Nova, Rio de Janeiro')\n",
    "#geocode_result = gmaps.geocode('Viaduto do Chá, 15, São Paulo')"
   ]
  },
  {
   "cell_type": "code",
   "execution_count": null,
   "metadata": {},
   "outputs": [],
   "source": []
  },
  {
   "cell_type": "code",
   "execution_count": 15,
   "metadata": {},
   "outputs": [
    {
     "data": {
      "text/plain": [
       "[{'address_components': [{'long_name': '455',\n",
       "    'short_name': '455',\n",
       "    'types': ['street_number']},\n",
       "   {'long_name': 'Rua Afonso Cavalcanti',\n",
       "    'short_name': 'R. Afonso Cavalcanti',\n",
       "    'types': ['route']},\n",
       "   {'long_name': 'Cidade Nova',\n",
       "    'short_name': 'Cidade Nova',\n",
       "    'types': ['political', 'sublocality', 'sublocality_level_1']},\n",
       "   {'long_name': 'Rio de Janeiro',\n",
       "    'short_name': 'Rio de Janeiro',\n",
       "    'types': ['administrative_area_level_2', 'political']},\n",
       "   {'long_name': 'Rio de Janeiro',\n",
       "    'short_name': 'RJ',\n",
       "    'types': ['administrative_area_level_1', 'political']},\n",
       "   {'long_name': 'Brazil',\n",
       "    'short_name': 'BR',\n",
       "    'types': ['country', 'political']},\n",
       "   {'long_name': '20211-110',\n",
       "    'short_name': '20211-110',\n",
       "    'types': ['postal_code']}],\n",
       "  'formatted_address': 'R. Afonso Cavalcanti, 455 - Cidade Nova, Rio de Janeiro - RJ, 20211-110, Brazil',\n",
       "  'geometry': {'location': {'lat': -22.9112524, 'lng': -43.2056333},\n",
       "   'location_type': 'ROOFTOP',\n",
       "   'viewport': {'northeast': {'lat': -22.9099034197085,\n",
       "     'lng': -43.20428431970849},\n",
       "    'southwest': {'lat': -22.9126013802915, 'lng': -43.20698228029149}}},\n",
       "  'place_id': 'ChIJyTIJeAZ_mQARYQVtFjpcCZ4',\n",
       "  'types': ['street_address']}]"
      ]
     },
     "execution_count": 15,
     "metadata": {},
     "output_type": "execute_result"
    }
   ],
   "source": [
    "geocode_result"
   ]
  },
  {
   "cell_type": "code",
   "execution_count": null,
   "metadata": {},
   "outputs": [],
   "source": []
  },
  {
   "cell_type": "code",
   "execution_count": 16,
   "metadata": {},
   "outputs": [],
   "source": [
    "lat = geocode_result[0]['geometry']['location']['lat']"
   ]
  },
  {
   "cell_type": "code",
   "execution_count": 17,
   "metadata": {},
   "outputs": [
    {
     "data": {
      "text/plain": [
       "-22.9112524"
      ]
     },
     "execution_count": 17,
     "metadata": {},
     "output_type": "execute_result"
    }
   ],
   "source": [
    "lat"
   ]
  },
  {
   "cell_type": "code",
   "execution_count": 18,
   "metadata": {},
   "outputs": [],
   "source": [
    "lng = geocode_result[0]['geometry']['location']['lng']"
   ]
  },
  {
   "cell_type": "code",
   "execution_count": 19,
   "metadata": {},
   "outputs": [
    {
     "data": {
      "text/plain": [
       "-43.2056333"
      ]
     },
     "execution_count": 19,
     "metadata": {},
     "output_type": "execute_result"
    }
   ],
   "source": [
    "lng"
   ]
  },
  {
   "cell_type": "code",
   "execution_count": null,
   "metadata": {},
   "outputs": [],
   "source": []
  },
  {
   "cell_type": "markdown",
   "metadata": {},
   "source": [
    "Definir parâmetros para o street view api"
   ]
  },
  {
   "cell_type": "code",
   "execution_count": 20,
   "metadata": {},
   "outputs": [],
   "source": [
    "params = [{\n",
    "  'size': '600x300', # max 640x640 pixels\n",
    "  'location': str(lat)+\",\"+str(lng),\n",
    "  'heading': '0;90;180;270',\n",
    "  'pitch': '-0.76',\n",
    "  'key': ''\n",
    "}]"
   ]
  },
  {
   "cell_type": "code",
   "execution_count": null,
   "metadata": {},
   "outputs": [],
   "source": []
  },
  {
   "cell_type": "markdown",
   "metadata": {},
   "source": [
    "Cria um objeto de resultados"
   ]
  },
  {
   "cell_type": "code",
   "execution_count": 21,
   "metadata": {},
   "outputs": [],
   "source": [
    "results = google_streetview.api.results(params)"
   ]
  },
  {
   "cell_type": "code",
   "execution_count": null,
   "metadata": {},
   "outputs": [],
   "source": []
  },
  {
   "cell_type": "markdown",
   "metadata": {},
   "source": [
    "Download da imagem para diretório 'downloads'"
   ]
  },
  {
   "cell_type": "code",
   "execution_count": 22,
   "metadata": {},
   "outputs": [],
   "source": [
    "results.download_links('downloads')"
   ]
  },
  {
   "cell_type": "code",
   "execution_count": null,
   "metadata": {},
   "outputs": [],
   "source": []
  },
  {
   "cell_type": "markdown",
   "metadata": {},
   "source": [
    "Renomeia o arquivo"
   ]
  },
  {
   "cell_type": "code",
   "execution_count": 23,
   "metadata": {},
   "outputs": [],
   "source": [
    "novo = \"downloads/novo1\" + \".jpg\""
   ]
  },
  {
   "cell_type": "code",
   "execution_count": 24,
   "metadata": {},
   "outputs": [],
   "source": [
    "os.rename(\"downloads/gsv_0.jpg\", novo)"
   ]
  },
  {
   "cell_type": "code",
   "execution_count": null,
   "metadata": {},
   "outputs": [],
   "source": []
  },
  {
   "cell_type": "code",
   "execution_count": null,
   "metadata": {},
   "outputs": [],
   "source": []
  },
  {
   "cell_type": "markdown",
   "metadata": {},
   "source": [
    "# Procura empresas de segurança para fazer o mesmo processo"
   ]
  },
  {
   "cell_type": "code",
   "execution_count": 4,
   "metadata": {},
   "outputs": [],
   "source": [
    "def mapas_img(cnpj, address, empresa, completo):\n",
    "    try:\n",
    "        geocode_result = gmaps.geocode(address)\n",
    "    except:\n",
    "        print(\"Erro em: \", cnpj)\n",
    "        return\n",
    "\n",
    "    try:\n",
    "        lat = geocode_result[0]['geometry']['location']['lat']\n",
    "    except:\n",
    "        print(\"Erro em: \", cnpj)\n",
    "        return\n",
    "\n",
    "    try:\n",
    "        lng = geocode_result[0]['geometry']['location']['lng']\n",
    "    except:\n",
    "        print(\"Erro em: \", cnpj)\n",
    "        return\n",
    "\n",
    "    new_df.append({'cnpj': cnpj, 'nome_empresa': empresa, 'latitude': lat, 'longitude': lng})\n",
    "\n",
    "    # Define parameters for street view api\n",
    "    params = [{\n",
    "      'size': '600x300', # max 640x640 pixels\n",
    "      'location': str(lat)+\",\"+str(lng),\n",
    "      'heading': '0;90;180;270',\n",
    "      'pitch': '-0.76',\n",
    "      'key': ''\n",
    "            }]\n",
    "\n",
    "    # Create a results object\n",
    "    results = google_streetview.api.results(params)\n",
    "\n",
    "    # Download images to directory 'downloads'\n",
    "    results.download_links('downloads' + \"/\" + cnpj + \"_\" + empresa)\n",
    "\n",
    "    # Novo nome\n",
    "    #novo = \"downloads/\" + \"cnpj_\" + cnpj + \".jpg\"\n",
    "    #os.rename(\"downloads/gsv_0.jpg\", novo)\n",
    "\n",
    "    nome = \"endereco.txt\"\n",
    "\n",
    "    with open(\"downloads/\" + \"/\" + cnpj + \"_\" + empresa + \"/\" + nome, \"a\") as arq:\n",
    "              arq.write(completo)\n",
    "\n",
    "    return"
   ]
  },
  {
   "cell_type": "code",
   "execution_count": null,
   "metadata": {},
   "outputs": [],
   "source": []
  },
  {
   "cell_type": "code",
   "execution_count": null,
   "metadata": {},
   "outputs": [],
   "source": [
    "gmaps = googlemaps.Client(key='')\n",
    "\n",
    "policiais = pd.read_csv(\"policiais_consolidado.csv\",sep=',',encoding = 'utf-8', converters={'cnpj': lambda x: str(x)})\n",
    "policiais = policiais[(policiais['municipio'] == 'DUQUE DE CAXIAS') | (policiais['municipio'] == 'NITEROI') | (policiais['municipio'] == 'NOVA IGUACU') |  (policiais['municipio'] == 'RIO DE JANEIRO') | (policiais['municipio'] == 'SAO GONCALO') | (policiais['municipio'] == 'SAO JOAO DE MERITI')]\n",
    "\n",
    "new_df = []\n",
    "compara =  ''\n",
    "for num, row in policiais.iterrows():\n",
    "    cnpj = row['cnpj']\n",
    "    if cnpj != compara:\n",
    "        address = row['logradouro'] + \", \" + str(row['numero_logradouro']) + \", \" + \", \" + row['municipio']\n",
    "        completo = row['logradouro'] + \", \" + str(row['numero_logradouro']) + \", \" + str(row['complemento']) + \", \" + row['bairro'] + \", \" + row['municipio']\n",
    "        print(address)\n",
    "        empresa = row['nome_empresa'].strip()\n",
    "        mapas_img(cnpj, address, empresa, completo)\n",
    "        compara = row['cnpj']"
   ]
  },
  {
   "cell_type": "code",
   "execution_count": null,
   "metadata": {},
   "outputs": [],
   "source": []
  },
  {
   "cell_type": "code",
   "execution_count": 6,
   "metadata": {},
   "outputs": [],
   "source": [
    "df_localizacao1 = pd.DataFrame(new_df, columns = ['cnpj', 'latitude', 'longitude'])"
   ]
  },
  {
   "cell_type": "code",
   "execution_count": 7,
   "metadata": {},
   "outputs": [
    {
     "name": "stdout",
     "output_type": "stream",
     "text": [
      "<class 'pandas.core.frame.DataFrame'>\n",
      "RangeIndex: 159 entries, 0 to 158\n",
      "Data columns (total 3 columns):\n",
      "cnpj         159 non-null object\n",
      "latitude     159 non-null float64\n",
      "longitude    159 non-null float64\n",
      "dtypes: float64(2), object(1)\n",
      "memory usage: 3.8+ KB\n"
     ]
    }
   ],
   "source": [
    "df_localizacao1.info()"
   ]
  },
  {
   "cell_type": "code",
   "execution_count": null,
   "metadata": {},
   "outputs": [],
   "source": []
  },
  {
   "cell_type": "code",
   "execution_count": 8,
   "metadata": {},
   "outputs": [],
   "source": [
    "df_localizacao1.to_csv('localizacoes_empresas_policiais.csv', index=False)"
   ]
  },
  {
   "cell_type": "code",
   "execution_count": 9,
   "metadata": {},
   "outputs": [],
   "source": [
    "loca_empre = pd.read_csv(\"localizacoes_empresas_policiais.csv\",sep=',',encoding = 'utf-8', converters={'cnpj': lambda x: str(x)})"
   ]
  },
  {
   "cell_type": "code",
   "execution_count": null,
   "metadata": {},
   "outputs": [],
   "source": []
  },
  {
   "cell_type": "markdown",
   "metadata": {},
   "source": [
    "Prepara arquivo para o CARTO"
   ]
  },
  {
   "cell_type": "code",
   "execution_count": 10,
   "metadata": {},
   "outputs": [],
   "source": [
    "carto = pd.merge(policiais.drop_duplicates('cnpj'), loca_empre, left_on='cnpj', right_on='cnpj')"
   ]
  },
  {
   "cell_type": "code",
   "execution_count": 11,
   "metadata": {},
   "outputs": [
    {
     "name": "stdout",
     "output_type": "stream",
     "text": [
      "<class 'pandas.core.frame.DataFrame'>\n",
      "Int64Index: 159 entries, 0 to 158\n",
      "Data columns (total 32 columns):\n",
      "cnpj                                159 non-null object\n",
      "CNAE_principal                      149 non-null object\n",
      "nome_empresa                        159 non-null object\n",
      "nome_empresa_maiuscula_minuscula    131 non-null object\n",
      "estado                              131 non-null object\n",
      "indicador                           150 non-null float64\n",
      "documento                           150 non-null object\n",
      "qualificacao                        150 non-null object\n",
      "socio                               153 non-null object\n",
      "socio_maiuscula_minuscula           134 non-null object\n",
      "data_abertura                       159 non-null object\n",
      "logradouro                          159 non-null object\n",
      "numero_logradouro                   159 non-null object\n",
      "complemento                         89 non-null object\n",
      "cep                                 114 non-null object\n",
      "bairro                              159 non-null object\n",
      "municipio                           159 non-null object\n",
      "regiao                              112 non-null object\n",
      "telefone                            95 non-null object\n",
      "email                               52 non-null object\n",
      "situacao                            159 non-null object\n",
      "data_situacao_baixa                 60 non-null object\n",
      "capital_social                      121 non-null object\n",
      "Unnamed: 23                         2 non-null object\n",
      "cargo_relacionado_socio             159 non-null object\n",
      "observacao                          157 non-null object\n",
      "situacao_funcional                  147 non-null object\n",
      "sede_situacao                       112 non-null object\n",
      "armas_autorizadas                   1 non-null object\n",
      "autorizacao_pf                      37 non-null object\n",
      "latitude                            159 non-null float64\n",
      "longitude                           159 non-null float64\n",
      "dtypes: float64(3), object(29)\n",
      "memory usage: 41.0+ KB\n"
     ]
    }
   ],
   "source": [
    "carto.info()"
   ]
  },
  {
   "cell_type": "code",
   "execution_count": 12,
   "metadata": {},
   "outputs": [],
   "source": [
    "carto.to_csv('arquivo_carto.csv', index=False)"
   ]
  },
  {
   "cell_type": "code",
   "execution_count": null,
   "metadata": {},
   "outputs": [],
   "source": []
  }
 ],
 "metadata": {
  "kernelspec": {
   "display_name": "Python 3",
   "language": "python",
   "name": "python3"
  },
  "language_info": {
   "codemirror_mode": {
    "name": "ipython",
    "version": 3
   },
   "file_extension": ".py",
   "mimetype": "text/x-python",
   "name": "python",
   "nbconvert_exporter": "python",
   "pygments_lexer": "ipython3",
   "version": "3.6.2"
  }
 },
 "nbformat": 4,
 "nbformat_minor": 2
}
